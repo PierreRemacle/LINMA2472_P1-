{
  "cells": [
    {
      "cell_type": "markdown",
      "id": "weighted-bhutan",
      "metadata": {
        "id": "weighted-bhutan"
      },
      "source": [
        "\n",
        "# LINMA2472 - Algorithms in Data Science\n",
        "# Homework 3: GAN and CNN to conquer MNIST\n",
        "# Part 1: Implementation\n",
        "Bastien Massion - bastien.massion@uclouvain.be\n",
        "\n",
        "12 November 2022 - v2"
      ]
    },
    {
      "cell_type": "markdown",
      "id": "current-airfare",
      "metadata": {
        "id": "current-airfare"
      },
      "source": [
        "## Guidelines\n",
        "This homework is done in Python, using the PyTorch library for neural networks. \n",
        "\n",
        "The homework is divided in 2 parts, this Notebook is the assignment for part 1. The second part will become available next week. The goal of the homework is to use a GAN for generating handwritten numbers (and letters) and a CNN to classify them. This first part is dedicated to the implementation, the second part will focus on analyzing and using the neural networks.\n",
        "\n",
        "The exact instructions for the report will come with the second part. However, every task asked in this Notebook will be useful, so get ahead!\n",
        "\n",
        "As for the previous homeworks, you are making groups of 3, in the Moodle activity \"Group choice for assignment 3\".\n",
        "\n",
        "The deadline for the whole homework is: 30 November 2022, 23:59.\n",
        "\n",
        "Your questions should be posted on the dedicated Moodle \"Class forum\" or sent directly to the mail address: bastien.massion@uclouvain.be."
      ]
    },
    {
      "cell_type": "markdown",
      "id": "comparative-joyce",
      "metadata": {
        "id": "comparative-joyce"
      },
      "source": [
        "## Introduction\n",
        "Since their introduction in 2014 by Goodfellow et al., Generative Adversarial Networks (GAN) have taken a predominant place in the deep learning landscape. GANs are deep neural networks composed of two parts: a generator and a discriminator. Those two parts are trained as opponents (hence \"adversarial\"): from the dataset, the generator tries to create new fake data that can fool the discriminator into thinking they are real, while the discriminator tries to distinguish between true and fake data. Often, the most interesting part of this model is the generator, therefore we often refer to GANs as generative models (even if they are also discriminative models). This generative property is used in a lot of applications: mainly for image processing task (style transfer, segmentation, face generation, image inpainting, deblurring, super-resolution,...), but also for natural language processing tasks (text summarization, text generation,...), for music generation or even for medical tasks (tumor detection).\n",
        "\n",
        "Another powerful architecture is Convolutional Neural Networks (CNN). CNNs naturally exploit invariances that are present in data (such that translation in images) in order, for example, to classify them. This is done by applying successive convolutions on data in order to extract the main features. Together with the backpropagation algorithm, the invention of CNN marked the revival of neural networks and deep learning in the 90's. Since then, they have found plenty of applications, mostly in image processing tasks.\n",
        "\n",
        "The goal of this homework in two parts is to implement your first GAN as well as your first CNN, to explore some properties and finally to combine them in order to generate what you desire."
      ]
    },
    {
      "cell_type": "markdown",
      "id": "attached-nothing",
      "metadata": {
        "id": "attached-nothing"
      },
      "source": [
        "## Packages import\n",
        "You will need several packages in order to successfully build, train and use your neural networks. \n",
        "\n",
        "The following packages are necessary and should not be removed. However, if you want to add other packages for your figures, for timing or whatever, feel free to do so."
      ]
    },
    {
      "cell_type": "code",
      "execution_count": 1,
      "id": "analyzed-facing",
      "metadata": {
        "id": "analyzed-facing"
      },
      "outputs": [],
      "source": [
        "\n",
        "# PyTorch is a common library for neural networks in Python. torch.nn is a module for building layers of Neural Networks.\n",
        "import torch\n",
        "from torch import nn\n",
        "import torch.nn.functional as F\n",
        "\n",
        "# TorchVision is part of the PyTorch environment. It is necessary to download the datasets MNIST (and EMNIST Letters)\n",
        "import torchvision\n",
        "import torchvision.transforms as transforms\n",
        "\n",
        "# Usual mathematical stuff\n",
        "import numpy as np\n",
        "import math\n",
        "\n",
        "# Plots\n",
        "import matplotlib.pyplot as plt\n",
        "\n",
        "# Timing\n",
        "import time\n",
        "from datetime import datetime\n",
        "from time import process_time"
      ]
    },
    {
      "cell_type": "markdown",
      "id": "celtic-chapel",
      "metadata": {
        "id": "celtic-chapel"
      },
      "source": [
        "## Resources\n",
        "Training neural networks is really expensive, especially if your networks are large. It is thus important to look for the most suited computing and storing resources.\n",
        "\n",
        "In practice, parallelisation of computations can speed up the process a lot, by several orders of magnitude. In particular, computing on a GPU (Graphics Processing Unit), which has up to hundreds of cores, will be much faster than on your usual laptop CPU (Central Processing Unit), typically with less than 8 cores. \n",
        "\n",
        "Therefore, it is useful to search for the maximum available computing power.\n",
        "\n",
        "Be reassured, this homework is doable on your standard laptop CPU.\n",
        "\n",
        "But, if you want or need better equipments for this project, there are some solutions."
      ]
    },
    {
      "cell_type": "markdown",
      "id": "psychological-furniture",
      "metadata": {
        "id": "psychological-furniture"
      },
      "source": [
        "### What is available?\n",
        "The function chooseDevice automatically checks if there is a GPU available. If there is one, computations will be done there. Simply be careful of adding \".to(device=device)\" everywhere it will be needed in the rest of the code. Otherwise, computations will be done on CPU.\n",
        "\n",
        "There should be no need to modify the function chooseDevice."
      ]
    },
    {
      "cell_type": "code",
      "execution_count": 2,
      "id": "attractive-maine",
      "metadata": {
        "id": "attractive-maine"
      },
      "outputs": [],
      "source": [
        "# Check if GPU is available\n",
        "\n",
        "def chooseDevice():\n",
        "    device = \"\"\n",
        "    if torch.cuda.is_available():\n",
        "        device = torch.device(\"cuda\")\n",
        "        print(\"GPU available via cuda\")\n",
        "    else:\n",
        "        device = torch.device(\"cpu\")\n",
        "        print(\"GPU not available, CPU available\")\n",
        "    return device"
      ]
    },
    {
      "cell_type": "code",
      "execution_count": 3,
      "id": "fancy-digit",
      "metadata": {
        "colab": {
          "base_uri": "https://localhost:8080/"
        },
        "id": "fancy-digit",
        "outputId": "28979719-e59f-4f61-8361-ccc6744c9e0a"
      },
      "outputs": [
        {
          "name": "stdout",
          "output_type": "stream",
          "text": [
            "GPU not available, CPU available\n"
          ]
        }
      ],
      "source": [
        "device = chooseDevice()"
      ]
    },
    {
      "cell_type": "markdown",
      "id": "variable-landscape",
      "metadata": {
        "id": "variable-landscape"
      },
      "source": [
        "### I need more power: Google Colab\n",
        "If you need or want more computing power, you can use Google Colab. Colab is a free and easy to use service from Google, where you can borrow their efficient resources. Often, GPU are not available (reserved in priority for people with paying subscriptions), but their CPU's are probably better than yours. You just need a Google account in order to run code online. Note that it works with Jupyter Notebooks, which is nice. \n",
        "\n",
        "If, despite this, you are not satisfied, feel free to contact Bastien Massion."
      ]
    },
    {
      "cell_type": "markdown",
      "id": "cubic-saint",
      "metadata": {
        "id": "cubic-saint"
      },
      "source": [
        "## Set random seed\n",
        "Setting the seed for the generation of random numbers is not necessary, but can be useful for keeping consistency in your experiments."
      ]
    },
    {
      "cell_type": "code",
      "execution_count": 4,
      "id": "corporate-reading",
      "metadata": {
        "id": "corporate-reading"
      },
      "outputs": [],
      "source": [
        "_ = torch.manual_seed(2472) "
      ]
    },
    {
      "cell_type": "markdown",
      "id": "literary-boston",
      "metadata": {
        "id": "literary-boston"
      },
      "source": [
        "## Datasets\n",
        "Two datasets are proposed. \n",
        "\n",
        "First, the classical MNIST set. MNIST is mandatory and sufficient to complete the whole homework. It contains a total of 70 000 handwritten digits (60 000 train, 10 000 test) from 10 balanced classes (one for each digit). You have already worked with it in the HW2.\n",
        "\n",
        "Then, the EMNIST Letters set. This second dataset is larger (more data and more classes) and optional, but could be used to create more impressive results. It contains a total of 145 600 handwritten letters (124 800 train, 20 800 test) from 26 balanced classes (one for each latin letter, lowercase and uppercase mixed). For your information, EMNIST (Extended MNIST) contains several varations and extensions of MNIST."
      ]
    },
    {
      "cell_type": "markdown",
      "id": "korean-device",
      "metadata": {
        "id": "korean-device"
      },
      "source": [
        "### Load dataset\n",
        "The datasets are loaded from the module torchvision.\n",
        "\n",
        "There should be no need to modify the function getData."
      ]
    },
    {
      "cell_type": "code",
      "execution_count": 5,
      "id": "norwegian-soccer",
      "metadata": {
        "id": "norwegian-soccer"
      },
      "outputs": [],
      "source": [
        "# Extracts the train and test sets from a chosen image dataset\n",
        "# Values of pixels are normalized between -1 and 1\n",
        "\n",
        "def getData(dataset = \"MNIST\", info = True):\n",
        "    if dataset == \"MNIST\":\n",
        "        transform = transforms.Compose([transforms.ToTensor(), transforms.Normalize((0.5,), (0.5,))])\n",
        "        train_set = torchvision.datasets.MNIST(root=\".\", train=True, download=True, transform=transform)\n",
        "        test_set = torchvision.datasets.MNIST(root=\".\", train=False, download=True, transform=transform)\n",
        "    elif dataset == \"EMNIST_Letters\":\n",
        "        transform = transforms.Compose([transforms.ToTensor(), transforms.Normalize((0.5,), (0.5,))])\n",
        "        train_set = torchvision.datasets.EMNIST(root=\".\", split=\"letters\", train=True, download=True, transform=transform)\n",
        "        test_set = torchvision.datasets.EMNIST(root=\".\", split=\"letters\", train=False, download=True, transform=transform)\n",
        "    else:\n",
        "        print(\"DATASET NOT CORRECTLY DEFINED\")\n",
        "    if info:\n",
        "        print(train_set)\n",
        "        print(test_set)\n",
        "    return train_set, test_set"
      ]
    },
    {
      "cell_type": "code",
      "execution_count": 6,
      "id": "burning-district",
      "metadata": {
        "colab": {
          "base_uri": "https://localhost:8080/"
        },
        "id": "burning-district",
        "outputId": "1557043f-2f1f-4267-dc07-1c97f27f011d"
      },
      "outputs": [
        {
          "name": "stdout",
          "output_type": "stream",
          "text": [
            "Dataset MNIST\n",
            "    Number of datapoints: 60000\n",
            "    Root location: .\n",
            "    Split: Train\n",
            "    StandardTransform\n",
            "Transform: Compose(\n",
            "               ToTensor()\n",
            "               Normalize(mean=(0.5,), std=(0.5,))\n",
            "           )\n",
            "Dataset MNIST\n",
            "    Number of datapoints: 10000\n",
            "    Root location: .\n",
            "    Split: Test\n",
            "    StandardTransform\n",
            "Transform: Compose(\n",
            "               ToTensor()\n",
            "               Normalize(mean=(0.5,), std=(0.5,))\n",
            "           )\n"
          ]
        }
      ],
      "source": [
        "# Choose which dataset to use\n",
        "\n",
        "dataset = \"MNIST\"\n",
        "#dataset = \"EMNIST_Letters\"\n",
        "\n",
        "train_set, test_set = getData(dataset = dataset)"
      ]
    },
    {
      "cell_type": "markdown",
      "id": "tropical-indie",
      "metadata": {
        "id": "tropical-indie"
      },
      "source": [
        "### Get size of dataset\n",
        "This function is just there to extract useful information about the (relative) sizes of the train and test sets.\n",
        "\n",
        "There should be no need to modify the function dataSize."
      ]
    },
    {
      "cell_type": "code",
      "execution_count": 7,
      "id": "verbal-dialogue",
      "metadata": {
        "id": "verbal-dialogue"
      },
      "outputs": [],
      "source": [
        "# Get information about the size of the train and test sets.\n",
        "\n",
        "def dataSize(train_set, test_set):\n",
        "    n_train_set = train_set.__len__()\n",
        "    n_test_set = test_set.__len__()\n",
        "    n_tot = n_train_set + n_test_set\n",
        "    ratio_train_test = n_train_set / n_test_set\n",
        "    percentage_train = n_train_set / n_tot\n",
        "    percentage_test = 1.0 - percentage_train\n",
        "    return n_train_set, n_test_set, n_tot, ratio_train_test, percentage_train, percentage_test"
      ]
    },
    {
      "cell_type": "code",
      "execution_count": 8,
      "id": "military-guard",
      "metadata": {
        "id": "military-guard"
      },
      "outputs": [],
      "source": [
        "n_train_set, n_test_set, n_tot, ratio_train_test, percentage_train, percentage_test = dataSize(train_set, test_set)"
      ]
    },
    {
      "cell_type": "markdown",
      "id": "organized-turner",
      "metadata": {
        "id": "organized-turner"
      },
      "source": [
        "### Divide dataset into batches\n",
        "Computing the whole gradient for neural networks is too heavy, as it requires information about the whole dataset. Thus, we use (Mini-)Batch Gradient Descent. This is a variant of Stochastic Gradient Descent (SGD) in which we compute the gradient only for a small number of data, gathered in a batch. Typically, the batch size is orders of magnitude smaller than the whole dataset.\n",
        "\n",
        "The function divideInBatches splits the dataset and loads the data.\n",
        "\n",
        "You can modify the value of parameter batch_size as you wish.\n",
        "\n",
        "There should be no need to modify the function divideInBatches."
      ]
    },
    {
      "cell_type": "code",
      "execution_count": 9,
      "id": "recognized-enhancement",
      "metadata": {
        "id": "recognized-enhancement"
      },
      "outputs": [],
      "source": [
        "# Paramater for the batch size\n",
        "# Predefined value = 32\n",
        "\n",
        "batch_size = 32"
      ]
    },
    {
      "cell_type": "code",
      "execution_count": 10,
      "id": "sorted-pakistan",
      "metadata": {
        "id": "sorted-pakistan"
      },
      "outputs": [],
      "source": [
        "# Divide dataset into batches\n",
        "\n",
        "def divideInBatches(train_set, test_set, batch_size, n_train_set, n_test_set):\n",
        "    # Train set\n",
        "    n_batches_total = math.ceil(n_train_set/batch_size)\n",
        "    train_loader = torch.utils.data.DataLoader(train_set, batch_size=batch_size, shuffle=True)\n",
        "    \n",
        "    # Test set\n",
        "    n_batches_total_test = math.ceil(n_test_set/batch_size)\n",
        "    test_loader = torch.utils.data.DataLoader(test_set, batch_size=batch_size, shuffle=True)\n",
        "    \n",
        "    return train_loader, test_loader, n_batches_total, n_batches_total_test"
      ]
    },
    {
      "cell_type": "code",
      "execution_count": 11,
      "id": "unlike-script",
      "metadata": {
        "id": "unlike-script"
      },
      "outputs": [],
      "source": [
        "train_loader, test_loader, n_batches_total, n_batches_total_test = divideInBatches(train_set, test_set, batch_size, n_train_set, n_test_set)"
      ]
    },
    {
      "cell_type": "markdown",
      "id": "selected-planner",
      "metadata": {
        "id": "selected-planner"
      },
      "source": [
        "### Correct EMNIST Letters data\n",
        "While the MNIST dataset is ready to be used, the EMNIST Letters data need to be slighty modified before use.\n",
        "\n",
        "On the one hand, the x and y axes of the images are flipped, which is unpractical for the visualization.\n",
        "\n",
        "On the other hand, the letters labels go from 1 to 26 (corresponding with their place in the alphabet) instead of from 0 to 25. This could be problematic and is better fixed directly.\n",
        "\n",
        "Therefore, every time a batch is loaded, it should go through a little correcting function first.\n",
        "\n",
        "There should be no need to modify the function correctData."
      ]
    },
    {
      "cell_type": "code",
      "execution_count": null,
      "id": "young-craft",
      "metadata": {
        "id": "young-craft"
      },
      "outputs": [],
      "source": [
        "# Corrects EMNIST Letters data\n",
        "\n",
        "def correctData(real_samples, mnist_labels, dataset):\n",
        "    if dataset == \"EMNIST_Letters\":\n",
        "        real_samples = torch.transpose(real_samples,2,3)\n",
        "        mnist_labels -= 1\n",
        "    return real_samples, mnist_labels"
      ]
    },
    {
      "cell_type": "code",
      "execution_count": null,
      "id": "liable-thinking",
      "metadata": {
        "id": "liable-thinking"
      },
      "outputs": [],
      "source": [
        "real_samples, mnist_labels = next(iter(train_loader))\n",
        "real_samples, mnist_labels = correctData(real_samples, mnist_labels, dataset)"
      ]
    },
    {
      "cell_type": "markdown",
      "id": "abandoned-water",
      "metadata": {
        "id": "abandoned-water"
      },
      "source": [
        "## Show images\n",
        "During the whole homework, it will be important to show samples, either from the dataset, either ones your generate. Here is just a function that can help you visualizing and avoiding losing any plot that you once created. \n",
        "\n",
        "The function showImages allows to represent up to 16 images. You can precise if they are generated by your generator or not (i.e. coming from the dataset). You can also show the true labels for original images and the predicted labels if you use your classifier.\n",
        "\n",
        "The created figures are stored in the folder that you should create : ./Figures. The figures are stored with a predifined name depending on the (date)time. \n",
        "\n",
        "You can of course modify this function as you wish."
      ]
    },
    {
      "cell_type": "code",
      "execution_count": 46,
      "id": "helpful-spanking",
      "metadata": {
        "id": "helpful-spanking"
      },
      "outputs": [],
      "source": [
        "# Plot digits or letters\n",
        "\n",
        "def showImages(samples, true_labels = None, predicted_labels = None, generated = False, predicted = False, epoch = None):\n",
        "    \n",
        "    if generated == True and predicted == True:\n",
        "        plt.close(\"Generated predicted samples\")\n",
        "        f = plt.figure(\"Generated predicted samples\", figsize = (20,15))\n",
        "        f.suptitle(\"Generated predicted samples\", fontsize = 30)\n",
        "    elif generated == True and predicted == False :\n",
        "        if epoch != None:\n",
        "            plt.close(\"Generated samples epoch \" + str(epoch))\n",
        "            f = plt.figure(\"Generated samples epoch \" + str(epoch), figsize = (20,15))\n",
        "            f.suptitle(\"Generated samples epoch \" + str(epoch), fontsize = 30)\n",
        "        else:\n",
        "            plt.close(\"Generated samples\")\n",
        "            f = plt.figure(\"Generated samples\", figsize = (20,15))\n",
        "            f.suptitle(\"Generated samples\", fontsize = 30)            \n",
        "    elif predicted == True and generated == False :\n",
        "        if epoch != None:\n",
        "            plt.close(\"Predicted samples epoch \" + str(epoch))\n",
        "            f = plt.figure(\"Predicted samples epoch \" + str(epoch), figsize = (20,15))\n",
        "            f.suptitle(\"Predicted samples epoch \" + str(epoch), fontsize = 30)\n",
        "        else:\n",
        "            plt.close(\"Predicted samples\")\n",
        "            f = plt.figure(\"Predicted samples\", figsize = (20,15))\n",
        "            f.suptitle(\"Predicted samples\", fontsize = 30)            \n",
        "    else:\n",
        "        plt.close(\"MNIST samples\")\n",
        "        f = plt.figure(\"MNIST samples\", figsize = (20,15))\n",
        "        f.suptitle(\"MNIST training samples\", fontsize = 30)\n",
        "    f.subplots_adjust(wspace=0.2, hspace=0.4)\n",
        "    plt.rc('axes', titlesize=20)\n",
        "    \n",
        "    for i in range(16):\n",
        "        if i < samples.size(0):\n",
        "            fi = f.add_subplot(4, 4, i + 1)\n",
        "            fi.imshow(samples[i].reshape(28, 28), cmap=\"gray_r\")\n",
        "            plt.xticks([])\n",
        "            plt.yticks([]) \n",
        "            if generated == True and predicted == True :\n",
        "                fi.title.set_text(\"Pred: \" + str(predicted_labels[i].detach().numpy()))\n",
        "            elif generated == True and predicted == False :\n",
        "                fi.title.set_text(\"Sample \" + str(i))\n",
        "            elif predicted == True and generated == False :\n",
        "                fi.title.set_text(\"Pred: \" + str(predicted_labels[i].detach().numpy()) +  \", true: \" + str(true_labels[i].detach().numpy()))\n",
        "            else:\n",
        "                fi.title.set_text(\"Sample \" + str(i) + \": \" + str(true_labels[i].detach().numpy()))\n",
        "    \n",
        "    now = datetime.now().strftime(\"%Y_%m_%d__%H_%M\")\n",
        "    if generated == True and predicted == True :\n",
        "        f.savefig('./Figures/Sample_generated__' + now + '__epoch_' + str(epoch) + '.png')\n",
        "    elif generated == True and predicted == False :\n",
        "        f.savefig('./Figures/Sample_generated_predicted__' + now + '__epoch_' + str(epoch) + '.png')\n",
        "    elif predicted == True and generated == False :\n",
        "        f.savefig('./Figures/Sample_predicted__' + now + '__epoch_' + str(epoch) + '.png')\n",
        "    else:\n",
        "        f.savefig('./Figures/Sample_MNIST.png')"
      ]
    },
    {
      "cell_type": "code",
      "execution_count": null,
      "id": "neutral-prevention",
      "metadata": {
        "colab": {
          "base_uri": "https://localhost:8080/",
          "height": 976
        },
        "id": "neutral-prevention",
        "outputId": "b84d09cf-81d9-4ccb-b53f-0e3456139002"
      },
      "outputs": [
        {
          "name": "stdout",
          "output_type": "stream",
          "text": [
            "<class 'torch.Tensor'>\n"
          ]
        },
        {
          "data": {
            "image/png": "[encoded data removed]",
            "text/plain": [
              "<Figure size 1440x1080 with 16 Axes>"
            ]
          },
          "metadata": {},
          "output_type": "display_data"
        }
      ],
      "source": [
        "print(type(real_samples))\n",
        "showImages(real_samples, true_labels = mnist_labels)"
      ]
    },
    {
      "cell_type": "markdown",
      "id": "effective-fluid",
      "metadata": {
        "id": "effective-fluid"
      },
      "source": [
        "## Section 1: Train a GAN on MNIST for image generation\n",
        "In this first part, you are asked to train and test a GAN for the generation of fake handwritten numbers (and letters). \n",
        "\n",
        "Let's just recall what training a model means in machine learning. It is in fact quite simple: given a model architecture, use an optimization scheme to minimize a loss function (representing the gap between the data and the model predictions) in order to find the optimal values of the model parameters. In this Section, all of these elements are treated one by one.\n",
        "\n",
        "Moreover, you receive reference Generator and Discriminator architectures. These neural network architectures should not be changed. Indeed, they are sufficient in order to get nice enough results while keeping the training time reasonable on a laptop CPU (normally less than 2 hours training).\n",
        "\n",
        "However, if you want to train additional Generator and/or Discriminator models that could be larger or smaller (for improved results or faster training for example), feel free to create them by yourself, explain them with comments and name them differently."
      ]
    },
    {
      "cell_type": "markdown",
      "id": "wired-revolution",
      "metadata": {
        "id": "wired-revolution"
      },
      "source": [
        "### 1.a Generator class\n",
        "The Generator class takes an input: the dimension of the latent space. Indeed, the generator will create an image (1x28x28) from an input latent vector (1 color i.e. gray-scale, 28x28 pixels). Typically, this vector is of dimension 100 with each entry sampled from a standard normal distribution or from an uniform distribution on [-1,1]. You are free to change this dimension and see what happens.\n",
        "\n",
        "The latent space is thus a space where the information contained in the images is compressed/condensed. This latent space will be the focus of the second part of the homework."
      ]
    },
    {
      "cell_type": "code",
      "execution_count": 12,
      "id": "unlike-deputy",
      "metadata": {
        "id": "unlike-deputy"
      },
      "outputs": [],
      "source": [
        "# Dimension of the latent space\n",
        "# Predefined value = 100\n",
        "\n",
        "dim_latent_space = 100"
      ]
    },
    {
      "cell_type": "markdown",
      "id": "signed-newton",
      "metadata": {
        "id": "signed-newton"
      },
      "source": [
        "The class below contains the reference Generator architecture. You don't have to worry about the initialization of the model, it is done automatically.\n",
        "\n",
        "This architecture should not be changed.\n",
        "\n",
        "The Generator takes a batch of latent vectors as input, and ouputs one 1x28x28 pixels image for each input."
      ]
    },
    {
      "cell_type": "code",
      "execution_count": 13,
      "id": "quality-prediction",
      "metadata": {
        "id": "quality-prediction"
      },
      "outputs": [],
      "source": [
        "class Generator(nn.Module):\n",
        "\n",
        "    def __init__(self, dim_latent_space):\n",
        "        super().__init__()\n",
        "        self.dim_latent_space = dim_latent_space\n",
        "        self.fc = nn.Linear(self.dim_latent_space, 64*7*7)\n",
        "        self.trans_conv1 = nn.ConvTranspose2d(64, 64, kernel_size = 3, stride = 2, padding = 1, output_padding = 1)\n",
        "        self.batch_norm1 = nn.BatchNorm2d(64)\n",
        "        self.trans_conv2 = nn.ConvTranspose2d(64, 32, kernel_size = 3, stride = 1, padding = 1)\n",
        "        self.batch_norm2 = nn.BatchNorm2d(32)\n",
        "        self.trans_conv3 = nn.ConvTranspose2d(32, 16, kernel_size = 3, stride = 1, padding = 1)\n",
        "        self.batch_norm3 = nn.BatchNorm2d(16)\n",
        "        self.trans_conv4 = nn.ConvTranspose2d(16, 1, kernel_size = 3, stride = 2, padding = 1, output_padding = 1)\n",
        "        \n",
        "    def forward(self, x):                   # Input = batch_size*dim_latent_space\n",
        "        x = self.fc(x)                      # Output = batch_size*(64*7*7)\n",
        "        x = x.view(-1, 64, 7, 7)            # Output = batch_size*64*7*7\n",
        "        x = self.trans_conv1(x)             # Output = batch_size*64*14*14\n",
        "        x = F.relu(self.batch_norm1(x))\n",
        "        x = self.trans_conv2(x)             # Output = batch_size*32*14*14\n",
        "        x = F.relu(self.batch_norm2(x))\n",
        "        x = self.trans_conv3(x)             # Output = batch_size*16*14*14\n",
        "        x = F.relu(self.batch_norm3(x))     \n",
        "        x = self.trans_conv4(x)             # Output = batch_size*1*28*28\n",
        "        x = torch.tanh(x)\n",
        "        return x"
      ]
    },
    {
      "cell_type": "code",
      "execution_count": 14,
      "id": "conscious-essence",
      "metadata": {
        "id": "conscious-essence"
      },
      "outputs": [],
      "source": [
        "generator = Generator(dim_latent_space).to(device=device)\n"
      ]
    },
    {
      "cell_type": "markdown",
      "id": "concerned-welcome",
      "metadata": {
        "id": "concerned-welcome"
      },
      "source": [
        "### 1.b Discriminator class\n",
        "The class below contains the reference Discriminator architecture. You don't have to worry about the initialization of the model, it is done automatically.\n",
        "\n",
        "This architecture should not be changed.\n",
        "\n",
        "The Discriminitor takes a batch of 1x28x28 pixels images as input, and ouputs numbers between -inf and +inf. The activation of the last layer represents some likelihood of the image being fake or not, according to the model. Afterwards, it goes through a sigmoid function in order to scale numbers between 0 and 1. An output of 0 means that the model is certain that the corresponding input image is fake, and an output of 1 means that it is certain that it is real."
      ]
    },
    {
      "cell_type": "code",
      "execution_count": 15,
      "id": "pursuant-heritage",
      "metadata": {
        "id": "pursuant-heritage"
      },
      "outputs": [],
      "source": [
        "class Discriminator(nn.Module):\n",
        "    \n",
        "    def __init__(self):\n",
        "        super().__init__()\n",
        "        self.conv0 = nn.Conv2d(1, 32, kernel_size = 3, stride = 2, padding = 1)     \n",
        "        self.conv0_drop = nn.Dropout2d(0.25)\n",
        "        self.conv1 = nn.Conv2d(32, 64, kernel_size = 3, stride = 1, padding = 1)\n",
        "        self.conv1_drop = nn.Dropout2d(0.25)\n",
        "        self.conv2 = nn.Conv2d(64, 128, kernel_size = 3, stride = 1, padding = 1)\n",
        "        self.conv2_drop = nn.Dropout2d(0.25)\n",
        "        self.conv3 = nn.Conv2d(128, 128, kernel_size = 3, stride = 2, padding = 1)\n",
        "        self.conv3_drop = nn.Dropout2d(0.25)\n",
        "        self.fc = nn.Linear(128*7*7, 1)\n",
        "    \n",
        "    def forward(self, x):                               # Input = batch_size*1*28*28\n",
        "        x = x.view(-1, 1, 28, 28)                       # Output = batch_size*1*28*28\n",
        "        x = F.leaky_relu(self.conv0(x), 0.2)            # Output = batch_size*32*14*14\n",
        "        x = self.conv0_drop(x)\n",
        "        x = F.leaky_relu(self.conv1(x), 0.2)            # Output = batch_size*64*14*14\n",
        "        x = self.conv1_drop(x)\n",
        "        x = F.leaky_relu(self.conv2(x), 0.2)            # Output = batch_size*128*14*14\n",
        "        x = self.conv2_drop(x)\n",
        "        x = F.leaky_relu(self.conv3(x), 0.2)            # Output = batch_size*128*7*7\n",
        "        x = self.conv3_drop(x)\n",
        "        x = x.view(-1, 128*7*7)                         # Output = batch_size*(128*7*7)\n",
        "        x = self.fc(x)                                  # Output = batch_size*1\n",
        "        return x"
      ]
    },
    {
      "cell_type": "code",
      "execution_count": 16,
      "id": "minimal-wealth",
      "metadata": {
        "id": "minimal-wealth"
      },
      "outputs": [],
      "source": [
        "discriminator = Discriminator().to(device=device)"
      ]
    },
    {
      "cell_type": "markdown",
      "id": "fundamental-disorder",
      "metadata": {
        "id": "fundamental-disorder"
      },
      "source": [
        "### 1.c Number of parameters\n",
        "This function counts and prints the number of parameters in any neural network model.\n",
        "\n",
        "There should be no need to modify the function numberParameters."
      ]
    },
    {
      "cell_type": "code",
      "execution_count": 17,
      "id": "christian-mitchell",
      "metadata": {
        "id": "christian-mitchell"
      },
      "outputs": [],
      "source": [
        "def numberParameters(model, trainable = False, model_name = None):\n",
        "    total_params = sum(param.numel() for param in model.parameters())\n",
        "    if model_name != None:\n",
        "        print(\"Number of parameters of \" + model_name + \": \" + str(total_params))\n",
        "    return total_params"
      ]
    },
    {
      "cell_type": "code",
      "execution_count": 18,
      "id": "pointed-annotation",
      "metadata": {
        "colab": {
          "base_uri": "https://localhost:8080/"
        },
        "id": "pointed-annotation",
        "outputId": "d4ff0029-532c-4a5a-9437-7467150b173d"
      },
      "outputs": [
        {
          "name": "stdout",
          "output_type": "stream",
          "text": [
            "Number of parameters of discriminator: 246529\n",
            "Number of parameters of generator: 377121\n"
          ]
        }
      ],
      "source": [
        "discriminator_params = numberParameters(discriminator, model_name = \"discriminator\")\n",
        "generator_params = numberParameters(generator, model_name = \"generator\")"
      ]
    },
    {
      "cell_type": "markdown",
      "id": "published-ranch",
      "metadata": {
        "id": "published-ranch"
      },
      "source": [
        "### 1.d Loss function\n",
        "The loss function measures how good the model is. For the discriminator, it a binary classification problem: the discriminator tries to distinguish true data (label = 1) from fake generated ones (label = 0). Therefore, we use a Binary Cross Entropy loss. As the only goal of the generator is to fool the discriminator, it can also be expressed with a Binary Cross Entropy loss function. Think about what inputs we need to give to the loss function for the discriminator and for the generator.\n",
        "\n",
        "You see that BCELoss is replaced by BCEWithLogitsLoss. Think about why this is, and how it links with the last layer of the given Discriminator architecture.\n",
        "\n",
        "This loss function should not be changed."
      ]
    },
    {
      "cell_type": "code",
      "execution_count": 19,
      "id": "confirmed-karen",
      "metadata": {
        "id": "confirmed-karen"
      },
      "outputs": [],
      "source": [
        "# Loss function for the GAN\n",
        "\n",
        "#loss_function_gan = nn.BCELoss()\n",
        "loss_function_gan = nn.BCEWithLogitsLoss()"
      ]
    },
    {
      "cell_type": "markdown",
      "id": "floral-conspiracy",
      "metadata": {
        "id": "floral-conspiracy"
      },
      "source": [
        "### 1.e Optimizers\n",
        "Adam is one of the most famous adaptive stochastic gradient descent algorithm. It is massively used for training neural networks.\n",
        "\n",
        "You can play around with the Adam parameters if you want."
      ]
    },
    {
      "cell_type": "code",
      "execution_count": 20,
      "id": "noble-proxy",
      "metadata": {
        "id": "noble-proxy"
      },
      "outputs": [],
      "source": [
        "# Adam optimization parameters\n",
        "# Predefined values: lr_gan = 0.0002, betas_gan = (0.5, 0.999)\n",
        "lr_gan = 0.0002\n",
        "betas_gan = (0.5, 0.999)\n",
        "\n",
        "optimizer_discriminator = torch.optim.Adam(discriminator.parameters(), lr=lr_gan, betas = betas_gan)\n",
        "optimizer_generator = torch.optim.Adam(generator.parameters(), lr=lr_gan, betas = betas_gan)"
      ]
    },
    {
      "cell_type": "markdown",
      "id": "alive-burke",
      "metadata": {
        "id": "alive-burke"
      },
      "source": [
        "### 1.f Accuracy\n",
        "We define one error measure as the accuracy reached by the discriminator for its predictions y_predicted, i.e. the ratio between the number of correct classifications and the total number of samples. We suppose that if 0.0 <= y_generated[i] <= 0.5, then it predicts a fake image and if 0.5 < y_generated[i] <= 1.0, it predicts a true image.\n",
        "\n",
        "During the training, data are loaded batch by batch. It could thus be a good idea to consider that the inputs of the following function are the true and predicted labels from one batch of data.\n",
        "\n",
        "Task: complete the computeGANAccuracy function."
      ]
    },
    {
      "cell_type": "code",
      "execution_count": 21,
      "id": "HwlxRw9Xy1DD",
      "metadata": {
        "id": "HwlxRw9Xy1DD"
      },
      "outputs": [],
      "source": [
        "def computeGANAccuracy(y_predicted,y_true):\n",
        "\n",
        "    accuracy = 0.0\n",
        "    accuracy = torch.sum(torch.round(torch.sigmoid(y_predicted)) == y_true).item()/y_true.shape[0]\n",
        "    # TO COMPLETE\n",
        "\n",
        "    return accuracy"
      ]
    },
    {
      "cell_type": "markdown",
      "id": "talented-speaker",
      "metadata": {
        "id": "talented-speaker"
      },
      "source": [
        "### 1.g Preparing the training process\n",
        "In this part, you are asked to initialize the training process (not the model which is initialized automatically). \n",
        "\n",
        "Let's just first define the number of iterations (epochs) that the training will last. Satisfactory results can be obtained with 5 epochs, but you can of course increase this value for a better training."
      ]
    },
    {
      "cell_type": "code",
      "execution_count": 23,
      "id": "comparative-malaysia",
      "metadata": {
        "id": "comparative-malaysia"
      },
      "outputs": [],
      "source": [
        "# Number of epochs for the training\n",
        "# Predefined value: num_epochs_gan = 5\n",
        "\n",
        "num_epochs_gan = 15"
      ]
    },
    {
      "cell_type": "markdown",
      "id": "transparent-plain",
      "metadata": {
        "id": "transparent-plain"
      },
      "source": [
        "It is important to keep track of the evolution of the error metrics during the training process. A simple idea is to store the values of the metrics in arrays, at least after every epoch.\n",
        "\n",
        "Task: Create arrays that will contain the accuracy for train and test sets, as well as the values of the discriminator loss and of the generator loss during the training. Compute the errors before training the model and store them in your arrays."
      ]
    },
    {
      "cell_type": "code",
      "execution_count": 24,
      "id": "toxic-scheduling",
      "metadata": {
        "id": "toxic-scheduling"
      },
      "outputs": [],
      "source": [
        "# Error metrics at initialisation\n",
        "\n",
        "# TO COMPLETE\n",
        "error_discriminator_loss = np.zeros(num_epochs_gan)\n",
        "error_generator_loss = np.zeros(num_epochs_gan)\n",
        "error_discriminator_accuracy = np.zeros(num_epochs_gan)\n",
        "error_generator_accuracy = np.zeros(num_epochs_gan)\n",
        "image=[]"
      ]
    },
    {
      "cell_type": "markdown",
      "id": "amino-network",
      "metadata": {
        "id": "amino-network"
      },
      "source": [
        "It is a good option to keep track of the evolution of the images generated through the training. Defining a reference sample of latent vectors allows to generate the image for the same inputs every time. You can compute the output from those vectors after each epoch to see how the generated images evolve with the training. The latent vectors can be generated from a standard normal distribution, or from a uniform distribution over [-1,1].\n",
        "\n",
        "Task: Define a sample of reference latent vectors."
      ]
    },
    {
      "cell_type": "code",
      "execution_count": 25,
      "id": "3cDSpRsLzARh",
      "metadata": {
        "id": "3cDSpRsLzARh"
      },
      "outputs": [],
      "source": [
        "latent_vectors = np.random.uniform(-1, 1, size=(batch_size, dim_latent_space))\n"
      ]
    },
    {
      "cell_type": "markdown",
      "id": "better-antenna",
      "metadata": {
        "id": "better-antenna"
      },
      "source": [
        "### 1.h Training and testing the GAN\n",
        "This is finally the core part of this section: training your GAN.\n",
        "\n",
        "The training will follow an easy structure. Here is the pseudo-code of the training process:\n",
        "\n",
        "\n",
        "    for each epoch:\n",
        "\n",
        "        for each batch:\n",
        "\n",
        "            train the discriminator on the batch:\n",
        "\n",
        "                generate fake data (same amount as size of the batch)\n",
        "\n",
        "                predict if data from the batch and generated data are fake or not\n",
        "\n",
        "                compute the discriminator loss function\n",
        "\n",
        "                backpropagate the error in the discriminator\n",
        "\n",
        "            train the generator on the batch\n",
        "\n",
        "                generate fake data (same amount as size of the batch)\n",
        "\n",
        "                predict if generated data are fake or not\n",
        "\n",
        "                compute the generator loss function\n",
        "\n",
        "                backpropagate the error in the generator\n",
        "\n",
        "        end\n",
        "\n",
        "    end\n",
        "\n",
        "Task: Code the GAN training from the pseudo-code given above. Don't forget to switch between training and evaluation modes for the models, by using train() and eval() Pytorch functions. To understand what to do and why, look for their impact on specific layers of the networks. You may also use the time package in order to get information about the duration of the training. Finally, at every epoch, compute and store the accuracy and the losses of the model and generate images from your reference sample."
      ]
    },
    {
      "cell_type": "code",
      "execution_count": null,
      "id": "oZBdtLSY3OrM",
      "metadata": {
        "colab": {
          "base_uri": "https://localhost:8080/"
        },
        "id": "oZBdtLSY3OrM",
        "outputId": "20d98312-7a96-49d7-cd19-98245f63e993"
      },
      "outputs": [
        {
          "name": "stdout",
          "output_type": "stream",
          "text": [
            "            GAN trained in 620.8961619459999seconds\n"
          ]
        }
      ],
      "source": [
        "# Training of the GAN\n",
        "t1_start = process_time()\n",
        "\n",
        "for epoch in range(num_epochs_gan):\n",
        "    \n",
        "    for i, (images, labels) in enumerate(train_loader):\n",
        "        # TRAIN DISC\n",
        "        fake_data = generator(torch.tensor(latent_vectors).float().to(device=device))\n",
        "        real_data = images.to(device=device)\n",
        "        \n",
        "        predict_class_fake = discriminator(fake_data)\n",
        "        predict_class_real = discriminator(real_data)\n",
        "\n",
        "\n",
        "        # Discriminator loss\n",
        "        loss_discriminator_fake = loss_function_gan(predict_class_fake, torch.zeros(batch_size, 1).to(device=device))\n",
        "        loss_discriminator_real = loss_function_gan(predict_class_real, torch.ones(batch_size, 1).to(device=device))\n",
        "        loss_discriminator = loss_discriminator_fake + loss_discriminator_real\n",
        "        # Discriminator accuracy\n",
        "        accuracy_discriminator = computeGANAccuracy(predict_class_real, torch.ones(batch_size, 1).to(device=device))\n",
        "        accuracy_discriminator += computeGANAccuracy(predict_class_fake, torch.zeros(batch_size, 1).to(device=device))\n",
        "\n",
        "        # Update of the discriminator\n",
        "        optimizer_discriminator.zero_grad()\n",
        "        loss_discriminator.backward()\n",
        "        optimizer_discriminator.step()\n",
        "\n",
        "\n",
        "\n",
        "\n",
        "        # TRAIN GEN\n",
        "        fake_data = generator(torch.tensor(latent_vectors).float().to(device=device))\n",
        "        real_data = images.to(device=device)\n",
        "        \n",
        "        predict_class_fake = discriminator(fake_data)\n",
        "        predict_class_real = discriminator(real_data)\n",
        "\n",
        "        # Generator loss\n",
        "        loss_generator = loss_function_gan(predict_class_fake, torch.ones(batch_size, 1).to(device=device))\n",
        "\n",
        "        # Generator accuracy\n",
        "        accuracy_generator = computeGANAccuracy(predict_class_fake, torch.ones(batch_size, 1).to(device=device))\n",
        "\n",
        "\n",
        "        # Update of the generator\n",
        "        optimizer_generator.zero_grad()\n",
        "        loss_generator.backward()\n",
        "        optimizer_generator.step()\n",
        "\n",
        "        # Error metrics\n",
        "        error_discriminator_loss[epoch] += loss_discriminator.item()\n",
        "        error_generator_loss[epoch] += loss_generator.item()\n",
        "        error_discriminator_accuracy[epoch] += accuracy_discriminator\n",
        "        error_generator_accuracy[epoch] += accuracy_generator\n",
        "        print(\"\\r\"+str(epoch) +\"  \" + str(i) , end= \"\")\n",
        "\n",
        "    print(\"\\r            \", end= \"\")\n",
        "    image.append((fake_data, predict_class_fake))\n",
        "    error_discriminator_accuracy[epoch] /= n_batches_total\n",
        "    error_generator_accuracy[epoch] /= n_batches_total\n",
        "    error_discriminator_loss[epoch] /= n_batches_total\n",
        "    error_generator_loss[epoch] /= n_batches_total\n",
        "\n",
        "    if (epoch == 8):\n",
        "      optimizer_discriminator = torch.optim.Adam(discriminator.parameters(), lr=lr_gan/10, betas = betas_gan)\n",
        "      optimizer_generator = torch.optim.Adam(generator.parameters(), lr=lr_gan/10, betas = betas_gan)\n",
        "t1_stop = process_time()\n",
        "\n",
        "print(\"GAN trained in \" + str(t1_stop-t1_start) + \"seconds\")"
      ]
    },
    {
      "cell_type": "code",
      "execution_count": null,
      "id": "tcWY6Fr7QcFC",
      "metadata": {
        "colab": {
          "base_uri": "https://localhost:8080/"
        },
        "id": "tcWY6Fr7QcFC",
        "outputId": "50398918-2c34-4cb6-ec36-86e9fd35be53"
      },
      "outputs": [
        {
          "name": "stdout",
          "output_type": "stream",
          "text": [
            "----------------------------------------------------------------\n",
            "        Layer (type)               Output Shape         Param #\n",
            "================================================================\n",
            "            Linear-1             [-1, 32, 3136]         316,736\n",
            "   ConvTranspose2d-2           [-1, 64, 14, 14]          36,928\n",
            "       BatchNorm2d-3           [-1, 64, 14, 14]             128\n",
            "   ConvTranspose2d-4           [-1, 32, 14, 14]          18,464\n",
            "       BatchNorm2d-5           [-1, 32, 14, 14]              64\n",
            "   ConvTranspose2d-6           [-1, 16, 14, 14]           4,624\n",
            "       BatchNorm2d-7           [-1, 16, 14, 14]              32\n",
            "   ConvTranspose2d-8            [-1, 1, 28, 28]             145\n",
            "================================================================\n",
            "Total params: 377,121\n",
            "Trainable params: 377,121\n",
            "Non-trainable params: 0\n",
            "----------------------------------------------------------------\n",
            "Input size (MB): 0.01\n",
            "Forward/backward pass size (MB): 1.11\n",
            "Params size (MB): 1.44\n",
            "Estimated Total Size (MB): 2.56\n",
            "----------------------------------------------------------------\n"
          ]
        }
      ],
      "source": [
        "from torchsummary import summary\n",
        "summary(generator, (32,100))"
      ]
    },
    {
      "cell_type": "markdown",
      "id": "chicken-fight",
      "metadata": {
        "id": "chicken-fight"
      },
      "source": [
        "### 1.i Plot the results\n",
        "You should plot the evolution of your error metrics (accuracy and loss function) in function of the number of epochs, to see how efficient the training is. Show the evolution of the images generated from your reference sample as well.\n",
        "\n",
        "Task: Make those plots, as clean and readable as possible."
      ]
    },
    {
      "cell_type": "code",
      "execution_count": null,
      "id": "experimental-magic",
      "metadata": {
        "colab": {
          "base_uri": "https://localhost:8080/",
          "height": 951
        },
        "id": "experimental-magic",
        "outputId": "22454664-dbcd-4ddb-a524-3f22574cee36"
      },
      "outputs": [
        {
          "name": "stdout",
          "output_type": "stream",
          "text": [
            "error_discriminator_accuracy :  [0.78630833 0.57639167 0.54731667 0.53829167 0.54193333 0.550725\n",
            " 0.56513333 0.572      0.59326667 0.62660833 0.62321667 0.61525833\n",
            " 0.62068333 0.61145    0.61164167]\n",
            "error_discriminator_loss :  [0.42336897 0.67501058 0.68640125 0.68791566 0.68742841 0.68457729\n",
            " 0.67960929 0.67525479 0.66332148 0.64329228 0.64674284 0.64927148\n",
            " 0.64583209 0.65175502 0.65113992]\n",
            "error_generator_accuracy :  [0.19293333 0.39675    0.42791667 0.43283333 0.43296667 0.42268333\n",
            " 0.41021667 0.39761667 0.37921667 0.36605    0.36576667 0.35953333\n",
            " 0.36086667 0.36735    0.38056667]\n",
            "error_generator_loss :  [1.96313652 0.75367976 0.72139719 0.71672468 0.71732519 0.72461349\n",
            " 0.73874438 0.75271682 0.78613791 0.80364764 0.80618221 0.80568907\n",
            " 0.81102124 0.80385871 0.80484521]\n"
          ]
        },
        {
          "data": {
            "image/png": "[encoded data removed]",
            "text/plain": [
              "<Figure size 720x432 with 1 Axes>"
            ]
          },
          "metadata": {
            "needs_background": "light"
          },
          "output_type": "display_data"
        },
        {
          "data": {
            "image/png": "[encoded data removed]",
            "text/plain": [
              "<Figure size 720x432 with 1 Axes>"
            ]
          },
          "metadata": {
            "needs_background": "light"
          },
          "output_type": "display_data"
        }
      ],
      "source": [
        "# Plots of accuracy and of loss function, images generated from your reference sample.\n",
        "\n",
        "\n",
        "\n",
        "error_discriminator_accuracy = error_discriminator_accuracy/2\n",
        "error_discriminator_loss = error_discriminator_loss/2\n",
        "\n",
        "print(\"error_discriminator_accuracy : \", error_discriminator_accuracy)\n",
        "print(\"error_discriminator_loss : \", error_discriminator_loss)\n",
        "print(\"error_generator_accuracy : \", error_generator_accuracy)\n",
        "print(\"error_generator_loss : \", error_generator_loss)\n",
        "\n",
        "plt.figure(figsize=(10,6))\n",
        "#fig, (ax1, ax2 , ax3, ax4) = plt.subplots(1, 4 )\n",
        "#fig.suptitle(\"Generator and Discriminator Loss During Training\")\n",
        "#ax1.plot(error_discriminator_accuracy,label=\"G\")\n",
        "#ax2.plot(error_generator_accuracy,label=\"D\")\n",
        "#ax3.plot(error_discriminator_loss,label=\"acc\")\n",
        "#ax4.plot(error_generator_loss,label=\"acc\")\n",
        "#fig.supxlabel('iteration')\n",
        "plt.plot(error_discriminator_accuracy, label=\"discriminator_accuracy\")\n",
        "\n",
        "plt.plot(error_discriminator_loss, label=\"discriminator_loss\")\n",
        "\n",
        "plt.legend()\n",
        "\n",
        "plt.show()\n",
        "plt.figure(figsize=(10,6))\n",
        "\n",
        "plt.plot(error_generator_accuracy, label=\"generator_accuracy\")\n",
        "plt.plot(error_generator_loss, label=\"generator_loss\")\n",
        "plt.legend()\n",
        "\n",
        "plt.show()\n",
        "# TO COMPLETE"
      ]
    },
    {
      "cell_type": "markdown",
      "id": "1da74cf2",
      "metadata": {},
      "source": [
        "### 1.j Define fake bash"
      ]
    },
    {
      "cell_type": "code",
      "execution_count": 47,
      "id": "Zm_LaHxuB3k0",
      "metadata": {
        "colab": {
          "base_uri": "https://localhost:8080/",
          "height": 995
        },
        "id": "Zm_LaHxuB3k0",
        "outputId": "00775361-e5f9-4743-b0e1-2b6d0c6444d6"
      },
      "outputs": [
        {
          "name": "stderr",
          "output_type": "stream",
          "text": [
            "<ipython-input-47-ac57d537ca9e>:1: UserWarning: To copy construct from a tensor, it is recommended to use sourceTensor.clone().detach() or sourceTensor.clone().detach().requires_grad_(True), rather than torch.tensor(sourceTensor).\n",
            "  latent_vectors = torch.tensor(latent_vectors)\n"
          ]
        },
        {
          "data": {
            "image/png": "[encoded data removed]",
            "text/plain": [
              "<Figure size 1440x1080 with 16 Axes>"
            ]
          },
          "metadata": {},
          "output_type": "display_data"
        }
      ],
      "source": [
        "latent_vectors = torch.tensor(latent_vectors)\n",
        "fake = generator(latent_vectors.to(torch.float32)).detach()\n",
        "labels = discriminator(fake).detach().cpu()\n",
        "\n",
        "showImages(fake.detach().cpu(), true_labels=labels.sigmoid())\n"
      ]
    },
    {
      "cell_type": "markdown",
      "id": "pediatric-stranger",
      "metadata": {
        "id": "pediatric-stranger"
      },
      "source": [
        "### 1.j Save your models\n",
        "A really useful feature for your experiments is to be able to save your models. This can be done with the torch.save function. In the function saveModel, a model is stored in the folder ./Models that you may want to create. The (date)time is used to always store your models with a different name and never lose some training that you would have done.\n",
        "\n",
        "Be careful however: the saveModel function below stores the \"state dictionary\" of your model, not your model itself. \n",
        "\n",
        "You can of course modify the function saveModel as you wish."
      ]
    },
    {
      "cell_type": "code",
      "execution_count": null,
      "id": "reflected-channels",
      "metadata": {
        "id": "reflected-channels"
      },
      "outputs": [],
      "source": [
        "def saveModel(model, model_name):\n",
        "    now = datetime.now().strftime(\"%Y_%m_%d__%H_%M\")\n",
        "    torch.save(model.state_dict(), './Models/' + model_name + '__' + now)\n",
        "\n",
        "#### Example\n",
        "#\n",
        "\n",
        "saveModel(discriminator, \"Discriminator\")\n",
        "\n",
        "saveModel(generator, \"Generator\")\n",
        "#\n",
        "##\n",
        "# The model D has been saved as \"Discriminator__2022_11_12__15_21\" in the folder ./Models as your code finished running at\n",
        "# 15:21 on the 12 November 2022.\n",
        "##"
      ]
    },
    {
      "cell_type": "markdown",
      "id": "moderate-direction",
      "metadata": {
        "id": "moderate-direction"
      },
      "source": [
        "### 1.k Load your models\n",
        "You can also load models that you trained and saved earlier with the function loadModel.\n",
        "\n",
        "However, be careful. You will have to first recreate a new instance of your class, and then import the state dictionary in the new instance. This means that the characteristics of your class should not have changed since then. In particular, the number of layers and the size of the layers need to match between the trained model and the most recent class in order to correctly assign the stored parameters. Moreover, there could be some trouble if you changed functions/methods from the class. \n",
        "\n",
        "You can of course modify the function loadModel as you wish."
      ]
    },
    {
      "cell_type": "code",
      "execution_count": 30,
      "id": "pressed-violation",
      "metadata": {
        "id": "pressed-violation"
      },
      "outputs": [],
      "source": [
        "def loadModel(model, model_name, date_time):\n",
        "    model.load_state_dict(torch.load('./Models/' + model_name + '__' + date_time, map_location=torch.device('cpu')))\n",
        "    model.eval()\n",
        "    return model\n",
        "\n",
        "discriminator = Discriminator().to(device=device)\n",
        "generator = Generator(dim_latent_space).to(device=device)\n",
        "discriminator = loadModel(discriminator, \"Discriminator\", \"2022_11_29__17_29\")\n",
        "generator = loadModel(generator, \"Generator\", \"2022_11_29__17_29\")\n"
      ]
    },
    {
      "cell_type": "markdown",
      "id": "middle-syria",
      "metadata": {
        "id": "middle-syria"
      },
      "source": [
        "## Section 2: Train a CNN on MNIST for image classification\n",
        "In this second part, you are asked to train and test a CNN for the classification of handwritten numbers (and letters).\n",
        "\n",
        "Therefore, you receive a reference CNN architecture that should not be changed. Training your CNN should be faster than training your GAN, so there is no fear about that.\n",
        "\n",
        "However, if you want to train additional CNN models (for improved results or faster training for example), feel free to create them by yourself and name the classes differently."
      ]
    },
    {
      "cell_type": "markdown",
      "id": "computational-square",
      "metadata": {
        "id": "computational-square"
      },
      "source": [
        "### 2.a Number of classes\n",
        "For classification task, it is of course necessary to know the number of classes possible. \n",
        "\n",
        "For the rest of the homework, pay attention not to confuse the label class (ex: the image represents a 2) and a model class (ex: the model is an instance of the CNN class).\n",
        "\n",
        "There should be no need to modify the function numberClasses."
      ]
    },
    {
      "cell_type": "code",
      "execution_count": 31,
      "id": "fossil-provincial",
      "metadata": {
        "id": "fossil-provincial"
      },
      "outputs": [],
      "source": [
        "def numberClasses(dataset):\n",
        "    n_classes = len(dataset.classes)\n",
        "    return n_classes"
      ]
    },
    {
      "cell_type": "code",
      "execution_count": 32,
      "id": "racial-token",
      "metadata": {
        "id": "racial-token"
      },
      "outputs": [],
      "source": [
        "n_classes = numberClasses(train_set)"
      ]
    },
    {
      "cell_type": "markdown",
      "id": "oriental-attack",
      "metadata": {
        "id": "oriental-attack"
      },
      "source": [
        "### 2.b CNN class\n",
        "The class below contains the reference CNN architecture. You don't have to worry about the initialization of the model, it is done automatically.\n",
        "\n",
        "This architecture should not be changed.\n",
        "\n",
        "The CNN architecture is defined by the number of classes. Indeed, for each entry it outputs a vector of size n_classes with values between -inf and +inf. This vector can be passed through the function scaleToProbabilities in order to get scaled and become somewhat interpretable as probabilities of belonging to one class. The function predictLabels extends the scaleToProbabilities function and selects the most activated/highest valued class as the CNN prediction.\n",
        "\n",
        "There should be no need to modify the functions scaleToProbabilities and predictLabels, except playing with the scale_factor."
      ]
    },
    {
      "cell_type": "code",
      "execution_count": 33,
      "id": "referenced-morris",
      "metadata": {
        "id": "referenced-morris"
      },
      "outputs": [],
      "source": [
        "class CNN(nn.Module):\n",
        "    def __init__(self, n_classes):\n",
        "        super(CNN, self).__init__()\n",
        "        self.n_classes = n_classes\n",
        "        self.conv1 = nn.Sequential(             # Images input is batch_size*1*28*28\n",
        "            nn.Conv2d(1, 16, 5, 1, 2),          # Output is batch_size*16*28*28\n",
        "            nn.ReLU(),                      \n",
        "            nn.MaxPool2d(kernel_size=2),        # Output is batch_size*16*14*14\n",
        "        )\n",
        "        self.conv2 = nn.Sequential(         \n",
        "            nn.Conv2d(16, 32, 5, 1, 2),         # Output is batch_size*32*14*14\n",
        "            nn.ReLU(),                      \n",
        "            nn.MaxPool2d(2),                    # Output is batch_size*32*7*7\n",
        "        )\n",
        "        # fully connected layer, output one number for each class\n",
        "        self.out = nn.Sequential(         \n",
        "            nn.Linear(32 * 7 * 7, self.n_classes),          # Output is batch_size*n_classes\n",
        "        )\n",
        "    \n",
        "    def scaleToProbabilities(self, outmap, scale_factor = 3): \n",
        "        # scale_factor allows to scale your output before passing it into the softmax function \n",
        "        # in order to get numbers interpratble as probabilities\n",
        "        \n",
        "        flattened_outmap = outmap.view(outmap.shape[0], -1)\n",
        "        outmap_std = torch.std(flattened_outmap, dim = 1).view(-1, 1)\n",
        "        outmap_scaled_std = torch.div(outmap, outmap_std)\n",
        "        probabilities = nn.functional.softmax(outmap_scaled_std*scale_factor, dim=1)\n",
        "        return probabilities\n",
        "    \n",
        "    def predictLabels(self, outmap, scale_factor = 3):\n",
        "        probabilities = self.scaleToProbabilities(outmap, scale_factor = 3)\n",
        "        certainty, predicted_labels = torch.max(probabilities, 1)\n",
        "        predicted_labels = predicted_labels.data.squeeze()\n",
        "        certainty = certainty.data.squeeze()\n",
        "        return predicted_labels, probabilities, certainty\n",
        "        \n",
        "    def forward(self, x):\n",
        "        x = self.conv1(x)\n",
        "        x = self.conv2(x)\n",
        "        x = x.view(x.size(0), 32 * 7 * 7)\n",
        "        output = self.out(x)\n",
        "        return output"
      ]
    },
    {
      "cell_type": "code",
      "execution_count": 34,
      "id": "wanted-scientist",
      "metadata": {
        "colab": {
          "base_uri": "https://localhost:8080/"
        },
        "id": "wanted-scientist",
        "outputId": "4f70ca10-cca6-488a-84be-c784d1eab94f"
      },
      "outputs": [
        {
          "name": "stdout",
          "output_type": "stream",
          "text": [
            "Number of parameters of classifier: 28938\n"
          ]
        }
      ],
      "source": [
        "cnn = CNN(n_classes).to(device=device)\n",
        "cnn_params = numberParameters(cnn, model_name = \"classifier\")"
      ]
    },
    {
      "cell_type": "markdown",
      "id": "every-occurrence",
      "metadata": {
        "id": "every-occurrence"
      },
      "source": [
        "### 2.c Loss function\n",
        "For classification tasks, the main loss function used is Cross Entropy. As entries, it takes the activations of last layer nodes  and the true labels of data (between 0 and n_classes-1). \n",
        "\n",
        "This loss function should not be changed."
      ]
    },
    {
      "cell_type": "code",
      "execution_count": 35,
      "id": "korean-cleveland",
      "metadata": {
        "id": "korean-cleveland"
      },
      "outputs": [],
      "source": [
        "# Loss function for the CNN\n",
        "\n",
        "loss_function_cnn = nn.CrossEntropyLoss()"
      ]
    },
    {
      "cell_type": "markdown",
      "id": "controversial-palace",
      "metadata": {
        "id": "controversial-palace"
      },
      "source": [
        "### 2.d Optimizer\n",
        "Again, we will use Adam as an optimizer.\n",
        "\n",
        "You can play around with the Adam parameters if you want."
      ]
    },
    {
      "cell_type": "code",
      "execution_count": 36,
      "id": "national-asset",
      "metadata": {
        "id": "national-asset"
      },
      "outputs": [],
      "source": [
        "# Adam optimization parameters\n",
        "# Predefined values: lr_cnn = 0.01, betas_cnn = (0.9, 0.999)\n",
        "lr_cnn = 0.01\n",
        "betas_cnn = (0.9, 0.999)\n",
        "\n",
        "optimizer_cnn = torch.optim.Adam(cnn.parameters(), lr=lr_cnn, betas = betas_cnn)"
      ]
    },
    {
      "cell_type": "markdown",
      "id": "literary-border",
      "metadata": {
        "id": "literary-border"
      },
      "source": [
        "### 2.e Accuracy\n",
        "We define one error measure as the accuracy reached by the CNN for its classifying predictions. In particular, we call accuracy the ratio between the number of correct classifications and the number of samples. We assume that the most activated output corresponds to the class prediction.\n",
        "\n",
        "During the training, data are loaded batch by batch. It could thus be a good idea to consider that the inputs of the following function are the true and predicted labels from one batch of data.\n",
        "\n",
        "Task: complete the computeCNNAccuracy function."
      ]
    },
    {
      "cell_type": "code",
      "execution_count": 37,
      "id": "ambient-miracle",
      "metadata": {
        "id": "ambient-miracle"
      },
      "outputs": [],
      "source": [
        "def computeCNNAccuracy(y_predicted,y_true):\n",
        "\n",
        "    accuracy = 0.0\n",
        "    accuracy = torch.sum(y_predicted == y_true).item()/y_true.shape[0]\n",
        "\n",
        "    # TO COMPLETE\n",
        "\n",
        "    return accuracy"
      ]
    },
    {
      "cell_type": "markdown",
      "id": "cleared-turtle",
      "metadata": {
        "id": "cleared-turtle"
      },
      "source": [
        "### 2.f Preparing the training process\n",
        "In this part, you are asked to initialize the training process (not the model which is initialized automatically). \n",
        "\n",
        "Let's just first define the number of iterations (epochs) that the training will last. Satisfactory results can be obtained with 15 epochs, but you can of course increase this value for a better training."
      ]
    },
    {
      "cell_type": "code",
      "execution_count": 38,
      "id": "official-prince",
      "metadata": {
        "id": "official-prince"
      },
      "outputs": [],
      "source": [
        "# Number of epochs for the training\n",
        "# Predefined value: num_epochs_cnn = 15\n",
        "\n",
        "num_epochs_cnn = 45"
      ]
    },
    {
      "cell_type": "markdown",
      "id": "medium-scotland",
      "metadata": {
        "id": "medium-scotland"
      },
      "source": [
        "It is important to keep track of the evolution of the error metrics during the training process. A simple idea is to store the values of the metrics in arrays, at least after every epoch.\n",
        "\n",
        "Task: Create arrays that will contain the accuracy for train and test sets, as well as the values of the CNN loss during the training. Compute the errors before training the model and store them in your arrays."
      ]
    },
    {
      "cell_type": "code",
      "execution_count": 39,
      "id": "impressed-handbook",
      "metadata": {
        "id": "impressed-handbook"
      },
      "outputs": [],
      "source": [
        "# Error metrics at initialisation\n",
        "error_train_loss = np.zeros(num_epochs_cnn)\n",
        "error_train_accuracy = np.zeros(num_epochs_cnn)\n",
        "error_test_accuracy = np.zeros(num_epochs_cnn)\n",
        "\n",
        "# TO COMPLETE"
      ]
    },
    {
      "cell_type": "markdown",
      "id": "multiple-diesel",
      "metadata": {
        "id": "multiple-diesel"
      },
      "source": [
        "### 2.g Training and testing the CNN\n",
        "This is finally the core part of this section: training your CNN.\n",
        "\n",
        "The training will follow an easy structure. Here is the pseudo-code of the training process:\n",
        "\n",
        "    for each epoch:\n",
        "\n",
        "        for each batch:\n",
        "\n",
        "            train the classifier on the batch:\n",
        "\n",
        "                predict the labels\n",
        "\n",
        "                compute the classifier loss function\n",
        "\n",
        "                backpropagate the error in the cnn\n",
        "                \n",
        "        end\n",
        "\n",
        "    end\n",
        "\n",
        "Task: Code the CNN training from the pseudo-code given above. Don't forget to switch between training and evaluation modes for the model, by using train() and eval() Pytorch functions. You may also use the time package in order to get information about the duration of the training. Finally, at every epoch, compute and store the accuracy and the loss of the model and generate images from your reference sample."
      ]
    },
    {
      "cell_type": "code",
      "execution_count": null,
      "id": "acute-indianapolis",
      "metadata": {
        "colab": {
          "base_uri": "https://localhost:8080/"
        },
        "id": "acute-indianapolis",
        "outputId": "7512817d-315c-4042-a7d1-5da81204fd73"
      },
      "outputs": [
        {
          "name": "stdout",
          "output_type": "stream",
          "text": [
            "            GAN trained in 714.8920127120001seconds\n"
          ]
        }
      ],
      "source": [
        "# Training of the CNN\n",
        "\n",
        "t1_start = process_time()\n",
        "\n",
        "testing_batch_images, testing_batch_labels = next(iter(test_loader))\n",
        "\n",
        "# Training of the CNN\n",
        "for i in range(num_epochs_cnn):\n",
        "    \n",
        "\n",
        "    cnn.train()\n",
        "    for j, (images, labels) in enumerate(train_loader):\n",
        "        # TO COMPLETE\n",
        "        # Forward pass\n",
        "        forward = cnn(images.cuda())\n",
        "        predicted_labels, probabilities, certainty = cnn.predictLabels(forward)\n",
        "\n",
        "\n",
        "        # Compute loss\n",
        "        loss = loss_function_cnn(probabilities.cuda(), labels.cuda())\n",
        "        # Backward pass\n",
        "        optimizer_cnn.zero_grad()\n",
        "        loss.backward()\n",
        "        optimizer_cnn.step()\n",
        "        # Accuracy\n",
        "        accuracy = computeCNNAccuracy(predicted_labels.cuda(), labels.cuda())\n",
        "\n",
        "        error_train_loss[i] += loss.item()\n",
        "        error_train_accuracy[i] += accuracy\n",
        "\n",
        "        print(\"\\r\"+str(i) +\"  \" + str(j) , end= \"\")\n",
        "    print(\"\\r            \", end= \"\")\n",
        "\n",
        "    error_train_loss[i] /= n_batches_total\n",
        "    error_train_accuracy[i] /= n_batches_total\n",
        "\n",
        "    cnn.eval()\n",
        "\n",
        "    testResult = cnn(testing_batch_images.cuda())\n",
        "    test_labels, _ , _ = cnn.predictLabels(testResult.cuda())\n",
        "    error_test_accuracy[i] = computeCNNAccuracy(test_labels.cuda(), testing_batch_labels.cuda())\n",
        "    if (epoch == 23):\n",
        "      optimizer_cnn = torch.optim.Adam(cnn.parameters(), lr=lr_cnn/10, betas = betas_cnn)\n",
        "      \n",
        "# TO COMPLETE\n",
        "\n",
        "t1_stop = process_time()\n",
        "\n",
        "print(\"GAN trained in \" + str(t1_stop-t1_start) + \"seconds\")"
      ]
    },
    {
      "cell_type": "code",
      "execution_count": null,
      "id": "LwL6EMshoopd",
      "metadata": {
        "colab": {
          "base_uri": "https://localhost:8080/"
        },
        "id": "LwL6EMshoopd",
        "outputId": "8e5d8d8d-e643-46fd-bd56-d9393bd4d378"
      },
      "outputs": [
        {
          "name": "stdout",
          "output_type": "stream",
          "text": [
            "Training loss:  [1.52032949 1.4818955  1.47774685 1.47544997 1.4735089  1.472514\n",
            " 1.47129046 1.47011137 1.46935477 1.46854609 1.4679556  1.46749536\n",
            " 1.46732546 1.46697684 1.46645999 1.46630702 1.46608061 1.46567948\n",
            " 1.46573331 1.46542134 1.46539897 1.46496286 1.46511373 1.46492707\n",
            " 1.4648052  1.46454764 1.46458217 1.46445232 1.46439454 1.46430274\n",
            " 1.46440328 1.46417777 1.46404248 1.46428019 1.46413375 1.4636942\n",
            " 1.46413441 1.46388183 1.46388938 1.46365244 1.46389684 1.46381079\n",
            " 1.46352669 1.46393317 1.46337369]\n",
            "Training accuracy:  [0.95466667 0.98735    0.99031667 0.99183333 0.99318333 0.9938\n",
            " 0.99458333 0.99571667 0.99606667 0.99698333 0.9972     0.99773333\n",
            " 0.99768333 0.99783333 0.99811667 0.99818333 0.99825    0.99856667\n",
            " 0.99843333 0.99863333 0.9987     0.99871667 0.99876667 0.99883333\n",
            " 0.99885    0.99898333 0.99898333 0.9991     0.99916667 0.99911667\n",
            " 0.99898333 0.99915    0.99916667 0.99906667 0.99906667 0.99926667\n",
            " 0.99911667 0.99923333 0.99921667 0.99931667 0.99915    0.99923333\n",
            " 0.99935    0.99926667 0.99935   ]\n",
            "Test accuracy:  [1.      1.      1.      1.      1.      1.      0.96875 1.      1.\n",
            " 1.      1.      1.      1.      1.      1.      1.      0.96875 1.\n",
            " 1.      1.      1.      1.      1.      1.      1.      1.      1.\n",
            " 1.      1.      1.      1.      1.      1.      1.      1.      0.96875\n",
            " 1.      0.96875 1.      0.96875 0.96875 0.96875 1.      0.96875 0.96875]\n"
          ]
        }
      ],
      "source": [
        "print(\"Training loss: \", error_train_loss)\n",
        "print(\"Training accuracy: \", error_train_accuracy)\n",
        "print(\"Test accuracy: \", error_test_accuracy)"
      ]
    },
    {
      "cell_type": "markdown",
      "id": "brutal-marriage",
      "metadata": {
        "id": "brutal-marriage"
      },
      "source": [
        "### 2.h Plot the results\n",
        "Again, you should plot the evolution of your error metrics (accuracy and loss function) in function of the number of epochs, to see how efficient the training is. Show the evolution of the images generated from your reference sample as well.\n",
        "\n",
        "Task: Make those plots, as clean and readable as possible."
      ]
    },
    {
      "cell_type": "code",
      "execution_count": null,
      "id": "checked-proceeding",
      "metadata": {
        "colab": {
          "base_uri": "https://localhost:8080/",
          "height": 374
        },
        "id": "checked-proceeding",
        "outputId": "5f5e39c4-012e-4e78-8485-12d1d15a12a3"
      },
      "outputs": [
        {
          "data": {
            "image/png": "[encoded data removed]",
            "text/plain": [
              "<Figure size 720x432 with 1 Axes>"
            ]
          },
          "metadata": {
            "needs_background": "light"
          },
          "output_type": "display_data"
        }
      ],
      "source": [
        "# Plots of accuracy and of loss function, images generated from your reference sample.\n",
        "\n",
        "# Plots of accuracy and of loss function, images generated from your reference sample.\n",
        "\n",
        "\n",
        "plt.figure(figsize=(10,6))\n",
        "#fig, (ax1, ax2 , ax3, ax4) = plt.subplots(1, 4 )\n",
        "#fig.suptitle(\"Generator and Discriminator Loss During Training\")\n",
        "#ax1.plot(error_discriminator_accuracy,label=\"G\")\n",
        "#ax2.plot(error_generator_accuracy,label=\"D\")\n",
        "#ax3.plot(error_discriminator_loss,label=\"acc\")\n",
        "#ax4.plot(error_generator_loss,label=\"acc\")\n",
        "#fig.supxlabel('iteration')\n",
        "plt.plot(error_train_loss, label=\"train_loss\")\n",
        "\n",
        "\n",
        "\n",
        "plt.plot(error_train_accuracy, label=\"train_accuracy\")\n",
        "plt.plot(error_test_accuracy, label=\"test_accuracy\")\n",
        "plt.legend()\n",
        "\n",
        "plt.show()\n",
        "\n",
        "# TO COMPLETE"
      ]
    },
    {
      "cell_type": "code",
      "execution_count": 41,
      "id": "8065e033",
      "metadata": {},
      "outputs": [],
      "source": [
        "cnn = CNN(n_classes).to(device=device)\n",
        "cnn = loadModel(cnn, \"Cnn\", \"2022_11_29__17_41\")"
      ]
    },
    {
      "cell_type": "markdown",
      "id": "ddc626e3",
      "metadata": {},
      "source": [
        "### 2.i Predict fake bash"
      ]
    },
    {
      "cell_type": "code",
      "execution_count": 74,
      "id": "iAbI1ojwONyh",
      "metadata": {
        "colab": {
          "base_uri": "https://localhost:8080/",
          "height": 976
        },
        "id": "iAbI1ojwONyh",
        "outputId": "71c227de-508c-4f96-ebc1-cca032300a63"
      },
      "outputs": [
        {
          "name": "stdout",
          "output_type": "stream",
          "text": [
            "torch.Size([32, 1, 28, 28])\n"
          ]
        },
        {
          "data": {
            "image/png": "[encoded data removed]",
            "text/plain": [
              "<Figure size 1440x1080 with 16 Axes>"
            ]
          },
          "metadata": {},
          "output_type": "display_data"
        }
      ],
      "source": [
        "\n",
        "labels,_,_ = cnn.predictLabels(cnn(fake))\n",
        "print(fake.detach().cpu().shape)\n",
        "\n",
        "showImages(fake.detach().cpu(), true_labels=labels.detach().cpu())\n"
      ]
    },
    {
      "cell_type": "markdown",
      "id": "consolidated-intent",
      "metadata": {
        "id": "consolidated-intent"
      },
      "source": [
        "## Part 2 coming soon\n",
        "You now have operational GANs and CNNs for handwritten digits (and/or letters). In the second part of the homework, you will combine both networks in order to create what you want and learn more about those neural architectures."
      ]
    },
    {
      "cell_type": "markdown",
      "id": "f1edb28d",
      "metadata": {},
      "source": [
        "### 3.1 Combine your generator and your classifier"
      ]
    },
    {
      "cell_type": "code",
      "execution_count": 82,
      "id": "6WYwqiU8iTfC",
      "metadata": {
        "id": "6WYwqiU8iTfC"
      },
      "outputs": [
        {
          "name": "stdout",
          "output_type": "stream",
          "text": [
            "128\n"
          ]
        }
      ],
      "source": [
        "def define_triplet():\n",
        "\n",
        "    latent_vectors_test = []\n",
        "    vector_transform_test = []\n",
        "    vector_label = []\n",
        "\n",
        "    for i in range (10):\n",
        "        latent_vectors = np.random.uniform(-1, 1, size=(batch_size, dim_latent_space))\n",
        "        latent_vectors = torch.tensor(latent_vectors)\n",
        "\n",
        "        batch = generator(latent_vectors.to(torch.float32)).detach()\n",
        "        inter = cnn(batch)\n",
        "        labels, _ , certainty = cnn.predictLabels(inter)\n",
        "        \n",
        "        for i in range (batch_size):\n",
        "            if (certainty[i] > 0.9):\n",
        "                latent_vectors_test.append(latent_vectors[i])\n",
        "                \n",
        "                vector_transform_test.append(batch[i])\n",
        "                vector_label.append(labels[i])\n",
        "\n",
        "    return latent_vectors_test, vector_transform_test, vector_label\n",
        "            \n",
        "latent_vectors_test, vector_transform_test, vector_label = define_triplet()\n",
        "print(len(latent_vectors_test))\n"
      ]
    },
    {
      "cell_type": "markdown",
      "id": "22595e18",
      "metadata": {},
      "source": [
        "* Display labelled_latent_vect"
      ]
    },
    {
      "cell_type": "code",
      "execution_count": 83,
      "id": "0daa3ebd",
      "metadata": {},
      "outputs": [
        {
          "data": {
            "image/png": "[encoded data removed]",
            "text/plain": [
              "<Figure size 1440x1080 with 16 Axes>"
            ]
          },
          "metadata": {},
          "output_type": "display_data"
        }
      ],
      "source": [
        "def display_triplet(vector_transform_test, vector_label):\n",
        "\n",
        "    showImages(torch.stack(vector_transform_test), true_labels=vector_label)\n",
        "        \n",
        "display_triplet(vector_transform_test[0:32], vector_label[0:32])"
      ]
    },
    {
      "cell_type": "markdown",
      "id": "506353fe",
      "metadata": {},
      "source": [
        "### 3.2 Distribution of classes"
      ]
    },
    {
      "cell_type": "code",
      "execution_count": 84,
      "id": "4oBjEpK0jYES",
      "metadata": {
        "colab": {
          "base_uri": "https://localhost:8080/"
        },
        "id": "4oBjEpK0jYES",
        "outputId": "2e2ddcf9-d8a0-47b2-fa43-8217fcc4e491"
      },
      "outputs": [
        {
          "data": {
            "image/png": "[encoded data removed]",
            "text/plain": [
              "<Figure size 432x288 with 1 Axes>"
            ]
          },
          "metadata": {
            "needs_background": "light"
          },
          "output_type": "display_data"
        }
      ],
      "source": [
        "def distribution_classes(vector_label):\n",
        "    distribution = np.zeros(10)\n",
        "    for i in range (len(vector_label)):\n",
        "        distribution[vector_label[i]] += 1\n",
        "\n",
        "    plt.bar( [\"0\",\"1\",\"2\",\"3\",\"4\",\"5\",\"6\",\"7\",\"8\",\"9\"] , distribution )\n",
        "    return distribution\n",
        "\n",
        "distribution = distribution_classes(vector_label)"
      ]
    },
    {
      "cell_type": "markdown",
      "id": "2493b4ae",
      "metadata": {},
      "source": [
        "### 3.3 Mean latent vectors"
      ]
    },
    {
      "cell_type": "code",
      "execution_count": 89,
      "id": "7mM7WdjZjdU_",
      "metadata": {
        "colab": {
          "base_uri": "https://localhost:8080/",
          "height": 958
        },
        "id": "7mM7WdjZjdU_",
        "outputId": "ebea3604-442e-436b-c2b2-6b292f182e44"
      },
      "outputs": [
        {
          "name": "stdout",
          "output_type": "stream",
          "text": [
            "32\n",
            "<class 'torch.Tensor'>\n",
            "<class 'torch.Tensor'>\n",
            "torch.Size([32, 100])\n",
            "tensor([-0.7055, -0.2140,  0.1855,  0.0014,  0.2290,  0.1727,  0.0689, -0.3185,\n",
            "        -0.2237, -0.2539,  0.1481, -0.3263, -0.4283, -0.0157, -0.5334,  0.0932,\n",
            "         0.1183,  0.1193, -0.0682, -0.0308, -0.1681,  0.3030, -0.0166,  0.3147,\n",
            "        -0.4922, -0.3752, -0.5128, -0.5930, -0.5063, -0.4214, -0.0968, -0.5939,\n",
            "         0.1402,  0.3245,  0.3939, -0.3793,  0.0390,  0.3365,  0.2100,  0.1187,\n",
            "         0.0303,  0.2397, -0.2464,  0.3816,  0.2005,  0.3240,  0.3114, -0.2617,\n",
            "         0.4088, -0.1479,  0.0653,  0.0675, -0.0835, -0.3878, -0.2058,  0.1081,\n",
            "        -0.2852, -0.0332, -0.2080,  0.1991,  0.5664,  0.0588,  0.1643, -0.2209,\n",
            "         0.0914, -0.1787,  0.5559,  0.1455, -0.3607,  0.3971,  0.1435, -0.4452,\n",
            "        -0.2567, -0.0260, -0.2069,  0.0066,  0.1857, -0.1386, -0.1344, -0.2322,\n",
            "        -0.0300,  0.4432, -0.1805,  0.3630,  0.5595,  0.0708,  0.0177,  0.1549,\n",
            "        -0.2805, -0.2705, -0.0253, -0.0841,  0.3779,  0.3271,  0.5623, -0.0011,\n",
            "         0.1635,  0.1324, -0.6519,  0.2678])\n"
          ]
        }
      ],
      "source": [
        "#latent_vectors = torch.tensor(latent_vectors).cuda()\n",
        "#fake = generator(latent_vectors.to(torch.float32)).detach()\n",
        "def mean_latent_vector(latent_vectors_test, distribution, vector_label):\n",
        "    mean_vector = torch.zeros((32, dim_latent_space))\n",
        "\n",
        "    for i in range (len(latent_vectors_test)):\n",
        "        \n",
        "        mean_vector[vector_label[i]] += torch.div(latent_vectors_test[i], distribution[vector_label[i]])\n",
        "\n",
        "    return mean_vector\n",
        "\n",
        "mean_vector = mean_latent_vector(latent_vectors_test, distribution, vector_label)\n",
        "print(len(mean_vector))\n",
        "print(type(mean_vector))\n",
        "print(type(mean_vector[0]))\n",
        "print(mean_vector.shape)\n",
        "print(mean_vector[0])"
      ]
    },
    {
      "cell_type": "code",
      "execution_count": 91,
      "id": "443ea35e",
      "metadata": {},
      "outputs": [
        {
          "data": {
            "image/png": "[encoded data removed]",
            "text/plain": [
              "<Figure size 1440x1080 with 16 Axes>"
            ]
          },
          "metadata": {},
          "output_type": "display_data"
        }
      ],
      "source": [
        "def display_mean_latent_vector(mean_vector):\n",
        "    mean_transformed = generator(mean_vector).detach()\n",
        "\n",
        "    showImages(mean_transformed, true_labels=torch.tensor([0,1,2,3,4,5,6,7,8,9,-1,-1,-1,-1,-1,-1,-1,-1,-1,-1,-1,-1,-1,-1,-1,-1,-1,-1,-1,-1,-1]))\n",
        "\n",
        "    \n",
        "display_mean_latent_vector(mean_vector)"
      ]
    },
    {
      "cell_type": "markdown",
      "id": "e10ea57a",
      "metadata": {},
      "source": [
        "### 3.4 Norms and distances"
      ]
    },
    {
      "cell_type": "code",
      "execution_count": 95,
      "id": "VLtXCVJ7jdch",
      "metadata": {
        "id": "VLtXCVJ7jdch"
      },
      "outputs": [
        {
          "name": "stdout",
          "output_type": "stream",
          "text": [
            "tensor([2.9602, 2.2613, 1.2334, 1.1041, 1.4672, 1.3178, 3.2657, 1.3464, 2.3770,\n",
            "        2.3437])\n",
            "tensor([6.1450, 5.6162, 6.1903, 5.5176, 5.9082, 5.5010, 5.9491, 5.4817, 5.9029,\n",
            "        5.6447, 6.3407, 5.6775, 5.3358, 5.6226, 5.8845, 5.6851, 5.8723, 6.0678,\n",
            "        6.0275, 5.3507, 5.6784, 5.6871, 5.9229, 5.6310, 6.0010, 5.3806, 6.1873,\n",
            "        5.4526, 5.7542, 5.5984, 5.7755, 6.0213])\n",
            "tensor(3)\n",
            "tensor(3)\n"
          ]
        },
        {
          "data": {
            "text/plain": [
              "'norm_table_random = np.zeros(10)\\nnorm_table_labaled = []\\nnorm_table_average_labeled = np.zeros(10)\\ndistance_list = []\\nfor i in range (10):\\n    norm_table_random[i]          = np.linalg.norm(np.random.uniform(-1, 1, size=(batch_size, dim_latent_space)))\\n    \\n    norm_table_average_labeled[i] = np.linalg.norm(mean_latent_vectors[i])\\n    \\nfor i in range (len (quad)):\\n    norm = np.linalg.norm(quad[i][0].cpu())\\n    label = quad[i][2]\\n    norm_table_labaled.append([norm ,label])\\n    distance = norm_table_average_labeled[label] -norm \\n    distance_list.append([distance , label.item()])'"
            ]
          },
          "execution_count": 95,
          "metadata": {},
          "output_type": "execute_result"
        }
      ],
      "source": [
        "def norm_mean_vector(mean_vector):\n",
        "    norm = torch.zeros(n_classes)\n",
        "    for i in range (n_classes):\n",
        "        norm[i] = torch.norm(mean_vector[i])\n",
        "    return norm\n",
        "\n",
        "mean_norm = norm_mean_vector(mean_vector)\n",
        "print(mean_norm)\n",
        "\n",
        "def norm_labeled_vector(latent_vectors_test):\n",
        "    norm = torch.zeros(len(latent_vectors_test))\n",
        "    for i in range (len(latent_vectors_test)):\n",
        "        norm[i] = torch.norm(latent_vectors_test[i])\n",
        "    return norm\n",
        "\n",
        "labeled_norms = norm_labeled_vector(latent_vectors_test)\n",
        "print(labeled_norms[0:32])\n",
        "\n",
        "def distance_mean_vector(mean_vector, latent_vector):\n",
        "\n",
        "    distance = torch.zeros(n_classes)\n",
        "    for i in range (n_classes):\n",
        "        distance[i] = torch.dist(mean_vector[i], latent_vector)\n",
        "    return distance\n",
        "\n",
        "distance = distance_mean_vector(mean_vector, latent_vectors_test[0])\n",
        "\n",
        "def minimum_distance(distance):\n",
        "    minimum = torch.argmin(distance)\n",
        "    return minimum\n",
        "print(minimum_distance(distance))\n",
        "print(vector_label[0])\n",
        "\n",
        "\n",
        "\"\"\"norm_table_random = np.zeros(10)\n",
        "norm_table_labaled = []\n",
        "norm_table_average_labeled = np.zeros(10)\n",
        "distance_list = []\n",
        "for i in range (10):\n",
        "    norm_table_random[i]          = np.linalg.norm(np.random.uniform(-1, 1, size=(batch_size, dim_latent_space)))\n",
        "    \n",
        "    norm_table_average_labeled[i] = np.linalg.norm(mean_latent_vectors[i])\n",
        "    \n",
        "for i in range (len (quad)):\n",
        "    norm = np.linalg.norm(quad[i][0].cpu())\n",
        "    label = quad[i][2]\n",
        "    norm_table_labaled.append([norm ,label])\n",
        "    distance = norm_table_average_labeled[label] -norm \n",
        "    distance_list.append([distance , label.item()])\"\"\"\n",
        "\n",
        "\n",
        "    "
      ]
    },
    {
      "cell_type": "code",
      "execution_count": 225,
      "id": "4OMApi1Bj08r",
      "metadata": {
        "colab": {
          "base_uri": "https://localhost:8080/"
        },
        "id": "4OMApi1Bj08r",
        "outputId": "d2d69c25-c074-4b08-9f94-7bb31da57cef"
      },
      "outputs": [
        {
          "name": "stdout",
          "output_type": "stream",
          "text": [
            "[[-5.189303256168324, 7], [-5.360229346147558, 7], [-5.578794328223667, 2], [-5.4839641860481425, 2], [-5.63032136746478, 3], [-5.647706428441606, 5], [-5.579033456271105, 4], [-5.793737094041448, 3], [-5.703741659708478, 2], [-5.511693044555141, 3], [-5.463755565426554, 5], [-5.59568407608676, 3], [-6.1980850413555375, 3], [-6.02405444547323, 3], [-5.270634830556436, 6], [-6.182134572193159, 7], [-5.180313425060338, 8], [-5.373059906098414, 2], [-5.676096156984105, 5], [-5.557780465360068, 3], [-5.838851478401644, 7], [-5.665828674397861, 3], [-5.626470392468619, 3], [-5.36421157683816, 2], [-5.548888503241465, 3], [-5.787412575559771, 3], [-5.886410709663372, 2], [-5.524862074912392, 2], [-5.384267421358111, 2], [-5.07950225765693, 7], [-5.781368021222099, 2], [-5.7792262856788215, 7], [-5.6882068808877095, 2], [-5.9438400352014265, 3], [-5.80130164764139, 3], [-3.295088811674231, 9], [-5.692650630660147, 3], [-5.922360296731838, 7], [-5.152657756392523, 4], [-5.579601087294059, 5], [-5.121053668852069, 2], [-5.991217413258911, 2], [-5.53347236901947, 4], [-5.455283043455449, 7], [-5.6359217762015685, 3], [-5.388504571137742, 6], [-4.907352074863903, 5], [-5.435263214284495, 2], [-5.404694430715983, 6], [-5.837767569560166, 2], [-5.568888669956223, 2], [-5.453091706923099, 7], [-5.592167229828119, 7], [-5.568841673141685, 3], [-4.923249699919124, 6], [-4.390458269639813, 1], [-5.855037300791882, 5], [-5.365341898672764, 5], [-5.8803768890919885, 7], [-5.602396480048465, 3], [-5.9904951473896135, 2], [-4.754295702503495, 6], [-4.89659296468956, 8], [-5.48877973390261, 3], [-5.421139893247248, 5], [-5.733891205548737, 2], [-2.5532072618576476, 0], [-5.521101840052015, 7], [-5.575639120456557, 6], [-5.552253047815151, 7], [-5.66816191884041, 7], [-5.17162107883526, 2], [-5.400999069934533, 7], [-5.711118598006312, 3], [-5.5927916916318665, 5], [-5.390230223213722, 5], [-4.9532549349877115, 8], [-4.817696843305286, 4], [-5.675213341803686, 3], [-5.935746160199486, 2], [-5.459358239319938, 6], [-5.59860090260593, 4], [-2.7738680878877333, 9], [-5.223138982252675, 5], [-5.687932365651457, 3], [-5.4833967971479005, 3], [-5.161067252645379, 8], [-5.934986064830057, 3], [-5.327099337064513, 3], [-5.026635075465121, 6], [-5.500263967526897, 3], [-5.376071885391943, 5], [-5.499045222814076, 5], [-5.752867943933375, 5], [-5.433892260257724, 8], [-5.010656002940551, 5], [-5.672901263414386, 3], [-5.4774301492302335, 7], [-5.884331735065521, 2], [-5.82628695162771, 5], [-5.840928197383587, 3], [-5.796791556445386, 2], [-5.916101747798065, 3], [-5.68518460345743, 5], [-5.393475988708956, 4], [-5.368207747193033, 5], [-5.3250380410834985, 7], [-5.57437682324543, 5], [-5.478785093263807, 3], [-5.72658689069581, 7], [-5.755908077717429, 4], [-5.665894497313926, 3], [-5.8335605591912225, 3], [-4.74173961414873, 1], [-5.457481448663766, 6], [-5.186787389366073, 7], [-4.817707836112027, 8], [-5.5687907266143455, 5], [-5.704544546234427, 3], [-5.800174896671, 2], [-4.075027428477826, 1], [-5.204924633201969, 4], [-5.592474660918232, 6], [-5.52121306756759, 2], [-4.97831322550561, 4], [-5.818698478780539, 3], [-5.24184177537063, 4], [-5.226522993440376, 2], [-5.359960995400973, 2], [-5.972041823476105, 3], [-5.848627016040903, 7], [-5.535047697465427, 4], [-5.7172480499028495, 6], [-5.015792545925164, 6], [-5.477884052466139, 6], [-5.601365638343303, 7], [-5.662369403754853, 3], [-5.363415762733531, 2], [-2.9280731451105244, 0], [-5.803484289648473, 3], [-5.711799477679723, 2], [-5.8736478092088396, 2], [-5.639608008853076, 3], [-5.923568078552724, 2], [-5.289812690146614, 7], [-5.573149952708822, 2], [-6.342391565579934, 7], [-5.656801453129261, 4], [-5.678175932911253, 2], [-5.28939734033532, 7], [-5.197966221453832, 4], [-6.0695521378004775, 2], [-5.620338013497787, 2], [-5.659122879230167, 2], [-5.85059381892297, 7], [-5.662306085725385, 4], [-5.981440755508185, 2], [-5.5010531714930115, 7], [-4.154755351213345, 1], [-6.011417858988185, 4], [-5.336152009861603, 3], [-5.764652756052332, 2], [-5.574598734858366, 7], [-5.245780516478445, 4], [-5.614695380300215, 2], [-5.9392787084052925, 3], [-5.6160044982153074, 3], [-4.964695129379929, 8], [-5.142399607556822, 4], [-5.470773711142383, 3], [-5.373728974930395, 4], [-5.146525630798794, 7], [-5.658477024103258, 2], [-5.650168002434614, 3], [-5.692096388682814, 3]]\n"
          ]
        }
      ],
      "source": [
        "print(distance_list)"
      ]
    },
    {
      "cell_type": "code",
      "execution_count": 227,
      "id": "a-DSufp4kFAh",
      "metadata": {
        "colab": {
          "base_uri": "https://localhost:8080/",
          "height": 283
        },
        "id": "a-DSufp4kFAh",
        "outputId": "cdf092cf-2976-4f92-939c-940bc57d10a2"
      },
      "outputs": [
        {
          "data": {
            "text/plain": [
              "<matplotlib.collections.PathCollection at 0x7f2a4c7b6350>"
            ]
          },
          "execution_count": 227,
          "metadata": {},
          "output_type": "execute_result"
        },
        {
          "data": {
            "image/png": "[encoded data removed]",
            "text/plain": [
              "<Figure size 432x288 with 1 Axes>"
            ]
          },
          "metadata": {
            "needs_background": "light"
          },
          "output_type": "display_data"
        }
      ],
      "source": [
        "x=[0]\n",
        "y = [0]\n",
        "color=[11]\n",
        "for i in range(len(distance_list)):\n",
        "  \n",
        "  color.append(distance_list[i][1])\n",
        "  angle = distance_list[i][1]*2*np.pi /10 \n",
        "  x.append(distance_list[i][0] * np.cos(angle))\n",
        "  y.append(distance_list[i][0] * np.sin(angle))\n",
        "\n",
        "\n",
        "\n",
        "\n",
        "plt.scatter(x = x , y = y , c = color  )"
      ]
    },
    {
      "cell_type": "code",
      "execution_count": null,
      "id": "2sEaKu90mpRq",
      "metadata": {
        "id": "2sEaKu90mpRq"
      },
      "outputs": [],
      "source": [
        "x=[0]\n",
        "y = [0]\n",
        "color=[11]\n",
        "for i in range(len(norm_table_average_labeled)):\n",
        "  \n",
        "  color.append(i)\n",
        "  angle = i*2*np.pi /10 \n",
        "  x.append(norm_table_average_labeled[i] * np.cos(angle))\n",
        "  y.append(norm_table_average_labeled[i] * np.sin(angle))\n",
        "\n",
        "plt.scatter(x = x , y = y , c = color  )\n",
        "plt.xlim([-0.2, 0.2])\n",
        "plt.ylim([-0.2, 0.2])\n",
        "plt.show()"
      ]
    }
  ],
  "metadata": {
    "accelerator": "GPU",
    "colab": {
      "collapsed_sections": [
        "wired-revolution",
        "concerned-welcome",
        "fundamental-disorder",
        "published-ranch",
        "moderate-direction",
        "computational-square",
        "oriental-attack",
        "every-occurrence"
      ],
      "provenance": []
    },
    "gpuClass": "standard",
    "kernelspec": {
      "display_name": "Python 3.9.0 64-bit",
      "language": "python",
      "name": "python3"
    },
    "language_info": {
      "codemirror_mode": {
        "name": "ipython",
        "version": 3
      },
      "file_extension": ".py",
      "mimetype": "text/x-python",
      "name": "python",
      "nbconvert_exporter": "python",
      "pygments_lexer": "ipython3",
      "version": "3.9.0"
    },
    "vscode": {
      "interpreter": {
        "hash": "d4f2838866252358e8356908bfe578159dba55fbe903e0d25dacf462f792c2ff"
      }
    }
  },
  "nbformat": 4,
  "nbformat_minor": 5
}
