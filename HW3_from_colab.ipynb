{
  "cells": [
    {
      "cell_type": "markdown",
      "id": "weighted-bhutan",
      "metadata": {
        "id": "weighted-bhutan"
      },
      "source": [
        "\n",
        "# LINMA2472 - Algorithms in Data Science\n",
        "# Homework 3: GAN and CNN to conquer MNIST\n",
        "# Part 1: Implementation\n",
        "Bastien Massion - bastien.massion@uclouvain.be\n",
        "\n",
        "12 November 2022 - v2"
      ]
    },
    {
      "cell_type": "markdown",
      "id": "current-airfare",
      "metadata": {
        "id": "current-airfare"
      },
      "source": [
        "## Guidelines\n",
        "This homework is done in Python, using the PyTorch library for neural networks. \n",
        "\n",
        "The homework is divided in 2 parts, this Notebook is the assignment for part 1. The second part will become available next week. The goal of the homework is to use a GAN for generating handwritten numbers (and letters) and a CNN to classify them. This first part is dedicated to the implementation, the second part will focus on analyzing and using the neural networks.\n",
        "\n",
        "The exact instructions for the report will come with the second part. However, every task asked in this Notebook will be useful, so get ahead!\n",
        "\n",
        "As for the previous homeworks, you are making groups of 3, in the Moodle activity \"Group choice for assignment 3\".\n",
        "\n",
        "The deadline for the whole homework is: 30 November 2022, 23:59.\n",
        "\n",
        "Your questions should be posted on the dedicated Moodle \"Class forum\" or sent directly to the mail address: bastien.massion@uclouvain.be."
      ]
    },
    {
      "cell_type": "markdown",
      "id": "comparative-joyce",
      "metadata": {
        "id": "comparative-joyce"
      },
      "source": [
        "## Introduction\n",
        "Since their introduction in 2014 by Goodfellow et al., Generative Adversarial Networks (GAN) have taken a predominant place in the deep learning landscape. GANs are deep neural networks composed of two parts: a generator and a discriminator. Those two parts are trained as opponents (hence \"adversarial\"): from the dataset, the generator tries to create new fake data that can fool the discriminator into thinking they are real, while the discriminator tries to distinguish between true and fake data. Often, the most interesting part of this model is the generator, therefore we often refer to GANs as generative models (even if they are also discriminative models). This generative property is used in a lot of applications: mainly for image processing task (style transfer, segmentation, face generation, image inpainting, deblurring, super-resolution,...), but also for natural language processing tasks (text summarization, text generation,...), for music generation or even for medical tasks (tumor detection).\n",
        "\n",
        "Another powerful architecture is Convolutional Neural Networks (CNN). CNNs naturally exploit invariances that are present in data (such that translation in images) in order, for example, to classify them. This is done by applying successive convolutions on data in order to extract the main features. Together with the backpropagation algorithm, the invention of CNN marked the revival of neural networks and deep learning in the 90's. Since then, they have found plenty of applications, mostly in image processing tasks.\n",
        "\n",
        "The goal of this homework in two parts is to implement your first GAN as well as your first CNN, to explore some properties and finally to combine them in order to generate what you desire."
      ]
    },
    {
      "cell_type": "markdown",
      "id": "attached-nothing",
      "metadata": {
        "id": "attached-nothing"
      },
      "source": [
        "## Packages import\n",
        "You will need several packages in order to successfully build, train and use your neural networks. \n",
        "\n",
        "The following packages are necessary and should not be removed. However, if you want to add other packages for your figures, for timing or whatever, feel free to do so."
      ]
    },
    {
      "cell_type": "code",
      "execution_count": 1,
      "id": "analyzed-facing",
      "metadata": {
        "id": "analyzed-facing"
      },
      "outputs": [],
      "source": [
        "\n",
        "# PyTorch is a common library for neural networks in Python. torch.nn is a module for building layers of Neural Networks.\n",
        "import torch\n",
        "from torch import nn\n",
        "import torch.nn.functional as F\n",
        "\n",
        "# TorchVision is part of the PyTorch environment. It is necessary to download the datasets MNIST (and EMNIST Letters)\n",
        "import torchvision\n",
        "import torchvision.transforms as transforms\n",
        "\n",
        "# Usual mathematical stuff\n",
        "import numpy as np\n",
        "import math\n",
        "\n",
        "# Plots\n",
        "import matplotlib.pyplot as plt\n",
        "\n",
        "# Timing\n",
        "import time\n",
        "from datetime import datetime\n",
        "from time import process_time"
      ]
    },
    {
      "cell_type": "markdown",
      "id": "celtic-chapel",
      "metadata": {
        "id": "celtic-chapel"
      },
      "source": [
        "## Resources\n",
        "Training neural networks is really expensive, especially if your networks are large. It is thus important to look for the most suited computing and storing resources.\n",
        "\n",
        "In practice, parallelisation of computations can speed up the process a lot, by several orders of magnitude. In particular, computing on a GPU (Graphics Processing Unit), which has up to hundreds of cores, will be much faster than on your usual laptop CPU (Central Processing Unit), typically with less than 8 cores. \n",
        "\n",
        "Therefore, it is useful to search for the maximum available computing power.\n",
        "\n",
        "Be reassured, this homework is doable on your standard laptop CPU.\n",
        "\n",
        "But, if you want or need better equipments for this project, there are some solutions."
      ]
    },
    {
      "cell_type": "markdown",
      "id": "psychological-furniture",
      "metadata": {
        "id": "psychological-furniture"
      },
      "source": [
        "### What is available?\n",
        "The function chooseDevice automatically checks if there is a GPU available. If there is one, computations will be done there. Simply be careful of adding \".to(device=device)\" everywhere it will be needed in the rest of the code. Otherwise, computations will be done on CPU.\n",
        "\n",
        "There should be no need to modify the function chooseDevice."
      ]
    },
    {
      "cell_type": "code",
      "execution_count": 2,
      "id": "attractive-maine",
      "metadata": {
        "id": "attractive-maine"
      },
      "outputs": [],
      "source": [
        "# Check if GPU is available\n",
        "\n",
        "def chooseDevice():\n",
        "    device = \"\"\n",
        "    if torch.cuda.is_available():\n",
        "        device = torch.device(\"cuda\")\n",
        "        print(\"GPU available via cuda\")\n",
        "    else:\n",
        "        device = torch.device(\"cpu\")\n",
        "        print(\"GPU not available, CPU available\")\n",
        "    return device"
      ]
    },
    {
      "cell_type": "code",
      "execution_count": 3,
      "id": "fancy-digit",
      "metadata": {
        "colab": {
          "base_uri": "https://localhost:8080/"
        },
        "id": "fancy-digit",
        "outputId": "28979719-e59f-4f61-8361-ccc6744c9e0a"
      },
      "outputs": [
        {
          "name": "stdout",
          "output_type": "stream",
          "text": [
            "GPU not available, CPU available\n"
          ]
        }
      ],
      "source": [
        "device = chooseDevice()"
      ]
    },
    {
      "cell_type": "markdown",
      "id": "variable-landscape",
      "metadata": {
        "id": "variable-landscape"
      },
      "source": [
        "### I need more power: Google Colab\n",
        "If you need or want more computing power, you can use Google Colab. Colab is a free and easy to use service from Google, where you can borrow their efficient resources. Often, GPU are not available (reserved in priority for people with paying subscriptions), but their CPU's are probably better than yours. You just need a Google account in order to run code online. Note that it works with Jupyter Notebooks, which is nice. \n",
        "\n",
        "If, despite this, you are not satisfied, feel free to contact Bastien Massion."
      ]
    },
    {
      "cell_type": "markdown",
      "id": "cubic-saint",
      "metadata": {
        "id": "cubic-saint"
      },
      "source": [
        "## Set random seed\n",
        "Setting the seed for the generation of random numbers is not necessary, but can be useful for keeping consistency in your experiments."
      ]
    },
    {
      "cell_type": "code",
      "execution_count": 4,
      "id": "corporate-reading",
      "metadata": {
        "id": "corporate-reading"
      },
      "outputs": [],
      "source": [
        "_ = torch.manual_seed(2472) "
      ]
    },
    {
      "cell_type": "markdown",
      "id": "literary-boston",
      "metadata": {
        "id": "literary-boston"
      },
      "source": [
        "## Datasets\n",
        "Two datasets are proposed. \n",
        "\n",
        "First, the classical MNIST set. MNIST is mandatory and sufficient to complete the whole homework. It contains a total of 70 000 handwritten digits (60 000 train, 10 000 test) from 10 balanced classes (one for each digit). You have already worked with it in the HW2.\n",
        "\n",
        "Then, the EMNIST Letters set. This second dataset is larger (more data and more classes) and optional, but could be used to create more impressive results. It contains a total of 145 600 handwritten letters (124 800 train, 20 800 test) from 26 balanced classes (one for each latin letter, lowercase and uppercase mixed). For your information, EMNIST (Extended MNIST) contains several varations and extensions of MNIST."
      ]
    },
    {
      "cell_type": "markdown",
      "id": "korean-device",
      "metadata": {
        "id": "korean-device"
      },
      "source": [
        "### Load dataset\n",
        "The datasets are loaded from the module torchvision.\n",
        "\n",
        "There should be no need to modify the function getData."
      ]
    },
    {
      "cell_type": "code",
      "execution_count": 5,
      "id": "norwegian-soccer",
      "metadata": {
        "id": "norwegian-soccer"
      },
      "outputs": [],
      "source": [
        "# Extracts the train and test sets from a chosen image dataset\n",
        "# Values of pixels are normalized between -1 and 1\n",
        "\n",
        "def getData(dataset = \"MNIST\", info = True):\n",
        "    if dataset == \"MNIST\":\n",
        "        transform = transforms.Compose([transforms.ToTensor(), transforms.Normalize((0.5,), (0.5,))])\n",
        "        train_set = torchvision.datasets.MNIST(root=\".\", train=True, download=True, transform=transform)\n",
        "        test_set = torchvision.datasets.MNIST(root=\".\", train=False, download=True, transform=transform)\n",
        "    elif dataset == \"EMNIST_Letters\":\n",
        "        transform = transforms.Compose([transforms.ToTensor(), transforms.Normalize((0.5,), (0.5,))])\n",
        "        train_set = torchvision.datasets.EMNIST(root=\".\", split=\"letters\", train=True, download=True, transform=transform)\n",
        "        test_set = torchvision.datasets.EMNIST(root=\".\", split=\"letters\", train=False, download=True, transform=transform)\n",
        "    else:\n",
        "        print(\"DATASET NOT CORRECTLY DEFINED\")\n",
        "    if info:\n",
        "        print(train_set)\n",
        "        print(test_set)\n",
        "    return train_set, test_set"
      ]
    },
    {
      "cell_type": "code",
      "execution_count": 6,
      "id": "burning-district",
      "metadata": {
        "colab": {
          "base_uri": "https://localhost:8080/"
        },
        "id": "burning-district",
        "outputId": "1557043f-2f1f-4267-dc07-1c97f27f011d"
      },
      "outputs": [
        {
          "name": "stdout",
          "output_type": "stream",
          "text": [
            "Dataset MNIST\n",
            "    Number of datapoints: 60000\n",
            "    Root location: .\n",
            "    Split: Train\n",
            "    StandardTransform\n",
            "Transform: Compose(\n",
            "               ToTensor()\n",
            "               Normalize(mean=(0.5,), std=(0.5,))\n",
            "           )\n",
            "Dataset MNIST\n",
            "    Number of datapoints: 10000\n",
            "    Root location: .\n",
            "    Split: Test\n",
            "    StandardTransform\n",
            "Transform: Compose(\n",
            "               ToTensor()\n",
            "               Normalize(mean=(0.5,), std=(0.5,))\n",
            "           )\n"
          ]
        }
      ],
      "source": [
        "# Choose which dataset to use\n",
        "\n",
        "dataset = \"MNIST\"\n",
        "#dataset = \"EMNIST_Letters\"\n",
        "\n",
        "train_set, test_set = getData(dataset = dataset)"
      ]
    },
    {
      "cell_type": "markdown",
      "id": "tropical-indie",
      "metadata": {
        "id": "tropical-indie"
      },
      "source": [
        "### Get size of dataset\n",
        "This function is just there to extract useful information about the (relative) sizes of the train and test sets.\n",
        "\n",
        "There should be no need to modify the function dataSize."
      ]
    },
    {
      "cell_type": "code",
      "execution_count": 7,
      "id": "verbal-dialogue",
      "metadata": {
        "id": "verbal-dialogue"
      },
      "outputs": [],
      "source": [
        "# Get information about the size of the train and test sets.\n",
        "\n",
        "def dataSize(train_set, test_set):\n",
        "    n_train_set = train_set.__len__()\n",
        "    n_test_set = test_set.__len__()\n",
        "    n_tot = n_train_set + n_test_set\n",
        "    ratio_train_test = n_train_set / n_test_set\n",
        "    percentage_train = n_train_set / n_tot\n",
        "    percentage_test = 1.0 - percentage_train\n",
        "    return n_train_set, n_test_set, n_tot, ratio_train_test, percentage_train, percentage_test"
      ]
    },
    {
      "cell_type": "code",
      "execution_count": 8,
      "id": "military-guard",
      "metadata": {
        "id": "military-guard"
      },
      "outputs": [],
      "source": [
        "n_train_set, n_test_set, n_tot, ratio_train_test, percentage_train, percentage_test = dataSize(train_set, test_set)"
      ]
    },
    {
      "cell_type": "markdown",
      "id": "organized-turner",
      "metadata": {
        "id": "organized-turner"
      },
      "source": [
        "### Divide dataset into batches\n",
        "Computing the whole gradient for neural networks is too heavy, as it requires information about the whole dataset. Thus, we use (Mini-)Batch Gradient Descent. This is a variant of Stochastic Gradient Descent (SGD) in which we compute the gradient only for a small number of data, gathered in a batch. Typically, the batch size is orders of magnitude smaller than the whole dataset.\n",
        "\n",
        "The function divideInBatches splits the dataset and loads the data.\n",
        "\n",
        "You can modify the value of parameter batch_size as you wish.\n",
        "\n",
        "There should be no need to modify the function divideInBatches."
      ]
    },
    {
      "cell_type": "code",
      "execution_count": 9,
      "id": "recognized-enhancement",
      "metadata": {
        "id": "recognized-enhancement"
      },
      "outputs": [],
      "source": [
        "# Paramater for the batch size\n",
        "# Predefined value = 32\n",
        "\n",
        "batch_size = 32"
      ]
    },
    {
      "cell_type": "code",
      "execution_count": 10,
      "id": "sorted-pakistan",
      "metadata": {
        "id": "sorted-pakistan"
      },
      "outputs": [],
      "source": [
        "# Divide dataset into batches\n",
        "\n",
        "def divideInBatches(train_set, test_set, batch_size, n_train_set, n_test_set):\n",
        "    # Train set\n",
        "    n_batches_total = math.ceil(n_train_set/batch_size)\n",
        "    train_loader = torch.utils.data.DataLoader(train_set, batch_size=batch_size, shuffle=True)\n",
        "    \n",
        "    # Test set\n",
        "    n_batches_total_test = math.ceil(n_test_set/batch_size)\n",
        "    test_loader = torch.utils.data.DataLoader(test_set, batch_size=batch_size, shuffle=True)\n",
        "    \n",
        "    return train_loader, test_loader, n_batches_total, n_batches_total_test"
      ]
    },
    {
      "cell_type": "code",
      "execution_count": 11,
      "id": "unlike-script",
      "metadata": {
        "id": "unlike-script"
      },
      "outputs": [],
      "source": [
        "train_loader, test_loader, n_batches_total, n_batches_total_test = divideInBatches(train_set, test_set, batch_size, n_train_set, n_test_set)"
      ]
    },
    {
      "cell_type": "markdown",
      "id": "selected-planner",
      "metadata": {
        "id": "selected-planner"
      },
      "source": [
        "### Correct EMNIST Letters data\n",
        "While the MNIST dataset is ready to be used, the EMNIST Letters data need to be slighty modified before use.\n",
        "\n",
        "On the one hand, the x and y axes of the images are flipped, which is unpractical for the visualization.\n",
        "\n",
        "On the other hand, the letters labels go from 1 to 26 (corresponding with their place in the alphabet) instead of from 0 to 25. This could be problematic and is better fixed directly.\n",
        "\n",
        "Therefore, every time a batch is loaded, it should go through a little correcting function first.\n",
        "\n",
        "There should be no need to modify the function correctData."
      ]
    },
    {
      "cell_type": "code",
      "execution_count": null,
      "id": "young-craft",
      "metadata": {
        "id": "young-craft"
      },
      "outputs": [],
      "source": [
        "# Corrects EMNIST Letters data\n",
        "\n",
        "def correctData(real_samples, mnist_labels, dataset):\n",
        "    if dataset == \"EMNIST_Letters\":\n",
        "        real_samples = torch.transpose(real_samples,2,3)\n",
        "        mnist_labels -= 1\n",
        "    return real_samples, mnist_labels"
      ]
    },
    {
      "cell_type": "code",
      "execution_count": null,
      "id": "liable-thinking",
      "metadata": {
        "id": "liable-thinking"
      },
      "outputs": [],
      "source": [
        "real_samples, mnist_labels = next(iter(train_loader))\n",
        "real_samples, mnist_labels = correctData(real_samples, mnist_labels, dataset)"
      ]
    },
    {
      "cell_type": "markdown",
      "id": "abandoned-water",
      "metadata": {
        "id": "abandoned-water"
      },
      "source": [
        "## Show images\n",
        "During the whole homework, it will be important to show samples, either from the dataset, either ones your generate. Here is just a function that can help you visualizing and avoiding losing any plot that you once created. \n",
        "\n",
        "The function showImages allows to represent up to 16 images. You can precise if they are generated by your generator or not (i.e. coming from the dataset). You can also show the true labels for original images and the predicted labels if you use your classifier.\n",
        "\n",
        "The created figures are stored in the folder that you should create : ./Figures. The figures are stored with a predifined name depending on the (date)time. \n",
        "\n",
        "You can of course modify this function as you wish."
      ]
    },
    {
      "cell_type": "code",
      "execution_count": 46,
      "id": "helpful-spanking",
      "metadata": {
        "id": "helpful-spanking"
      },
      "outputs": [],
      "source": [
        "# Plot digits or letters\n",
        "\n",
        "def showImages(samples, true_labels = None, predicted_labels = None, generated = False, predicted = False, epoch = None):\n",
        "    \n",
        "    if generated == True and predicted == True:\n",
        "        plt.close(\"Generated predicted samples\")\n",
        "        f = plt.figure(\"Generated predicted samples\", figsize = (20,15))\n",
        "        f.suptitle(\"Generated predicted samples\", fontsize = 30)\n",
        "    elif generated == True and predicted == False :\n",
        "        if epoch != None:\n",
        "            plt.close(\"Generated samples epoch \" + str(epoch))\n",
        "            f = plt.figure(\"Generated samples epoch \" + str(epoch), figsize = (20,15))\n",
        "            f.suptitle(\"Generated samples epoch \" + str(epoch), fontsize = 30)\n",
        "        else:\n",
        "            plt.close(\"Generated samples\")\n",
        "            f = plt.figure(\"Generated samples\", figsize = (20,15))\n",
        "            f.suptitle(\"Generated samples\", fontsize = 30)            \n",
        "    elif predicted == True and generated == False :\n",
        "        if epoch != None:\n",
        "            plt.close(\"Predicted samples epoch \" + str(epoch))\n",
        "            f = plt.figure(\"Predicted samples epoch \" + str(epoch), figsize = (20,15))\n",
        "            f.suptitle(\"Predicted samples epoch \" + str(epoch), fontsize = 30)\n",
        "        else:\n",
        "            plt.close(\"Predicted samples\")\n",
        "            f = plt.figure(\"Predicted samples\", figsize = (20,15))\n",
        "            f.suptitle(\"Predicted samples\", fontsize = 30)            \n",
        "    else:\n",
        "        plt.close(\"MNIST samples\")\n",
        "        f = plt.figure(\"MNIST samples\", figsize = (20,15))\n",
        "        f.suptitle(\"MNIST training samples\", fontsize = 30)\n",
        "    f.subplots_adjust(wspace=0.2, hspace=0.4)\n",
        "    plt.rc('axes', titlesize=20)\n",
        "    \n",
        "    for i in range(16):\n",
        "        if i < samples.size(0):\n",
        "            fi = f.add_subplot(4, 4, i + 1)\n",
        "            fi.imshow(samples[i].reshape(28, 28), cmap=\"gray_r\")\n",
        "            plt.xticks([])\n",
        "            plt.yticks([]) \n",
        "            if generated == True and predicted == True :\n",
        "                fi.title.set_text(\"Pred: \" + str(predicted_labels[i].detach().numpy()))\n",
        "            elif generated == True and predicted == False :\n",
        "                fi.title.set_text(\"Sample \" + str(i))\n",
        "            elif predicted == True and generated == False :\n",
        "                fi.title.set_text(\"Pred: \" + str(predicted_labels[i].detach().numpy()) +  \", true: \" + str(true_labels[i].detach().numpy()))\n",
        "            else:\n",
        "                fi.title.set_text(\"Sample \" + str(i) + \": \" + str(true_labels[i].detach().numpy()))\n",
        "    \n",
        "    now = datetime.now().strftime(\"%Y_%m_%d__%H_%M\")\n",
        "    if generated == True and predicted == True :\n",
        "        f.savefig('./Figures/Sample_generated__' + now + '__epoch_' + str(epoch) + '.png')\n",
        "    elif generated == True and predicted == False :\n",
        "        f.savefig('./Figures/Sample_generated_predicted__' + now + '__epoch_' + str(epoch) + '.png')\n",
        "    elif predicted == True and generated == False :\n",
        "        f.savefig('./Figures/Sample_predicted__' + now + '__epoch_' + str(epoch) + '.png')\n",
        "    else:\n",
        "        f.savefig('./Figures/Sample_MNIST.png')"
      ]
    },
    {
      "cell_type": "code",
      "execution_count": null,
      "id": "neutral-prevention",
      "metadata": {
        "colab": {
          "base_uri": "https://localhost:8080/",
          "height": 976
        },
        "id": "neutral-prevention",
        "outputId": "b84d09cf-81d9-4ccb-b53f-0e3456139002"
      },
      "outputs": [
        {
          "name": "stdout",
          "output_type": "stream",
          "text": [
            "<class 'torch.Tensor'>\n"
          ]
        },
        {
          "data": {
            "image/png": "[encoded data removed]",
            "text/plain": [
              "<Figure size 1440x1080 with 16 Axes>"
            ]
          },
          "metadata": {},
          "output_type": "display_data"
        }
      ],
      "source": [
        "print(type(real_samples))\n",
        "showImages(real_samples, true_labels = mnist_labels)"
      ]
    },
    {
      "cell_type": "markdown",
      "id": "effective-fluid",
      "metadata": {
        "id": "effective-fluid"
      },
      "source": [
        "## Section 1: Train a GAN on MNIST for image generation\n",
        "In this first part, you are asked to train and test a GAN for the generation of fake handwritten numbers (and letters). \n",
        "\n",
        "Let's just recall what training a model means in machine learning. It is in fact quite simple: given a model architecture, use an optimization scheme to minimize a loss function (representing the gap between the data and the model predictions) in order to find the optimal values of the model parameters. In this Section, all of these elements are treated one by one.\n",
        "\n",
        "Moreover, you receive reference Generator and Discriminator architectures. These neural network architectures should not be changed. Indeed, they are sufficient in order to get nice enough results while keeping the training time reasonable on a laptop CPU (normally less than 2 hours training).\n",
        "\n",
        "However, if you want to train additional Generator and/or Discriminator models that could be larger or smaller (for improved results or faster training for example), feel free to create them by yourself, explain them with comments and name them differently."
      ]
    },
    {
      "cell_type": "markdown",
      "id": "wired-revolution",
      "metadata": {
        "id": "wired-revolution"
      },
      "source": [
        "### 1.a Generator class\n",
        "The Generator class takes an input: the dimension of the latent space. Indeed, the generator will create an image (1x28x28) from an input latent vector (1 color i.e. gray-scale, 28x28 pixels). Typically, this vector is of dimension 100 with each entry sampled from a standard normal distribution or from an uniform distribution on [-1,1]. You are free to change this dimension and see what happens.\n",
        "\n",
        "The latent space is thus a space where the information contained in the images is compressed/condensed. This latent space will be the focus of the second part of the homework."
      ]
    },
    {
      "cell_type": "code",
      "execution_count": 12,
      "id": "unlike-deputy",
      "metadata": {
        "id": "unlike-deputy"
      },
      "outputs": [],
      "source": [
        "# Dimension of the latent space\n",
        "# Predefined value = 100\n",
        "\n",
        "dim_latent_space = 100"
      ]
    },
    {
      "cell_type": "markdown",
      "id": "signed-newton",
      "metadata": {
        "id": "signed-newton"
      },
      "source": [
        "The class below contains the reference Generator architecture. You don't have to worry about the initialization of the model, it is done automatically.\n",
        "\n",
        "This architecture should not be changed.\n",
        "\n",
        "The Generator takes a batch of latent vectors as input, and ouputs one 1x28x28 pixels image for each input."
      ]
    },
    {
      "cell_type": "code",
      "execution_count": 13,
      "id": "quality-prediction",
      "metadata": {
        "id": "quality-prediction"
      },
      "outputs": [],
      "source": [
        "class Generator(nn.Module):\n",
        "\n",
        "    def __init__(self, dim_latent_space):\n",
        "        super().__init__()\n",
        "        self.dim_latent_space = dim_latent_space\n",
        "        self.fc = nn.Linear(self.dim_latent_space, 64*7*7)\n",
        "        self.trans_conv1 = nn.ConvTranspose2d(64, 64, kernel_size = 3, stride = 2, padding = 1, output_padding = 1)\n",
        "        self.batch_norm1 = nn.BatchNorm2d(64)\n",
        "        self.trans_conv2 = nn.ConvTranspose2d(64, 32, kernel_size = 3, stride = 1, padding = 1)\n",
        "        self.batch_norm2 = nn.BatchNorm2d(32)\n",
        "        self.trans_conv3 = nn.ConvTranspose2d(32, 16, kernel_size = 3, stride = 1, padding = 1)\n",
        "        self.batch_norm3 = nn.BatchNorm2d(16)\n",
        "        self.trans_conv4 = nn.ConvTranspose2d(16, 1, kernel_size = 3, stride = 2, padding = 1, output_padding = 1)\n",
        "        \n",
        "    def forward(self, x):                   # Input = batch_size*dim_latent_space\n",
        "        x = self.fc(x)                      # Output = batch_size*(64*7*7)\n",
        "        x = x.view(-1, 64, 7, 7)            # Output = batch_size*64*7*7\n",
        "        x = self.trans_conv1(x)             # Output = batch_size*64*14*14\n",
        "        x = F.relu(self.batch_norm1(x))\n",
        "        x = self.trans_conv2(x)             # Output = batch_size*32*14*14\n",
        "        x = F.relu(self.batch_norm2(x))\n",
        "        x = self.trans_conv3(x)             # Output = batch_size*16*14*14\n",
        "        x = F.relu(self.batch_norm3(x))     \n",
        "        x = self.trans_conv4(x)             # Output = batch_size*1*28*28\n",
        "        x = torch.tanh(x)\n",
        "        return x"
      ]
    },
    {
      "cell_type": "code",
      "execution_count": 14,
      "id": "conscious-essence",
      "metadata": {
        "id": "conscious-essence"
      },
      "outputs": [],
      "source": [
        "generator = Generator(dim_latent_space).to(device=device)\n"
      ]
    },
    {
      "cell_type": "markdown",
      "id": "concerned-welcome",
      "metadata": {
        "id": "concerned-welcome"
      },
      "source": [
        "### 1.b Discriminator class\n",
        "The class below contains the reference Discriminator architecture. You don't have to worry about the initialization of the model, it is done automatically.\n",
        "\n",
        "This architecture should not be changed.\n",
        "\n",
        "The Discriminitor takes a batch of 1x28x28 pixels images as input, and ouputs numbers between -inf and +inf. The activation of the last layer represents some likelihood of the image being fake or not, according to the model. Afterwards, it goes through a sigmoid function in order to scale numbers between 0 and 1. An output of 0 means that the model is certain that the corresponding input image is fake, and an output of 1 means that it is certain that it is real."
      ]
    },
    {
      "cell_type": "code",
      "execution_count": 15,
      "id": "pursuant-heritage",
      "metadata": {
        "id": "pursuant-heritage"
      },
      "outputs": [],
      "source": [
        "class Discriminator(nn.Module):\n",
        "    \n",
        "    def __init__(self):\n",
        "        super().__init__()\n",
        "        self.conv0 = nn.Conv2d(1, 32, kernel_size = 3, stride = 2, padding = 1)     \n",
        "        self.conv0_drop = nn.Dropout2d(0.25)\n",
        "        self.conv1 = nn.Conv2d(32, 64, kernel_size = 3, stride = 1, padding = 1)\n",
        "        self.conv1_drop = nn.Dropout2d(0.25)\n",
        "        self.conv2 = nn.Conv2d(64, 128, kernel_size = 3, stride = 1, padding = 1)\n",
        "        self.conv2_drop = nn.Dropout2d(0.25)\n",
        "        self.conv3 = nn.Conv2d(128, 128, kernel_size = 3, stride = 2, padding = 1)\n",
        "        self.conv3_drop = nn.Dropout2d(0.25)\n",
        "        self.fc = nn.Linear(128*7*7, 1)\n",
        "    \n",
        "    def forward(self, x):                               # Input = batch_size*1*28*28\n",
        "        x = x.view(-1, 1, 28, 28)                       # Output = batch_size*1*28*28\n",
        "        x = F.leaky_relu(self.conv0(x), 0.2)            # Output = batch_size*32*14*14\n",
        "        x = self.conv0_drop(x)\n",
        "        x = F.leaky_relu(self.conv1(x), 0.2)            # Output = batch_size*64*14*14\n",
        "        x = self.conv1_drop(x)\n",
        "        x = F.leaky_relu(self.conv2(x), 0.2)            # Output = batch_size*128*14*14\n",
        "        x = self.conv2_drop(x)\n",
        "        x = F.leaky_relu(self.conv3(x), 0.2)            # Output = batch_size*128*7*7\n",
        "        x = self.conv3_drop(x)\n",
        "        x = x.view(-1, 128*7*7)                         # Output = batch_size*(128*7*7)\n",
        "        x = self.fc(x)                                  # Output = batch_size*1\n",
        "        return x"
      ]
    },
    {
      "cell_type": "code",
      "execution_count": 16,
      "id": "minimal-wealth",
      "metadata": {
        "id": "minimal-wealth"
      },
      "outputs": [],
      "source": [
        "discriminator = Discriminator().to(device=device)"
      ]
    },
    {
      "cell_type": "markdown",
      "id": "fundamental-disorder",
      "metadata": {
        "id": "fundamental-disorder"
      },
      "source": [
        "### 1.c Number of parameters\n",
        "This function counts and prints the number of parameters in any neural network model.\n",
        "\n",
        "There should be no need to modify the function numberParameters."
      ]
    },
    {
      "cell_type": "code",
      "execution_count": 17,
      "id": "christian-mitchell",
      "metadata": {
        "id": "christian-mitchell"
      },
      "outputs": [],
      "source": [
        "def numberParameters(model, trainable = False, model_name = None):\n",
        "    total_params = sum(param.numel() for param in model.parameters())\n",
        "    if model_name != None:\n",
        "        print(\"Number of parameters of \" + model_name + \": \" + str(total_params))\n",
        "    return total_params"
      ]
    },
    {
      "cell_type": "code",
      "execution_count": 18,
      "id": "pointed-annotation",
      "metadata": {
        "colab": {
          "base_uri": "https://localhost:8080/"
        },
        "id": "pointed-annotation",
        "outputId": "d4ff0029-532c-4a5a-9437-7467150b173d"
      },
      "outputs": [
        {
          "name": "stdout",
          "output_type": "stream",
          "text": [
            "Number of parameters of discriminator: 246529\n",
            "Number of parameters of generator: 377121\n"
          ]
        }
      ],
      "source": [
        "discriminator_params = numberParameters(discriminator, model_name = \"discriminator\")\n",
        "generator_params = numberParameters(generator, model_name = \"generator\")"
      ]
    },
    {
      "cell_type": "markdown",
      "id": "published-ranch",
      "metadata": {
        "id": "published-ranch"
      },
      "source": [
        "### 1.d Loss function\n",
        "The loss function measures how good the model is. For the discriminator, it a binary classification problem: the discriminator tries to distinguish true data (label = 1) from fake generated ones (label = 0). Therefore, we use a Binary Cross Entropy loss. As the only goal of the generator is to fool the discriminator, it can also be expressed with a Binary Cross Entropy loss function. Think about what inputs we need to give to the loss function for the discriminator and for the generator.\n",
        "\n",
        "You see that BCELoss is replaced by BCEWithLogitsLoss. Think about why this is, and how it links with the last layer of the given Discriminator architecture.\n",
        "\n",
        "This loss function should not be changed."
      ]
    },
    {
      "cell_type": "code",
      "execution_count": 19,
      "id": "confirmed-karen",
      "metadata": {
        "id": "confirmed-karen"
      },
      "outputs": [],
      "source": [
        "# Loss function for the GAN\n",
        "\n",
        "#loss_function_gan = nn.BCELoss()\n",
        "loss_function_gan = nn.BCEWithLogitsLoss()"
      ]
    },
    {
      "cell_type": "markdown",
      "id": "floral-conspiracy",
      "metadata": {
        "id": "floral-conspiracy"
      },
      "source": [
        "### 1.e Optimizers\n",
        "Adam is one of the most famous adaptive stochastic gradient descent algorithm. It is massively used for training neural networks.\n",
        "\n",
        "You can play around with the Adam parameters if you want."
      ]
    },
    {
      "cell_type": "code",
      "execution_count": 20,
      "id": "noble-proxy",
      "metadata": {
        "id": "noble-proxy"
      },
      "outputs": [],
      "source": [
        "# Adam optimization parameters\n",
        "# Predefined values: lr_gan = 0.0002, betas_gan = (0.5, 0.999)\n",
        "lr_gan = 0.0002\n",
        "betas_gan = (0.5, 0.999)\n",
        "\n",
        "optimizer_discriminator = torch.optim.Adam(discriminator.parameters(), lr=lr_gan, betas = betas_gan)\n",
        "optimizer_generator = torch.optim.Adam(generator.parameters(), lr=lr_gan, betas = betas_gan)"
      ]
    },
    {
      "cell_type": "markdown",
      "id": "alive-burke",
      "metadata": {
        "id": "alive-burke"
      },
      "source": [
        "### 1.f Accuracy\n",
        "We define one error measure as the accuracy reached by the discriminator for its predictions y_predicted, i.e. the ratio between the number of correct classifications and the total number of samples. We suppose that if 0.0 <= y_generated[i] <= 0.5, then it predicts a fake image and if 0.5 < y_generated[i] <= 1.0, it predicts a true image.\n",
        "\n",
        "During the training, data are loaded batch by batch. It could thus be a good idea to consider that the inputs of the following function are the true and predicted labels from one batch of data.\n",
        "\n",
        "Task: complete the computeGANAccuracy function."
      ]
    },
    {
      "cell_type": "code",
      "execution_count": 21,
      "id": "HwlxRw9Xy1DD",
      "metadata": {
        "id": "HwlxRw9Xy1DD"
      },
      "outputs": [],
      "source": [
        "def computeGANAccuracy(y_predicted,y_true):\n",
        "\n",
        "    accuracy = 0.0\n",
        "    accuracy = torch.sum(torch.round(torch.sigmoid(y_predicted)) == y_true).item()/y_true.shape[0]\n",
        "    # TO COMPLETE\n",
        "\n",
        "    return accuracy"
      ]
    },
    {
      "cell_type": "markdown",
      "id": "talented-speaker",
      "metadata": {
        "id": "talented-speaker"
      },
      "source": [
        "### 1.g Preparing the training process\n",
        "In this part, you are asked to initialize the training process (not the model which is initialized automatically). \n",
        "\n",
        "Let's just first define the number of iterations (epochs) that the training will last. Satisfactory results can be obtained with 5 epochs, but you can of course increase this value for a better training."
      ]
    },
    {
      "cell_type": "code",
      "execution_count": 23,
      "id": "comparative-malaysia",
      "metadata": {
        "id": "comparative-malaysia"
      },
      "outputs": [],
      "source": [
        "# Number of epochs for the training\n",
        "# Predefined value: num_epochs_gan = 5\n",
        "\n",
        "num_epochs_gan = 15"
      ]
    },
    {
      "cell_type": "markdown",
      "id": "transparent-plain",
      "metadata": {
        "id": "transparent-plain"
      },
      "source": [
        "It is important to keep track of the evolution of the error metrics during the training process. A simple idea is to store the values of the metrics in arrays, at least after every epoch.\n",
        "\n",
        "Task: Create arrays that will contain the accuracy for train and test sets, as well as the values of the discriminator loss and of the generator loss during the training. Compute the errors before training the model and store them in your arrays."
      ]
    },
    {
      "cell_type": "code",
      "execution_count": 24,
      "id": "toxic-scheduling",
      "metadata": {
        "id": "toxic-scheduling"
      },
      "outputs": [],
      "source": [
        "# Error metrics at initialisation\n",
        "\n",
        "# TO COMPLETE\n",
        "error_discriminator_loss = np.zeros(num_epochs_gan)\n",
        "error_generator_loss = np.zeros(num_epochs_gan)\n",
        "error_discriminator_accuracy = np.zeros(num_epochs_gan)\n",
        "error_generator_accuracy = np.zeros(num_epochs_gan)\n",
        "image=[]"
      ]
    },
    {
      "cell_type": "markdown",
      "id": "amino-network",
      "metadata": {
        "id": "amino-network"
      },
      "source": [
        "It is a good option to keep track of the evolution of the images generated through the training. Defining a reference sample of latent vectors allows to generate the image for the same inputs every time. You can compute the output from those vectors after each epoch to see how the generated images evolve with the training. The latent vectors can be generated from a standard normal distribution, or from a uniform distribution over [-1,1].\n",
        "\n",
        "Task: Define a sample of reference latent vectors."
      ]
    },
    {
      "cell_type": "code",
      "execution_count": 25,
      "id": "3cDSpRsLzARh",
      "metadata": {
        "id": "3cDSpRsLzARh"
      },
      "outputs": [],
      "source": [
        "latent_vectors = np.random.uniform(-1, 1, size=(batch_size, dim_latent_space))\n"
      ]
    },
    {
      "cell_type": "markdown",
      "id": "better-antenna",
      "metadata": {
        "id": "better-antenna"
      },
      "source": [
        "### 1.h Training and testing the GAN\n",
        "This is finally the core part of this section: training your GAN.\n",
        "\n",
        "The training will follow an easy structure. Here is the pseudo-code of the training process:\n",
        "\n",
        "\n",
        "    for each epoch:\n",
        "\n",
        "        for each batch:\n",
        "\n",
        "            train the discriminator on the batch:\n",
        "\n",
        "                generate fake data (same amount as size of the batch)\n",
        "\n",
        "                predict if data from the batch and generated data are fake or not\n",
        "\n",
        "                compute the discriminator loss function\n",
        "\n",
        "                backpropagate the error in the discriminator\n",
        "\n",
        "            train the generator on the batch\n",
        "\n",
        "                generate fake data (same amount as size of the batch)\n",
        "\n",
        "                predict if generated data are fake or not\n",
        "\n",
        "                compute the generator loss function\n",
        "\n",
        "                backpropagate the error in the generator\n",
        "\n",
        "        end\n",
        "\n",
        "    end\n",
        "\n",
        "Task: Code the GAN training from the pseudo-code given above. Don't forget to switch between training and evaluation modes for the models, by using train() and eval() Pytorch functions. To understand what to do and why, look for their impact on specific layers of the networks. You may also use the time package in order to get information about the duration of the training. Finally, at every epoch, compute and store the accuracy and the losses of the model and generate images from your reference sample."
      ]
    },
    {
      "cell_type": "code",
      "execution_count": null,
      "id": "oZBdtLSY3OrM",
      "metadata": {
        "colab": {
          "base_uri": "https://localhost:8080/"
        },
        "id": "oZBdtLSY3OrM",
        "outputId": "20d98312-7a96-49d7-cd19-98245f63e993"
      },
      "outputs": [
        {
          "name": "stdout",
          "output_type": "stream",
          "text": [
            "            GAN trained in 620.8961619459999seconds\n"
          ]
        }
      ],
      "source": [
        "# Training of the GAN\n",
        "t1_start = process_time()\n",
        "\n",
        "for epoch in range(num_epochs_gan):\n",
        "    \n",
        "    for i, (images, labels) in enumerate(train_loader):\n",
        "        # TRAIN DISC\n",
        "        fake_data = generator(torch.tensor(latent_vectors).float().to(device=device))\n",
        "        real_data = images.to(device=device)\n",
        "        \n",
        "        predict_class_fake = discriminator(fake_data)\n",
        "        predict_class_real = discriminator(real_data)\n",
        "\n",
        "\n",
        "        # Discriminator loss\n",
        "        loss_discriminator_fake = loss_function_gan(predict_class_fake, torch.zeros(batch_size, 1).to(device=device))\n",
        "        loss_discriminator_real = loss_function_gan(predict_class_real, torch.ones(batch_size, 1).to(device=device))\n",
        "        loss_discriminator = loss_discriminator_fake + loss_discriminator_real\n",
        "        # Discriminator accuracy\n",
        "        accuracy_discriminator = computeGANAccuracy(predict_class_real, torch.ones(batch_size, 1).to(device=device))\n",
        "        accuracy_discriminator += computeGANAccuracy(predict_class_fake, torch.zeros(batch_size, 1).to(device=device))\n",
        "\n",
        "        # Update of the discriminator\n",
        "        optimizer_discriminator.zero_grad()\n",
        "        loss_discriminator.backward()\n",
        "        optimizer_discriminator.step()\n",
        "\n",
        "\n",
        "\n",
        "\n",
        "        # TRAIN GEN\n",
        "        fake_data = generator(torch.tensor(latent_vectors).float().to(device=device))\n",
        "        real_data = images.to(device=device)\n",
        "        \n",
        "        predict_class_fake = discriminator(fake_data)\n",
        "        predict_class_real = discriminator(real_data)\n",
        "\n",
        "        # Generator loss\n",
        "        loss_generator = loss_function_gan(predict_class_fake, torch.ones(batch_size, 1).to(device=device))\n",
        "\n",
        "        # Generator accuracy\n",
        "        accuracy_generator = computeGANAccuracy(predict_class_fake, torch.ones(batch_size, 1).to(device=device))\n",
        "\n",
        "\n",
        "        # Update of the generator\n",
        "        optimizer_generator.zero_grad()\n",
        "        loss_generator.backward()\n",
        "        optimizer_generator.step()\n",
        "\n",
        "        # Error metrics\n",
        "        error_discriminator_loss[epoch] += loss_discriminator.item()\n",
        "        error_generator_loss[epoch] += loss_generator.item()\n",
        "        error_discriminator_accuracy[epoch] += accuracy_discriminator\n",
        "        error_generator_accuracy[epoch] += accuracy_generator\n",
        "        print(\"\\r\"+str(epoch) +\"  \" + str(i) , end= \"\")\n",
        "\n",
        "    print(\"\\r            \", end= \"\")\n",
        "    image.append((fake_data, predict_class_fake))\n",
        "    error_discriminator_accuracy[epoch] /= n_batches_total\n",
        "    error_generator_accuracy[epoch] /= n_batches_total\n",
        "    error_discriminator_loss[epoch] /= n_batches_total\n",
        "    error_generator_loss[epoch] /= n_batches_total\n",
        "\n",
        "    if (epoch == 8):\n",
        "      optimizer_discriminator = torch.optim.Adam(discriminator.parameters(), lr=lr_gan/10, betas = betas_gan)\n",
        "      optimizer_generator = torch.optim.Adam(generator.parameters(), lr=lr_gan/10, betas = betas_gan)\n",
        "t1_stop = process_time()\n",
        "\n",
        "print(\"GAN trained in \" + str(t1_stop-t1_start) + \"seconds\")"
      ]
    },
    {
      "cell_type": "code",
      "execution_count": null,
      "id": "tcWY6Fr7QcFC",
      "metadata": {
        "colab": {
          "base_uri": "https://localhost:8080/"
        },
        "id": "tcWY6Fr7QcFC",
        "outputId": "50398918-2c34-4cb6-ec36-86e9fd35be53"
      },
      "outputs": [
        {
          "name": "stdout",
          "output_type": "stream",
          "text": [
            "----------------------------------------------------------------\n",
            "        Layer (type)               Output Shape         Param #\n",
            "================================================================\n",
            "            Linear-1             [-1, 32, 3136]         316,736\n",
            "   ConvTranspose2d-2           [-1, 64, 14, 14]          36,928\n",
            "       BatchNorm2d-3           [-1, 64, 14, 14]             128\n",
            "   ConvTranspose2d-4           [-1, 32, 14, 14]          18,464\n",
            "       BatchNorm2d-5           [-1, 32, 14, 14]              64\n",
            "   ConvTranspose2d-6           [-1, 16, 14, 14]           4,624\n",
            "       BatchNorm2d-7           [-1, 16, 14, 14]              32\n",
            "   ConvTranspose2d-8            [-1, 1, 28, 28]             145\n",
            "================================================================\n",
            "Total params: 377,121\n",
            "Trainable params: 377,121\n",
            "Non-trainable params: 0\n",
            "----------------------------------------------------------------\n",
            "Input size (MB): 0.01\n",
            "Forward/backward pass size (MB): 1.11\n",
            "Params size (MB): 1.44\n",
            "Estimated Total Size (MB): 2.56\n",
            "----------------------------------------------------------------\n"
          ]
        }
      ],
      "source": [
        "from torchsummary import summary\n",
        "summary(generator, (32,100))"
      ]
    },
    {
      "cell_type": "markdown",
      "id": "chicken-fight",
      "metadata": {
        "id": "chicken-fight"
      },
      "source": [
        "### 1.i Plot the results\n",
        "You should plot the evolution of your error metrics (accuracy and loss function) in function of the number of epochs, to see how efficient the training is. Show the evolution of the images generated from your reference sample as well.\n",
        "\n",
        "Task: Make those plots, as clean and readable as possible."
      ]
    },
    {
      "cell_type": "code",
      "execution_count": null,
      "id": "experimental-magic",
      "metadata": {
        "colab": {
          "base_uri": "https://localhost:8080/",
          "height": 951
        },
        "id": "experimental-magic",
        "outputId": "22454664-dbcd-4ddb-a524-3f22574cee36"
      },
      "outputs": [
        {
          "name": "stdout",
          "output_type": "stream",
          "text": [
            "error_discriminator_accuracy :  [0.78630833 0.57639167 0.54731667 0.53829167 0.54193333 0.550725\n",
            " 0.56513333 0.572      0.59326667 0.62660833 0.62321667 0.61525833\n",
            " 0.62068333 0.61145    0.61164167]\n",
            "error_discriminator_loss :  [0.42336897 0.67501058 0.68640125 0.68791566 0.68742841 0.68457729\n",
            " 0.67960929 0.67525479 0.66332148 0.64329228 0.64674284 0.64927148\n",
            " 0.64583209 0.65175502 0.65113992]\n",
            "error_generator_accuracy :  [0.19293333 0.39675    0.42791667 0.43283333 0.43296667 0.42268333\n",
            " 0.41021667 0.39761667 0.37921667 0.36605    0.36576667 0.35953333\n",
            " 0.36086667 0.36735    0.38056667]\n",
            "error_generator_loss :  [1.96313652 0.75367976 0.72139719 0.71672468 0.71732519 0.72461349\n",
            " 0.73874438 0.75271682 0.78613791 0.80364764 0.80618221 0.80568907\n",
            " 0.81102124 0.80385871 0.80484521]\n"
          ]
        },
        {
          "data": {
            "image/png": "[encoded data removed]",
            "text/plain": [
              "<Figure size 720x432 with 1 Axes>"
            ]
          },
          "metadata": {
            "needs_background": "light"
          },
          "output_type": "display_data"
        },
        {
          "data": {
            "image/png": "[encoded data removed]",
            "text/plain": [
              "<Figure size 720x432 with 1 Axes>"
            ]
          },
          "metadata": {
            "needs_background": "light"
          },
          "output_type": "display_data"
        }
      ],
      "source": [
        "# Plots of accuracy and of loss function, images generated from your reference sample.\n",
        "\n",
        "\n",
        "\n",
        "error_discriminator_accuracy = error_discriminator_accuracy/2\n",
        "error_discriminator_loss = error_discriminator_loss/2\n",
        "\n",
        "print(\"error_discriminator_accuracy : \", error_discriminator_accuracy)\n",
        "print(\"error_discriminator_loss : \", error_discriminator_loss)\n",
        "print(\"error_generator_accuracy : \", error_generator_accuracy)\n",
        "print(\"error_generator_loss : \", error_generator_loss)\n",
        "\n",
        "plt.figure(figsize=(10,6))\n",
        "#fig, (ax1, ax2 , ax3, ax4) = plt.subplots(1, 4 )\n",
        "#fig.suptitle(\"Generator and Discriminator Loss During Training\")\n",
        "#ax1.plot(error_discriminator_accuracy,label=\"G\")\n",
        "#ax2.plot(error_generator_accuracy,label=\"D\")\n",
        "#ax3.plot(error_discriminator_loss,label=\"acc\")\n",
        "#ax4.plot(error_generator_loss,label=\"acc\")\n",
        "#fig.supxlabel('iteration')\n",
        "plt.plot(error_discriminator_accuracy, label=\"discriminator_accuracy\")\n",
        "\n",
        "plt.plot(error_discriminator_loss, label=\"discriminator_loss\")\n",
        "\n",
        "plt.legend()\n",
        "\n",
        "plt.show()\n",
        "plt.figure(figsize=(10,6))\n",
        "\n",
        "plt.plot(error_generator_accuracy, label=\"generator_accuracy\")\n",
        "plt.plot(error_generator_loss, label=\"generator_loss\")\n",
        "plt.legend()\n",
        "\n",
        "plt.show()\n",
        "# TO COMPLETE"
      ]
    },
    {
      "cell_type": "markdown",
      "id": "1da74cf2",
      "metadata": {},
      "source": [
        "### 1.j Define fake bash"
      ]
    },
    {
      "cell_type": "code",
      "execution_count": 47,
      "id": "Zm_LaHxuB3k0",
      "metadata": {
        "colab": {
          "base_uri": "https://localhost:8080/",
          "height": 995
        },
        "id": "Zm_LaHxuB3k0",
        "outputId": "00775361-e5f9-4743-b0e1-2b6d0c6444d6"
      },
      "outputs": [
        {
          "name": "stderr",
          "output_type": "stream",
          "text": [
            "<ipython-input-47-ac57d537ca9e>:1: UserWarning: To copy construct from a tensor, it is recommended to use sourceTensor.clone().detach() or sourceTensor.clone().detach().requires_grad_(True), rather than torch.tensor(sourceTensor).\n",
            "  latent_vectors = torch.tensor(latent_vectors)\n"
          ]
        },
        {
          "data": {
            "image/png": "[encoded data removed]",
            "text/plain": [
              "<Figure size 1440x1080 with 16 Axes>"
            ]
          },
          "metadata": {},
          "output_type": "display_data"
        }
      ],
      "source": [
        "latent_vectors = torch.tensor(latent_vectors)\n",
        "fake = generator(latent_vectors.to(torch.float32)).detach()\n",
        "labels = discriminator(fake).detach().cpu()\n",
        "\n",
        "showImages(fake.detach().cpu(), true_labels=labels.sigmoid())\n"
      ]
    },
    {
      "cell_type": "markdown",
      "id": "pediatric-stranger",
      "metadata": {
        "id": "pediatric-stranger"
      },
      "source": [
        "### 1.j Save your models\n",
        "A really useful feature for your experiments is to be able to save your models. This can be done with the torch.save function. In the function saveModel, a model is stored in the folder ./Models that you may want to create. The (date)time is used to always store your models with a different name and never lose some training that you would have done.\n",
        "\n",
        "Be careful however: the saveModel function below stores the \"state dictionary\" of your model, not your model itself. \n",
        "\n",
        "You can of course modify the function saveModel as you wish."
      ]
    },
    {
      "cell_type": "code",
      "execution_count": null,
      "id": "reflected-channels",
      "metadata": {
        "id": "reflected-channels"
      },
      "outputs": [],
      "source": [
        "def saveModel(model, model_name):\n",
        "    now = datetime.now().strftime(\"%Y_%m_%d__%H_%M\")\n",
        "    torch.save(model.state_dict(), './Models/' + model_name + '__' + now)\n",
        "\n",
        "#### Example\n",
        "#\n",
        "\n",
        "saveModel(discriminator, \"Discriminator\")\n",
        "\n",
        "saveModel(generator, \"Generator\")\n",
        "#\n",
        "##\n",
        "# The model D has been saved as \"Discriminator__2022_11_12__15_21\" in the folder ./Models as your code finished running at\n",
        "# 15:21 on the 12 November 2022.\n",
        "##"
      ]
    },
    {
      "cell_type": "markdown",
      "id": "moderate-direction",
      "metadata": {
        "id": "moderate-direction"
      },
      "source": [
        "### 1.k Load your models\n",
        "You can also load models that you trained and saved earlier with the function loadModel.\n",
        "\n",
        "However, be careful. You will have to first recreate a new instance of your class, and then import the state dictionary in the new instance. This means that the characteristics of your class should not have changed since then. In particular, the number of layers and the size of the layers need to match between the trained model and the most recent class in order to correctly assign the stored parameters. Moreover, there could be some trouble if you changed functions/methods from the class. \n",
        "\n",
        "You can of course modify the function loadModel as you wish."
      ]
    },
    {
      "cell_type": "code",
      "execution_count": 30,
      "id": "pressed-violation",
      "metadata": {
        "id": "pressed-violation"
      },
      "outputs": [],
      "source": [
        "def loadModel(model, model_name, date_time):\n",
        "    model.load_state_dict(torch.load('./Models/' + model_name + '__' + date_time, map_location=torch.device('cpu')))\n",
        "    model.eval()\n",
        "    return model\n",
        "\n",
        "discriminator = Discriminator().to(device=device)\n",
        "generator = Generator(dim_latent_space).to(device=device)\n",
        "discriminator = loadModel(discriminator, \"Discriminator\", \"2022_11_29__17_29\")\n",
        "generator = loadModel(generator, \"Generator\", \"2022_11_29__17_29\")\n"
      ]
    },
    {
      "cell_type": "markdown",
      "id": "middle-syria",
      "metadata": {
        "id": "middle-syria"
      },
      "source": [
        "## Section 2: Train a CNN on MNIST for image classification\n",
        "In this second part, you are asked to train and test a CNN for the classification of handwritten numbers (and letters).\n",
        "\n",
        "Therefore, you receive a reference CNN architecture that should not be changed. Training your CNN should be faster than training your GAN, so there is no fear about that.\n",
        "\n",
        "However, if you want to train additional CNN models (for improved results or faster training for example), feel free to create them by yourself and name the classes differently."
      ]
    },
    {
      "cell_type": "markdown",
      "id": "computational-square",
      "metadata": {
        "id": "computational-square"
      },
      "source": [
        "### 2.a Number of classes\n",
        "For classification task, it is of course necessary to know the number of classes possible. \n",
        "\n",
        "For the rest of the homework, pay attention not to confuse the label class (ex: the image represents a 2) and a model class (ex: the model is an instance of the CNN class).\n",
        "\n",
        "There should be no need to modify the function numberClasses."
      ]
    },
    {
      "cell_type": "code",
      "execution_count": 31,
      "id": "fossil-provincial",
      "metadata": {
        "id": "fossil-provincial"
      },
      "outputs": [],
      "source": [
        "def numberClasses(dataset):\n",
        "    n_classes = len(dataset.classes)\n",
        "    return n_classes"
      ]
    },
    {
      "cell_type": "code",
      "execution_count": 32,
      "id": "racial-token",
      "metadata": {
        "id": "racial-token"
      },
      "outputs": [],
      "source": [
        "n_classes = numberClasses(train_set)"
      ]
    },
    {
      "cell_type": "markdown",
      "id": "oriental-attack",
      "metadata": {
        "id": "oriental-attack"
      },
      "source": [
        "### 2.b CNN class\n",
        "The class below contains the reference CNN architecture. You don't have to worry about the initialization of the model, it is done automatically.\n",
        "\n",
        "This architecture should not be changed.\n",
        "\n",
        "The CNN architecture is defined by the number of classes. Indeed, for each entry it outputs a vector of size n_classes with values between -inf and +inf. This vector can be passed through the function scaleToProbabilities in order to get scaled and become somewhat interpretable as probabilities of belonging to one class. The function predictLabels extends the scaleToProbabilities function and selects the most activated/highest valued class as the CNN prediction.\n",
        "\n",
        "There should be no need to modify the functions scaleToProbabilities and predictLabels, except playing with the scale_factor."
      ]
    },
    {
      "cell_type": "code",
      "execution_count": 33,
      "id": "referenced-morris",
      "metadata": {
        "id": "referenced-morris"
      },
      "outputs": [],
      "source": [
        "class CNN(nn.Module):\n",
        "    def __init__(self, n_classes):\n",
        "        super(CNN, self).__init__()\n",
        "        self.n_classes = n_classes\n",
        "        self.conv1 = nn.Sequential(             # Images input is batch_size*1*28*28\n",
        "            nn.Conv2d(1, 16, 5, 1, 2),          # Output is batch_size*16*28*28\n",
        "            nn.ReLU(),                      \n",
        "            nn.MaxPool2d(kernel_size=2),        # Output is batch_size*16*14*14\n",
        "        )\n",
        "        self.conv2 = nn.Sequential(         \n",
        "            nn.Conv2d(16, 32, 5, 1, 2),         # Output is batch_size*32*14*14\n",
        "            nn.ReLU(),                      \n",
        "            nn.MaxPool2d(2),                    # Output is batch_size*32*7*7\n",
        "        )\n",
        "        # fully connected layer, output one number for each class\n",
        "        self.out = nn.Sequential(         \n",
        "            nn.Linear(32 * 7 * 7, self.n_classes),          # Output is batch_size*n_classes\n",
        "        )\n",
        "    \n",
        "    def scaleToProbabilities(self, outmap, scale_factor = 3): \n",
        "        # scale_factor allows to scale your output before passing it into the softmax function \n",
        "        # in order to get numbers interpratble as probabilities\n",
        "        \n",
        "        flattened_outmap = outmap.view(outmap.shape[0], -1)\n",
        "        outmap_std = torch.std(flattened_outmap, dim = 1).view(-1, 1)\n",
        "        outmap_scaled_std = torch.div(outmap, outmap_std)\n",
        "        probabilities = nn.functional.softmax(outmap_scaled_std*scale_factor, dim=1)\n",
        "        return probabilities\n",
        "    \n",
        "    def predictLabels(self, outmap, scale_factor = 3):\n",
        "        probabilities = self.scaleToProbabilities(outmap, scale_factor = 3)\n",
        "        certainty, predicted_labels = torch.max(probabilities, 1)\n",
        "        predicted_labels = predicted_labels.data.squeeze()\n",
        "        certainty = certainty.data.squeeze()\n",
        "        return predicted_labels, probabilities, certainty\n",
        "        \n",
        "    def forward(self, x):\n",
        "        x = self.conv1(x)\n",
        "        x = self.conv2(x)\n",
        "        x = x.view(x.size(0), 32 * 7 * 7)\n",
        "        output = self.out(x)\n",
        "        return output"
      ]
    },
    {
      "cell_type": "code",
      "execution_count": 34,
      "id": "wanted-scientist",
      "metadata": {
        "colab": {
          "base_uri": "https://localhost:8080/"
        },
        "id": "wanted-scientist",
        "outputId": "4f70ca10-cca6-488a-84be-c784d1eab94f"
      },
      "outputs": [
        {
          "name": "stdout",
          "output_type": "stream",
          "text": [
            "Number of parameters of classifier: 28938\n"
          ]
        }
      ],
      "source": [
        "cnn = CNN(n_classes).to(device=device)\n",
        "cnn_params = numberParameters(cnn, model_name = \"classifier\")"
      ]
    },
    {
      "cell_type": "markdown",
      "id": "every-occurrence",
      "metadata": {
        "id": "every-occurrence"
      },
      "source": [
        "### 2.c Loss function\n",
        "For classification tasks, the main loss function used is Cross Entropy. As entries, it takes the activations of last layer nodes  and the true labels of data (between 0 and n_classes-1). \n",
        "\n",
        "This loss function should not be changed."
      ]
    },
    {
      "cell_type": "code",
      "execution_count": 35,
      "id": "korean-cleveland",
      "metadata": {
        "id": "korean-cleveland"
      },
      "outputs": [],
      "source": [
        "# Loss function for the CNN\n",
        "\n",
        "loss_function_cnn = nn.CrossEntropyLoss()"
      ]
    },
    {
      "cell_type": "markdown",
      "id": "controversial-palace",
      "metadata": {
        "id": "controversial-palace"
      },
      "source": [
        "### 2.d Optimizer\n",
        "Again, we will use Adam as an optimizer.\n",
        "\n",
        "You can play around with the Adam parameters if you want."
      ]
    },
    {
      "cell_type": "code",
      "execution_count": 36,
      "id": "national-asset",
      "metadata": {
        "id": "national-asset"
      },
      "outputs": [],
      "source": [
        "# Adam optimization parameters\n",
        "# Predefined values: lr_cnn = 0.01, betas_cnn = (0.9, 0.999)\n",
        "lr_cnn = 0.01\n",
        "betas_cnn = (0.9, 0.999)\n",
        "\n",
        "optimizer_cnn = torch.optim.Adam(cnn.parameters(), lr=lr_cnn, betas = betas_cnn)"
      ]
    },
    {
      "cell_type": "markdown",
      "id": "literary-border",
      "metadata": {
        "id": "literary-border"
      },
      "source": [
        "### 2.e Accuracy\n",
        "We define one error measure as the accuracy reached by the CNN for its classifying predictions. In particular, we call accuracy the ratio between the number of correct classifications and the number of samples. We assume that the most activated output corresponds to the class prediction.\n",
        "\n",
        "During the training, data are loaded batch by batch. It could thus be a good idea to consider that the inputs of the following function are the true and predicted labels from one batch of data.\n",
        "\n",
        "Task: complete the computeCNNAccuracy function."
      ]
    },
    {
      "cell_type": "code",
      "execution_count": 37,
      "id": "ambient-miracle",
      "metadata": {
        "id": "ambient-miracle"
      },
      "outputs": [],
      "source": [
        "def computeCNNAccuracy(y_predicted,y_true):\n",
        "\n",
        "    accuracy = 0.0\n",
        "    accuracy = torch.sum(y_predicted == y_true).item()/y_true.shape[0]\n",
        "\n",
        "    # TO COMPLETE\n",
        "\n",
        "    return accuracy"
      ]
    },
    {
      "cell_type": "markdown",
      "id": "cleared-turtle",
      "metadata": {
        "id": "cleared-turtle"
      },
      "source": [
        "### 2.f Preparing the training process\n",
        "In this part, you are asked to initialize the training process (not the model which is initialized automatically). \n",
        "\n",
        "Let's just first define the number of iterations (epochs) that the training will last. Satisfactory results can be obtained with 15 epochs, but you can of course increase this value for a better training."
      ]
    },
    {
      "cell_type": "code",
      "execution_count": 38,
      "id": "official-prince",
      "metadata": {
        "id": "official-prince"
      },
      "outputs": [],
      "source": [
        "# Number of epochs for the training\n",
        "# Predefined value: num_epochs_cnn = 15\n",
        "\n",
        "num_epochs_cnn = 45"
      ]
    },
    {
      "cell_type": "markdown",
      "id": "medium-scotland",
      "metadata": {
        "id": "medium-scotland"
      },
      "source": [
        "It is important to keep track of the evolution of the error metrics during the training process. A simple idea is to store the values of the metrics in arrays, at least after every epoch.\n",
        "\n",
        "Task: Create arrays that will contain the accuracy for train and test sets, as well as the values of the CNN loss during the training. Compute the errors before training the model and store them in your arrays."
      ]
    },
    {
      "cell_type": "code",
      "execution_count": 39,
      "id": "impressed-handbook",
      "metadata": {
        "id": "impressed-handbook"
      },
      "outputs": [],
      "source": [
        "# Error metrics at initialisation\n",
        "error_train_loss = np.zeros(num_epochs_cnn)\n",
        "error_train_accuracy = np.zeros(num_epochs_cnn)\n",
        "error_test_accuracy = np.zeros(num_epochs_cnn)\n",
        "\n",
        "# TO COMPLETE"
      ]
    },
    {
      "cell_type": "markdown",
      "id": "multiple-diesel",
      "metadata": {
        "id": "multiple-diesel"
      },
      "source": [
        "### 2.g Training and testing the CNN\n",
        "This is finally the core part of this section: training your CNN.\n",
        "\n",
        "The training will follow an easy structure. Here is the pseudo-code of the training process:\n",
        "\n",
        "    for each epoch:\n",
        "\n",
        "        for each batch:\n",
        "\n",
        "            train the classifier on the batch:\n",
        "\n",
        "                predict the labels\n",
        "\n",
        "                compute the classifier loss function\n",
        "\n",
        "                backpropagate the error in the cnn\n",
        "                \n",
        "        end\n",
        "\n",
        "    end\n",
        "\n",
        "Task: Code the CNN training from the pseudo-code given above. Don't forget to switch between training and evaluation modes for the model, by using train() and eval() Pytorch functions. You may also use the time package in order to get information about the duration of the training. Finally, at every epoch, compute and store the accuracy and the loss of the model and generate images from your reference sample."
      ]
    },
    {
      "cell_type": "code",
      "execution_count": null,
      "id": "acute-indianapolis",
      "metadata": {
        "colab": {
          "base_uri": "https://localhost:8080/"
        },
        "id": "acute-indianapolis",
        "outputId": "7512817d-315c-4042-a7d1-5da81204fd73"
      },
      "outputs": [
        {
          "name": "stdout",
          "output_type": "stream",
          "text": [
            "            GAN trained in 714.8920127120001seconds\n"
          ]
        }
      ],
      "source": [
        "# Training of the CNN\n",
        "\n",
        "t1_start = process_time()\n",
        "\n",
        "testing_batch_images, testing_batch_labels = next(iter(test_loader))\n",
        "\n",
        "# Training of the CNN\n",
        "for i in range(num_epochs_cnn):\n",
        "    \n",
        "\n",
        "    cnn.train()\n",
        "    for j, (images, labels) in enumerate(train_loader):\n",
        "        # TO COMPLETE\n",
        "        # Forward pass\n",
        "        forward = cnn(images.cuda())\n",
        "        predicted_labels, probabilities, certainty = cnn.predictLabels(forward)\n",
        "\n",
        "\n",
        "        # Compute loss\n",
        "        loss = loss_function_cnn(probabilities.cuda(), labels.cuda())\n",
        "        # Backward pass\n",
        "        optimizer_cnn.zero_grad()\n",
        "        loss.backward()\n",
        "        optimizer_cnn.step()\n",
        "        # Accuracy\n",
        "        accuracy = computeCNNAccuracy(predicted_labels.cuda(), labels.cuda())\n",
        "\n",
        "        error_train_loss[i] += loss.item()\n",
        "        error_train_accuracy[i] += accuracy\n",
        "\n",
        "        print(\"\\r\"+str(i) +\"  \" + str(j) , end= \"\")\n",
        "    print(\"\\r            \", end= \"\")\n",
        "\n",
        "    error_train_loss[i] /= n_batches_total\n",
        "    error_train_accuracy[i] /= n_batches_total\n",
        "\n",
        "    cnn.eval()\n",
        "\n",
        "    testResult = cnn(testing_batch_images.cuda())\n",
        "    test_labels, _ , _ = cnn.predictLabels(testResult.cuda())\n",
        "    error_test_accuracy[i] = computeCNNAccuracy(test_labels.cuda(), testing_batch_labels.cuda())\n",
        "    if (epoch == 23):\n",
        "      optimizer_cnn = torch.optim.Adam(cnn.parameters(), lr=lr_cnn/10, betas = betas_cnn)\n",
        "      \n",
        "# TO COMPLETE\n",
        "\n",
        "t1_stop = process_time()\n",
        "\n",
        "print(\"GAN trained in \" + str(t1_stop-t1_start) + \"seconds\")"
      ]
    },
    {
      "cell_type": "code",
      "execution_count": null,
      "id": "LwL6EMshoopd",
      "metadata": {
        "colab": {
          "base_uri": "https://localhost:8080/"
        },
        "id": "LwL6EMshoopd",
        "outputId": "8e5d8d8d-e643-46fd-bd56-d9393bd4d378"
      },
      "outputs": [
        {
          "name": "stdout",
          "output_type": "stream",
          "text": [
            "Training loss:  [1.52032949 1.4818955  1.47774685 1.47544997 1.4735089  1.472514\n",
            " 1.47129046 1.47011137 1.46935477 1.46854609 1.4679556  1.46749536\n",
            " 1.46732546 1.46697684 1.46645999 1.46630702 1.46608061 1.46567948\n",
            " 1.46573331 1.46542134 1.46539897 1.46496286 1.46511373 1.46492707\n",
            " 1.4648052  1.46454764 1.46458217 1.46445232 1.46439454 1.46430274\n",
            " 1.46440328 1.46417777 1.46404248 1.46428019 1.46413375 1.4636942\n",
            " 1.46413441 1.46388183 1.46388938 1.46365244 1.46389684 1.46381079\n",
            " 1.46352669 1.46393317 1.46337369]\n",
            "Training accuracy:  [0.95466667 0.98735    0.99031667 0.99183333 0.99318333 0.9938\n",
            " 0.99458333 0.99571667 0.99606667 0.99698333 0.9972     0.99773333\n",
            " 0.99768333 0.99783333 0.99811667 0.99818333 0.99825    0.99856667\n",
            " 0.99843333 0.99863333 0.9987     0.99871667 0.99876667 0.99883333\n",
            " 0.99885    0.99898333 0.99898333 0.9991     0.99916667 0.99911667\n",
            " 0.99898333 0.99915    0.99916667 0.99906667 0.99906667 0.99926667\n",
            " 0.99911667 0.99923333 0.99921667 0.99931667 0.99915    0.99923333\n",
            " 0.99935    0.99926667 0.99935   ]\n",
            "Test accuracy:  [1.      1.      1.      1.      1.      1.      0.96875 1.      1.\n",
            " 1.      1.      1.      1.      1.      1.      1.      0.96875 1.\n",
            " 1.      1.      1.      1.      1.      1.      1.      1.      1.\n",
            " 1.      1.      1.      1.      1.      1.      1.      1.      0.96875\n",
            " 1.      0.96875 1.      0.96875 0.96875 0.96875 1.      0.96875 0.96875]\n"
          ]
        }
      ],
      "source": [
        "print(\"Training loss: \", error_train_loss)\n",
        "print(\"Training accuracy: \", error_train_accuracy)\n",
        "print(\"Test accuracy: \", error_test_accuracy)"
      ]
    },
    {
      "cell_type": "markdown",
      "id": "brutal-marriage",
      "metadata": {
        "id": "brutal-marriage"
      },
      "source": [
        "### 2.h Plot the results\n",
        "Again, you should plot the evolution of your error metrics (accuracy and loss function) in function of the number of epochs, to see how efficient the training is. Show the evolution of the images generated from your reference sample as well.\n",
        "\n",
        "Task: Make those plots, as clean and readable as possible."
      ]
    },
    {
      "cell_type": "code",
      "execution_count": null,
      "id": "checked-proceeding",
      "metadata": {
        "colab": {
          "base_uri": "https://localhost:8080/",
          "height": 374
        },
        "id": "checked-proceeding",
        "outputId": "5f5e39c4-012e-4e78-8485-12d1d15a12a3"
      },
      "outputs": [
        {
          "data": {
            "image/png": "[encoded data removed]",
            "text/plain": [
              "<Figure size 720x432 with 1 Axes>"
            ]
          },
          "metadata": {
            "needs_background": "light"
          },
          "output_type": "display_data"
        }
      ],
      "source": [
        "# Plots of accuracy and of loss function, images generated from your reference sample.\n",
        "\n",
        "# Plots of accuracy and of loss function, images generated from your reference sample.\n",
        "\n",
        "\n",
        "plt.figure(figsize=(10,6))\n",
        "#fig, (ax1, ax2 , ax3, ax4) = plt.subplots(1, 4 )\n",
        "#fig.suptitle(\"Generator and Discriminator Loss During Training\")\n",
        "#ax1.plot(error_discriminator_accuracy,label=\"G\")\n",
        "#ax2.plot(error_generator_accuracy,label=\"D\")\n",
        "#ax3.plot(error_discriminator_loss,label=\"acc\")\n",
        "#ax4.plot(error_generator_loss,label=\"acc\")\n",
        "#fig.supxlabel('iteration')\n",
        "plt.plot(error_train_loss, label=\"train_loss\")\n",
        "\n",
        "\n",
        "\n",
        "plt.plot(error_train_accuracy, label=\"train_accuracy\")\n",
        "plt.plot(error_test_accuracy, label=\"test_accuracy\")\n",
        "plt.legend()\n",
        "\n",
        "plt.show()\n",
        "\n",
        "# TO COMPLETE"
      ]
    },
    {
      "cell_type": "code",
      "execution_count": 41,
      "id": "8065e033",
      "metadata": {},
      "outputs": [],
      "source": [
        "cnn = CNN(n_classes).to(device=device)\n",
        "cnn = loadModel(cnn, \"Cnn\", \"2022_11_29__17_41\")"
      ]
    },
    {
      "cell_type": "markdown",
      "id": "ddc626e3",
      "metadata": {},
      "source": [
        "### 2.i Predict fake bash"
      ]
    },
    {
      "cell_type": "code",
      "execution_count": 49,
      "id": "iAbI1ojwONyh",
      "metadata": {
        "colab": {
          "base_uri": "https://localhost:8080/",
          "height": 976
        },
        "id": "iAbI1ojwONyh",
        "outputId": "71c227de-508c-4f96-ebc1-cca032300a63"
      },
      "outputs": [
        {
          "data": {
            "image/png": "[encoded data removed]",
            "text/plain": [
              "<Figure size 1440x1080 with 16 Axes>"
            ]
          },
          "metadata": {},
          "output_type": "display_data"
        }
      ],
      "source": [
        "\n",
        "labels,_,_ = cnn.predictLabels(cnn(fake))\n",
        "\n",
        "showImages(fake.detach().cpu(), true_labels=labels.detach().cpu())\n"
      ]
    },
    {
      "cell_type": "markdown",
      "id": "consolidated-intent",
      "metadata": {
        "id": "consolidated-intent"
      },
      "source": [
        "## Part 2 coming soon\n",
        "You now have operational GANs and CNNs for handwritten digits (and/or letters). In the second part of the homework, you will combine both networks in order to create what you want and learn more about those neural architectures."
      ]
    },
    {
      "cell_type": "markdown",
      "id": "f1edb28d",
      "metadata": {},
      "source": [
        "### 3.1 Combine your generator and your classifier"
      ]
    },
    {
      "cell_type": "code",
      "execution_count": 258,
      "id": "6WYwqiU8iTfC",
      "metadata": {
        "id": "6WYwqiU8iTfC"
      },
      "outputs": [],
      "source": [
        "def define_triplet():\n",
        "\n",
        "    latent_vectors_test = []\n",
        "    vector_transform_test = []\n",
        "    vector_label = []\n",
        "\n",
        "    for i in range (10):\n",
        "        latent_vectors = np.random.uniform(-1, 1, size=(batch_size, dim_latent_space))\n",
        "        latent_vectors = torch.tensor(latent_vectors).cuda()\n",
        "\n",
        "        batch = generator(latent_vectors.to(torch.float32)).detach()\n",
        "        inter = cnn(batch)\n",
        "        labels, _ , certainty = cnn.predictLabels(inter)\n",
        "        \n",
        "        for i in range (batch_size):\n",
        "            if (certainty[i] > 0.8):\n",
        "                latent_vectors_test.append(latent_vectors[i])\n",
        "                \n",
        "                vector_transform_test.append(batch[i])\n",
        "                vector_label.append(labels[i])\n",
        "            \n",
        "            \n"
      ]
    },
    {
      "cell_type": "code",
      "execution_count": 242,
      "id": "4oBjEpK0jYES",
      "metadata": {
        "colab": {
          "base_uri": "https://localhost:8080/"
        },
        "id": "4oBjEpK0jYES",
        "outputId": "2e2ddcf9-d8a0-47b2-fa43-8217fcc4e491"
      },
      "outputs": [
        {
          "name": "stdout",
          "output_type": "stream",
          "text": [
            "[ 3.  8. 32. 29. 21. 18.  8. 29.  6.  7.]\n"
          ]
        }
      ],
      "source": [
        "table = np.zeros(10)\n",
        "for label in vector_label:\n",
        "    table[label]+=1\n",
        "    \n",
        "print(table)"
      ]
    },
    {
      "cell_type": "code",
      "execution_count": 243,
      "id": "kE7K00iCjboM",
      "metadata": {
        "colab": {
          "base_uri": "https://localhost:8080/",
          "height": 283
        },
        "id": "kE7K00iCjboM",
        "outputId": "019a13bc-54aa-49e6-da8a-56806ae9b4f5"
      },
      "outputs": [
        {
          "data": {
            "text/plain": [
              "<BarContainer object of 10 artists>"
            ]
          },
          "execution_count": 243,
          "metadata": {},
          "output_type": "execute_result"
        },
        {
          "data": {
            "image/png": "[encoded data removed]",
            "text/plain": [
              "<Figure size 432x288 with 1 Axes>"
            ]
          },
          "metadata": {
            "needs_background": "light"
          },
          "output_type": "display_data"
        }
      ],
      "source": [
        "plt.bar( [\"0\",\"1\",\"2\",\"3\",\"4\",\"5\",\"6\",\"7\",\"8\",\"9\"] , table )"
      ]
    },
    {
      "cell_type": "code",
      "execution_count": 267,
      "id": "7mM7WdjZjdU_",
      "metadata": {
        "colab": {
          "base_uri": "https://localhost:8080/",
          "height": 958
        },
        "id": "7mM7WdjZjdU_",
        "outputId": "ebea3604-442e-436b-c2b2-6b292f182e44"
      },
      "outputs": [
        {
          "data": {
            "image/png": "[encoded data removed]",
            "text/plain": [
              "<Figure size 1440x1080 with 16 Axes>"
            ]
          },
          "metadata": {},
          "output_type": "display_data"
        }
      ],
      "source": [
        "#latent_vectors = torch.tensor(latent_vectors).cuda()\n",
        "#fake = generator(latent_vectors.to(torch.float32)).detach()\n",
        "\n",
        "mean_latent_vectors = np.zeros((32,100))\n",
        "\n",
        "for i in range (len (vector_label)):\n",
        "\n",
        "    mean_latent_vectors[vector_label[i]]=np.add(mean_latent_vectors[vector_label[i]],(latent_vectors_test[i].cpu()/table[label]))\n",
        "\n",
        "\n",
        "#print(type(latent_vectors[0]))\n",
        "fake_mean = torch.tensor(mean_latent_vectors).cuda()\n",
        "fake_mean = generator(fake_mean.to(torch.float32)).detach()\n",
        "showImages(fake_mean.detach().cpu(), torch.tensor([0,1,2,3,4,5,6,7,8,9,-1,-1,-1,-1,-1,-1,-1,-1,-1,-1,-1,-1,-1,-1,-1,-1,-1,-1,-1,-1,-1]))\n",
        "\n"
      ]
    },
    {
      "cell_type": "code",
      "execution_count": 254,
      "id": "4AosfmXOrTXF",
      "metadata": {
        "colab": {
          "base_uri": "https://localhost:8080/",
          "height": 1000
        },
        "id": "4AosfmXOrTXF",
        "outputId": "9f08b15f-a949-4dfa-b1d8-cb772971c365"
      },
      "outputs": [
        {
          "name": "stdout",
          "output_type": "stream",
          "text": [
            "[tensor([-0.3878,  0.2447,  0.5221, -0.3690, -0.7639, -0.2790, -0.1851, -0.1494,\n",
            "         0.6818,  0.0202, -0.5405,  0.4241,  0.0913,  0.6350, -0.9966,  0.7137,\n",
            "        -0.5886,  0.1928, -0.7096, -0.8364, -0.9486,  0.2731,  0.5924, -0.2900,\n",
            "        -0.4270,  0.6033,  0.3253,  0.0905, -0.1136, -0.6298, -0.3850, -0.4438,\n",
            "        -0.2762,  0.0290,  0.8778,  0.7503,  0.1280,  0.6111, -0.2628, -0.9351,\n",
            "        -0.6340, -0.1116, -0.8181,  0.7251, -0.8414, -0.0596,  0.3458,  0.7369,\n",
            "         0.4261,  0.1108, -0.8484, -0.2436, -0.2220, -0.1498,  0.4049, -0.7235,\n",
            "         0.1410, -0.7006,  0.7847,  0.6769,  0.6798, -0.2876, -0.4492,  0.6014,\n",
            "        -0.8518, -0.8628,  0.7404, -0.9463,  0.6310, -0.0961, -0.7588, -0.4165,\n",
            "         0.8861, -0.5966,  0.9259, -0.6860,  0.1086, -0.4818, -0.0318, -0.6665,\n",
            "        -0.4013, -0.0363, -0.8356, -0.1994, -0.8990,  0.0559,  0.7784,  0.4566,\n",
            "        -0.4093, -0.3039, -0.1620, -0.8356,  0.2384, -0.3921, -0.0250, -0.0059,\n",
            "        -0.3452,  0.2370, -0.5860, -0.9136], device='cuda:0',\n",
            "       dtype=torch.float64), tensor([ 0.4011,  0.2882,  0.8786, -0.3021, -0.9106, -0.2743,  0.2055,  0.6452,\n",
            "         0.1924,  0.8188,  0.2177, -0.7330,  0.3482, -0.4402, -0.1392, -0.0491,\n",
            "        -0.8160,  0.2417, -0.7850, -0.7945,  0.8763,  0.6766, -0.5439,  0.4849,\n",
            "         0.5358, -0.6742, -0.2374,  0.5261, -0.1396, -0.2148,  0.1386,  0.3988,\n",
            "         0.7634,  0.3352, -0.1001,  0.0224, -0.7466,  0.8138, -0.1353,  0.1059,\n",
            "         0.0243, -0.6903, -0.1202, -0.1135, -0.9893, -0.9281, -0.7564, -0.6203,\n",
            "         0.3366,  0.7580, -0.6942,  0.3861, -0.6588,  0.1996,  0.9265,  0.7991,\n",
            "         0.3293,  0.7383, -0.2263, -0.6368,  0.9563, -0.0102,  0.6153, -0.9660,\n",
            "         0.5323, -0.3353,  0.4999,  0.1771, -0.1506, -0.0894,  0.0153,  0.2274,\n",
            "        -0.3683, -0.0797,  0.5812, -0.4847,  0.1051, -0.2352, -0.1580, -0.9223,\n",
            "        -0.5527,  0.1418,  0.6266,  0.9946, -0.1790,  0.7059, -0.5397, -0.6200,\n",
            "        -0.2773,  0.9349, -0.0322,  0.2602,  0.4712, -0.0217, -0.3168,  0.9884,\n",
            "        -0.9112, -0.0251, -0.8330, -0.3473], device='cuda:0',\n",
            "       dtype=torch.float64), tensor([ 0.4479,  0.7679, -0.9143, -0.3381, -0.5720, -0.7164,  0.1565, -0.7518,\n",
            "         0.6412, -0.5262,  0.7432,  0.1276,  0.6238, -0.6595, -0.4766,  0.2841,\n",
            "        -0.5545,  0.5887, -0.9040, -0.6922,  0.5431, -0.9201,  0.4498,  0.9256,\n",
            "        -0.6094,  0.6787,  0.6286,  0.3113, -0.6264,  0.8402,  0.9146, -0.2428,\n",
            "        -0.9669, -0.8593, -0.5799,  0.9483,  0.5008, -0.3873, -0.1855,  0.2863,\n",
            "         0.4112,  0.1108,  0.9924,  0.9630,  0.8872,  0.8599, -0.7376,  0.1184,\n",
            "        -0.5888, -0.9428, -0.0453,  0.0727,  0.4504, -0.9239,  0.1251,  0.3539,\n",
            "         0.9274, -0.1793,  0.4942,  0.1568,  0.3299,  0.2341, -0.0866, -0.3184,\n",
            "         0.0882,  0.5306, -0.1114,  0.9867, -0.8220, -0.6494,  0.8062, -0.1744,\n",
            "         0.5491,  0.8180, -0.9690,  0.5423, -0.7274,  0.5416,  0.8385, -0.9127,\n",
            "         0.5477, -0.8610, -0.0905,  0.4225, -0.6566,  0.6511,  0.3951,  0.1068,\n",
            "        -0.9880,  0.6401,  0.4571,  0.4530,  0.8226,  0.7587,  0.4973, -0.0839,\n",
            "         0.2695, -0.9671, -0.2521,  0.4729], device='cuda:0',\n",
            "       dtype=torch.float64), tensor([-0.9493,  0.2008, -0.9977, -0.1833,  0.6543, -0.0554,  0.7513,  0.9246,\n",
            "        -0.3252,  0.8574,  0.5569,  0.7257,  0.6867, -0.8058, -0.0678,  0.8391,\n",
            "         0.7851, -0.9631,  0.8147, -0.1445, -0.1480, -0.6469, -0.5208,  0.0218,\n",
            "         0.8968, -0.7798,  0.4044,  0.2469,  0.4875,  0.7170,  0.2503, -0.1690,\n",
            "        -0.5083,  0.5953,  0.6230,  0.3479,  0.2467, -0.5641,  0.7122,  0.9451,\n",
            "        -0.0481,  0.8022,  0.8823,  0.9472, -0.8756, -0.0322, -0.9870, -0.7113,\n",
            "        -0.2555,  0.2839, -0.4426, -0.4379, -0.1838, -0.8944, -0.4199,  0.7839,\n",
            "        -0.0926, -0.0815, -0.7031,  0.3243, -0.5888, -0.1104,  0.4398, -0.6266,\n",
            "        -0.8922, -0.7591,  0.0563,  0.6559,  0.7019, -0.1739, -0.6065, -0.7701,\n",
            "        -0.3281, -0.6877,  0.4510, -0.9476,  0.7097, -0.0965,  0.8091,  0.9458,\n",
            "        -0.8633,  0.2829, -0.5711,  0.1405,  0.3559,  0.5378,  0.1217, -0.7879,\n",
            "         0.2020, -0.3414,  0.7080,  0.3315,  0.5117,  0.5915,  0.8192, -0.9462,\n",
            "         0.8648,  0.2242,  0.3120, -0.2882], device='cuda:0',\n",
            "       dtype=torch.float64), tensor([ 0.9645,  0.1446,  0.4489,  0.0269, -0.7123, -0.1233, -0.9212, -0.9152,\n",
            "        -0.5751, -0.0648, -0.1617, -0.8169, -0.9765, -0.6532,  0.6908, -0.9320,\n",
            "         0.8645,  0.2660, -0.8626, -0.0237, -0.8040,  0.6489,  0.0465,  0.6287,\n",
            "        -0.5022, -0.5109, -0.5138,  0.9561,  0.0838,  0.9288, -0.9495, -0.7776,\n",
            "        -0.7725, -0.1040, -0.7105,  0.4703, -0.5858, -0.9237, -0.0072, -0.2611,\n",
            "        -0.9231,  0.8675, -0.5310,  0.3316,  0.3624, -0.0178, -0.3826,  0.3594,\n",
            "        -0.3064, -0.4932, -0.0608,  0.3653,  0.4478,  0.0542,  0.0161,  0.1910,\n",
            "        -0.9095, -0.7140,  0.0659, -0.7681,  0.1074,  0.4160,  0.5337,  0.6112,\n",
            "        -0.2762,  0.2272,  0.9834,  0.9161, -0.3211, -0.2409,  0.9936,  0.2448,\n",
            "         0.6621,  0.1599, -0.3110,  0.5856,  0.8608, -0.5709,  0.3572, -0.8176,\n",
            "        -0.2104, -0.4917, -0.6169, -0.3721,  0.1290, -0.6485,  0.1540, -0.0422,\n",
            "         0.6115,  0.2541,  0.6173, -0.7106,  0.2403,  0.3924,  0.7955,  0.9194,\n",
            "        -0.5622,  0.3125,  0.2547,  0.1746], device='cuda:0',\n",
            "       dtype=torch.float64), tensor([-0.7058,  0.3567, -0.0814, -0.9206,  0.4432, -0.9158, -0.3514, -0.5186,\n",
            "         0.4078, -0.4678,  0.2147, -0.5860, -0.5847,  0.2100, -0.6281,  0.0627,\n",
            "        -0.3777, -0.1934,  0.6023,  0.2101,  0.8702,  0.0973,  0.8098,  0.4267,\n",
            "         0.9471,  0.2567,  0.3528, -0.9511, -0.5624,  0.0877,  0.0723,  0.0494,\n",
            "         0.6358,  0.4308,  0.1465,  0.4657,  0.7262, -0.5713,  0.3798, -0.2697,\n",
            "        -0.4202, -0.5495, -0.5987,  0.8499, -0.1863, -0.6978,  0.0738,  0.9673,\n",
            "         0.2809, -0.3896, -0.0816,  0.9068,  0.5411, -0.7047,  0.9551,  0.7149,\n",
            "         0.4306,  0.6107,  0.1765, -0.9162,  0.5470,  0.2424,  0.8179,  0.1381,\n",
            "         0.0118, -0.3189, -0.6085,  0.2542, -0.5482,  0.4589,  0.9102, -0.2403,\n",
            "         0.9057,  0.8690,  0.0795, -0.3778, -0.4372,  0.2582, -0.5299, -0.0781,\n",
            "         0.6885, -0.3759, -0.4032, -0.9006, -0.4682,  0.5247,  0.4334,  0.8391,\n",
            "        -0.0629,  0.1966, -0.1531,  0.7089, -0.1190, -0.8849, -0.3938, -0.2008,\n",
            "         0.2320, -0.5921,  0.7890,  0.2449], device='cuda:0',\n",
            "       dtype=torch.float64), tensor([ 0.7788, -0.8454,  0.1747, -0.2148,  0.4091, -0.4566, -0.0591,  0.1066,\n",
            "        -0.6034,  0.0241,  0.8825,  0.6716, -0.7285, -0.1187,  0.9990,  0.0024,\n",
            "         0.8845,  0.0207, -0.3503, -0.0646, -0.4332,  0.6286, -0.4166, -0.5238,\n",
            "         0.8714,  0.3627, -0.1266, -0.1068, -0.9886,  0.7401, -0.4323,  0.5981,\n",
            "        -0.1932,  0.7991, -0.3593, -0.4478,  0.8425, -0.0824,  0.2946,  0.6176,\n",
            "        -0.8961,  0.7191,  0.7750, -0.3184, -0.9420,  0.8209, -0.9436, -0.3273,\n",
            "        -0.9967,  0.5977,  0.4382,  0.0496, -0.2053, -0.3856, -0.1220,  0.1997,\n",
            "        -0.5489,  0.1817,  0.3615,  0.5100, -0.4511,  0.2935, -0.3075, -0.6431,\n",
            "        -0.2257, -0.9427, -0.9593, -0.6193, -0.3717, -0.4966, -0.7232,  0.1448,\n",
            "        -0.1152,  0.4773, -0.7798,  0.1830, -0.3216, -0.0913,  0.7146,  0.8981,\n",
            "         0.2984, -0.7407, -0.4390,  0.7613,  0.8187,  0.5496, -0.1755,  0.8266,\n",
            "        -0.4770,  0.9134, -0.5027,  0.1286, -0.1744, -0.3512,  0.6806,  0.4077,\n",
            "         0.4378, -0.9364, -0.2619, -0.5122], device='cuda:0',\n",
            "       dtype=torch.float64), tensor([-0.1851, -0.6143,  0.2847,  0.7723, -0.3141, -0.1175, -0.4328,  0.3871,\n",
            "         0.6302, -0.1986,  0.9768,  0.4959, -0.6792, -0.5767, -0.1786, -0.3841,\n",
            "         0.5638,  0.7952,  0.5506,  0.6189,  0.0230,  0.6166,  0.3604, -0.1890,\n",
            "         0.8680, -0.7736,  0.6291, -0.2425,  0.2419, -0.4927, -0.8468,  0.4893,\n",
            "        -0.8855,  0.1230, -0.6479, -0.5571, -0.9144, -0.5595,  0.1627, -0.1022,\n",
            "        -0.8923,  0.7032, -0.0895,  0.8835, -0.2691,  0.4486, -0.9787, -0.0212,\n",
            "         0.6990,  0.0642,  0.9593,  0.7753, -0.0363, -0.5753,  0.7416,  0.5387,\n",
            "         0.2024, -0.1906,  0.0484, -0.0150,  0.4907,  0.4471,  0.6366, -0.0971,\n",
            "        -0.3608,  0.8480, -0.1728,  0.2135,  0.4852, -0.1623, -0.5706, -0.3026,\n",
            "        -0.7700, -0.8645, -0.5657,  0.0706,  0.0227, -0.1994,  0.8252,  0.7344,\n",
            "         0.3534, -0.2255,  0.7053, -0.2414,  0.0739,  0.0203,  0.0795,  0.2123,\n",
            "         0.4652, -0.7424, -0.2722, -0.0684, -0.6634,  0.7485,  0.9901, -0.5043,\n",
            "        -0.1724, -0.3928, -0.4300,  0.0589], device='cuda:0',\n",
            "       dtype=torch.float64), tensor([ 0.8243, -0.5034, -0.0669, -0.1464,  0.8755, -0.4836, -0.6195,  0.6103,\n",
            "         0.9960, -0.2488,  0.4876,  0.3363, -0.0192, -0.1937,  0.3079, -0.7160,\n",
            "         0.6866, -0.6188, -0.0328,  0.5976,  0.2541,  0.6236,  0.9528,  0.3909,\n",
            "        -0.6770,  0.7173,  0.1861, -0.1324, -0.3710, -0.4606,  0.3323, -0.5858,\n",
            "         0.6057,  0.5977, -0.7154, -0.3755,  0.6432, -0.5086, -0.1951, -0.3198,\n",
            "        -0.8403, -0.1146,  0.9738, -0.8886,  0.9221,  0.7702,  0.9551, -0.6343,\n",
            "         0.6031,  0.8663,  0.3749, -0.0189,  0.7755,  0.9843, -0.3975,  0.1108,\n",
            "         0.3906, -0.8960,  0.1575, -0.7879, -0.5483, -0.3729, -0.2718, -0.6080,\n",
            "         0.6039, -0.3588, -0.1137, -0.2495, -0.5927, -0.2315, -0.2574, -0.1395,\n",
            "         0.9656, -0.1571, -0.8648, -0.5002, -0.4723, -0.2630,  0.8086, -0.5564,\n",
            "        -0.9645, -0.6999, -0.7667, -0.2608,  0.4469, -0.1115,  0.1933,  0.7951,\n",
            "         0.5830,  0.7331,  0.3080, -0.7997, -0.2365, -0.8345,  0.4700,  0.8848,\n",
            "        -0.5526, -0.2149, -0.9613, -0.4631], device='cuda:0',\n",
            "       dtype=torch.float64), tensor([ 0.1280,  0.6496, -0.9147,  0.6167, -0.1171, -0.2454, -0.7291,  0.0226,\n",
            "        -0.6437, -0.9641,  0.4919,  0.7474,  0.1851, -0.2692,  0.9709, -0.6914,\n",
            "         0.5558,  0.8160, -0.2941,  0.4275, -0.6323, -0.8560,  0.9299,  0.3423,\n",
            "         0.2029, -0.5308,  0.9800, -0.7478, -0.1458, -0.5843, -0.6299,  0.2058,\n",
            "        -0.4042, -0.4991, -0.8214, -0.8344,  0.8386,  0.7017, -0.8725, -0.7633,\n",
            "         0.2758, -0.8003, -0.4207, -0.4485,  0.7677, -0.5848, -0.8672, -0.6127,\n",
            "         0.8836, -0.2173, -0.2588,  0.5006, -0.6713,  0.9198, -0.5792, -0.7469,\n",
            "        -0.6928, -0.0676,  0.1706,  0.9612,  0.3823,  0.6125,  0.8812,  0.3253,\n",
            "         0.6352,  0.4345,  0.0059, -0.2620,  0.1534, -0.3177, -0.0962,  0.8866,\n",
            "         0.4601, -0.1128, -0.6633,  0.7570,  0.4213,  0.0368,  0.7700, -0.7744,\n",
            "        -0.4153,  0.8011,  0.7085, -0.8035, -0.4280,  0.8895, -0.3145,  0.6132,\n",
            "         0.8908, -0.1365,  0.4503, -0.2737,  0.7533, -0.3011,  0.5491, -0.0533,\n",
            "         0.5915,  0.9864,  0.5999, -0.6751], device='cuda:0',\n",
            "       dtype=torch.float64), tensor([ 0.6928, -0.7221, -0.4643, -0.2455,  0.4287, -0.8584,  0.6761,  0.6178,\n",
            "        -0.8698,  0.1797,  0.9770,  0.4937, -0.0201, -0.2868, -0.7645, -0.4256,\n",
            "        -0.5557, -0.3679,  0.5735, -0.0384, -0.7821,  0.2762,  0.9886,  0.4616,\n",
            "         0.1089, -0.9108,  0.7444,  0.9775,  0.0676, -0.3235,  0.5279,  0.5131,\n",
            "         0.3141,  0.5979, -0.4486, -0.3994,  0.8770, -0.3115,  0.8188, -0.0525,\n",
            "         0.7651, -0.2016,  0.7994, -0.2128, -0.5167, -0.5823, -0.8802,  0.6613,\n",
            "        -0.0256,  0.1978, -0.2731,  0.0711, -0.7812,  0.8319, -0.3064,  0.9201,\n",
            "        -0.4903,  0.8721,  0.5073, -0.4256, -0.6161,  0.0648,  0.8910,  0.2637,\n",
            "         0.5248,  0.8911,  0.6959, -0.6070, -0.6153,  0.9602,  0.0050, -0.5608,\n",
            "        -0.7216, -0.2274,  0.9192, -0.0767,  0.0838,  0.6940, -0.2345, -0.2941,\n",
            "        -0.3708, -0.3149,  0.3798,  0.5550, -0.6350, -0.9473,  0.9349, -0.6546,\n",
            "        -0.7070, -0.8596, -0.8033,  0.4770,  0.3681,  0.0484, -0.4762,  0.8717,\n",
            "        -0.0899,  0.7731, -0.8448,  0.9750], device='cuda:0',\n",
            "       dtype=torch.float64), tensor([ 0.9404,  0.5996,  0.4071, -0.2106, -0.0415, -0.7765, -0.2294,  0.8741,\n",
            "         0.5439, -0.2828, -0.6545,  0.1714, -0.6949,  0.1431, -0.9548, -0.0528,\n",
            "         0.0618,  0.0567, -0.5789,  0.1494, -0.9074,  0.9054,  0.3009, -0.5433,\n",
            "        -0.4966, -0.9539,  0.9586,  0.9997,  0.8369, -0.9725, -0.5676,  0.6410,\n",
            "         0.2329,  0.5176, -0.9039, -0.0763, -0.7012, -0.8212,  0.6735,  0.9147,\n",
            "        -0.1141, -0.2815,  0.0044, -0.0697, -0.1160,  0.2735, -0.5793, -0.0235,\n",
            "         0.3429,  0.4496, -0.5016, -0.5586,  0.1404, -0.7807,  0.4825,  0.1395,\n",
            "         0.3104,  0.8000, -0.7668,  0.3870,  0.7569,  0.4449,  0.6588,  0.7866,\n",
            "         0.6596,  0.6102, -0.1832,  0.6776, -0.9781, -0.1595,  0.8693, -0.8404,\n",
            "        -0.4192, -0.4799, -0.6841,  0.5880, -0.3353, -0.4672,  0.7183,  0.2001,\n",
            "        -0.9588,  0.4457, -0.7676,  0.5669,  0.1038,  0.5272, -0.3593, -0.6836,\n",
            "         0.5437, -0.2959, -0.6570,  0.0380,  0.2792, -0.4814,  0.9553,  0.6584,\n",
            "        -0.8783, -0.0738,  0.5785,  0.3020], device='cuda:0',\n",
            "       dtype=torch.float64), tensor([-0.5693,  0.3094, -0.1766, -0.1528, -0.4053, -0.9111,  0.8230, -0.8694,\n",
            "         0.3590, -0.1027, -0.7192,  0.7925,  0.1260,  0.1235,  0.7649, -0.1765,\n",
            "         0.2607,  0.9754, -0.3493, -0.3003, -0.4538,  0.5781,  0.9519,  0.8275,\n",
            "        -0.3191, -0.8713,  0.0246, -0.7272,  0.5596, -0.5145, -0.6899,  0.3446,\n",
            "         0.5912,  0.7725,  0.5077, -0.6887,  0.4975, -0.8943, -0.5052,  0.3055,\n",
            "         0.4258,  0.8802,  0.4063, -0.0022,  0.0985, -0.0575,  0.5515, -0.4566,\n",
            "        -0.3584,  0.9839,  0.8777,  0.5384, -0.6028, -0.5149, -0.3341, -0.4743,\n",
            "        -0.8891, -0.5681, -0.1490, -0.4561,  0.0962, -0.7317, -0.3585, -0.1788,\n",
            "        -0.6635,  0.8218, -0.3244, -0.8728, -0.4455, -0.8840,  0.2655, -0.3943,\n",
            "         0.2722, -0.4431,  0.3340,  0.4643, -0.6983, -0.6497, -0.7481,  0.5158,\n",
            "        -0.8021, -0.0309,  0.7872, -0.5867,  0.6502,  0.2750, -0.0559,  0.7887,\n",
            "         0.2812, -0.3361,  0.9865,  0.7279,  0.2112, -0.4409,  0.9453,  0.4780,\n",
            "        -0.1454,  0.6330, -0.2402, -0.0689], device='cuda:0',\n",
            "       dtype=torch.float64), tensor([-0.7412,  0.8230,  0.7009, -0.3866,  0.1194, -0.3250,  0.9626, -0.7894,\n",
            "         0.4117,  0.9277,  0.8374, -0.5072, -0.5631,  0.1350,  0.4233,  0.9392,\n",
            "        -0.9407,  0.4867, -0.6276, -0.1644, -0.2931,  0.8340, -0.6901, -0.0155,\n",
            "         0.0619, -0.5856,  0.0726,  0.9089,  0.5977,  0.6040, -0.5187,  0.5697,\n",
            "         0.5218, -0.3045, -0.7916, -0.1985,  0.3111,  0.3311, -0.6683,  0.8297,\n",
            "        -0.4510,  0.5317,  0.9906, -0.2101, -0.6044, -0.7684,  0.6167, -0.6681,\n",
            "         0.9406, -0.4932,  0.7355, -0.9747, -0.8273,  0.4835, -0.8193, -0.8715,\n",
            "        -0.2708, -0.5814,  0.6782, -0.8949,  0.0594, -0.0547,  0.0191, -0.8614,\n",
            "        -0.0819, -0.8815,  0.7405,  0.2122, -0.7101, -0.7239, -0.9114,  0.8806,\n",
            "        -0.2181,  0.5448, -0.9922,  0.5750, -0.7817,  0.7057,  0.7990, -0.2485,\n",
            "         0.3844,  0.7809,  0.7648,  0.1264, -0.1797, -0.5280,  0.9719,  0.8543,\n",
            "         0.0476, -0.8293, -0.7813, -0.0689,  0.0672, -0.0454,  0.9802, -0.4554,\n",
            "         0.6115,  0.1771,  0.5727,  0.8084], device='cuda:0',\n",
            "       dtype=torch.float64), tensor([ 0.3614, -0.2308, -0.8133, -0.8640,  0.1681, -0.7005,  0.4849, -0.7902,\n",
            "         0.8071,  0.3741, -0.7121,  0.6824, -0.1501,  0.6656,  0.8557,  0.0277,\n",
            "         0.9379, -0.3747, -0.2919, -0.0438,  0.0753,  0.1990,  0.7002,  0.5222,\n",
            "        -0.3020, -0.9267,  0.8907, -0.7444,  0.3312, -0.6853,  0.5698, -0.0095,\n",
            "         0.5405,  0.2434, -0.7714, -0.7581,  0.0264,  0.2521,  0.8091, -0.1414,\n",
            "        -0.3436,  0.3005, -0.4492,  0.6103, -0.8680, -0.5405,  0.7474,  0.8812,\n",
            "         0.0839,  0.1750,  0.7720,  0.8658, -0.4388,  0.1330, -0.2801, -0.8014,\n",
            "         0.5987, -0.4837,  0.9384, -0.0427, -0.2266,  0.4049, -0.8465, -0.8192,\n",
            "        -0.8677,  0.8498, -0.1225, -0.4024,  0.2928, -0.7483, -0.7473, -0.1320,\n",
            "         0.3286,  0.8279, -0.5889,  0.7043,  0.3183, -0.4137, -0.2432,  0.9102,\n",
            "         0.5079, -0.7046, -0.4853,  0.7752, -0.1043, -0.3368, -0.6526,  0.9140,\n",
            "        -0.2176,  0.8289,  0.7790,  0.9351, -0.4159,  0.1911,  0.8493, -0.1713,\n",
            "         0.7959, -0.4919,  0.1939, -0.5625], device='cuda:0',\n",
            "       dtype=torch.float64), tensor([ 0.4723,  0.1999,  0.8635,  0.8435,  0.6060,  0.8306,  0.7517, -0.8764,\n",
            "        -0.6387,  0.8104,  0.7982,  0.8509, -0.3675, -0.1348, -0.1212,  0.5843,\n",
            "         0.2388, -0.7965,  0.3081, -0.6061,  0.4536, -0.0294, -0.9148, -0.4718,\n",
            "         0.8048, -0.4207,  0.6497,  0.9216,  0.5262,  0.1863, -0.2940,  0.8246,\n",
            "        -0.0147,  0.9071,  0.5675, -0.1000,  0.3477,  0.8649, -0.4431,  0.6811,\n",
            "        -0.6083, -0.2656, -0.2618, -0.2025,  0.5946,  0.4599, -0.1675,  0.6451,\n",
            "         0.2371, -0.4880,  0.3608,  0.3387, -0.3764,  0.6296,  0.7891, -0.6107,\n",
            "        -0.0957,  0.0891, -0.6248,  0.1443,  0.5791,  0.8728, -0.9224, -0.7336,\n",
            "         0.6195, -0.2256, -0.2390,  0.8474, -0.0789, -0.3899,  0.3328,  0.5501,\n",
            "         0.2179,  0.6342, -0.6485, -0.8244,  0.4688, -0.5441,  0.3338, -0.5371,\n",
            "         0.7978,  0.6642, -0.0833,  0.6039,  0.3969,  0.4576, -0.5580, -0.6636,\n",
            "        -0.0600,  0.7629, -0.4872,  0.2777,  0.1153, -0.0501, -0.3810, -0.0480,\n",
            "        -0.4214,  0.6780, -0.1278, -0.8209], device='cuda:0',\n",
            "       dtype=torch.float64), tensor([-0.2525,  0.4536, -0.3224,  0.0681, -0.4987, -0.4393,  0.3539,  0.7531,\n",
            "        -0.7444,  0.2151, -0.1485, -0.3877,  0.1084,  0.2674,  0.2052,  0.4092,\n",
            "         0.4086, -0.9172,  0.6122, -0.4288, -0.3629,  0.3334,  0.3833, -0.2292,\n",
            "        -0.5571, -0.6942,  0.5841, -0.3507,  0.9993,  0.1236,  0.0601, -0.5877,\n",
            "         0.0036,  0.9424, -0.2619,  0.5001,  0.1958,  0.6692,  0.8207,  0.8785,\n",
            "        -0.6531, -0.8901,  0.5026, -0.1638, -0.4776, -0.1500,  0.4291, -0.7473,\n",
            "        -0.6256,  0.4992, -0.5010,  0.7169, -0.9949, -0.5424,  0.3742,  0.3342,\n",
            "        -0.1820, -0.0616, -0.7206, -0.6476, -0.2263, -0.9587, -0.6088, -0.7884,\n",
            "         0.8052,  0.5042, -0.2692,  0.7203, -0.8791,  0.7745,  0.7821,  0.7106,\n",
            "         0.7295,  0.6632,  0.0698,  0.8169, -0.1222,  0.8782,  0.6331,  0.6301,\n",
            "        -0.8234, -0.3786,  0.8140, -0.4017, -0.3522, -0.8279, -0.3027, -0.8398,\n",
            "        -0.7754, -0.8255,  0.5515,  0.8036, -0.4727,  0.7398, -0.1497,  0.2313,\n",
            "         0.1730, -0.2447, -0.0417, -0.1562], device='cuda:0',\n",
            "       dtype=torch.float64), tensor([ 0.7106, -0.6282,  0.7368,  0.5350,  0.4781,  0.9617,  0.3184,  0.6609,\n",
            "        -0.9902,  0.9809,  0.5101,  0.4438, -0.2594, -0.5997, -0.6635, -0.3244,\n",
            "        -0.4611,  0.6221, -0.0245, -0.0376,  0.5997, -0.9884, -0.7331, -0.2084,\n",
            "        -0.8943, -0.4650,  0.5003,  0.9925,  0.1267,  0.9741, -0.8333,  0.9590,\n",
            "         0.2407, -0.1890, -0.6763, -0.6987, -0.7044,  0.9982, -0.7007, -0.3464,\n",
            "        -0.8187,  0.1816, -0.6035,  0.4024,  0.9272,  0.4950,  0.8692,  0.0554,\n",
            "        -0.2069,  0.5215,  0.4161,  0.6674, -0.8430, -0.7510,  0.6067,  0.2900,\n",
            "        -0.0222,  0.3595, -0.6218,  0.5013,  0.4827,  0.7414,  0.7633, -0.5675,\n",
            "         0.3498, -0.5651,  0.3898, -0.3915, -0.9648, -0.9513,  0.2868, -0.6434,\n",
            "        -0.1440, -0.2497, -0.0047, -0.5873, -0.1521,  0.3890, -0.1463,  0.1597,\n",
            "        -0.0962,  0.7149,  0.0439, -0.6343,  0.1695, -0.0088,  0.6199, -0.4329,\n",
            "        -0.9128, -0.8722,  0.7527, -0.2076, -0.9607, -0.7399,  0.6063, -0.0811,\n",
            "        -0.7066,  0.7589, -0.1839,  0.7988], device='cuda:0',\n",
            "       dtype=torch.float64), tensor([-0.3766,  0.8181, -0.9646, -0.9224, -0.7946,  0.0683, -0.7252, -0.6605,\n",
            "         0.9934,  0.5418, -0.7728,  0.0962, -0.9268, -0.6110,  0.1407, -0.8652,\n",
            "         0.8169, -0.9162,  0.6254,  0.5004,  0.7928, -0.9807, -0.8204,  0.0597,\n",
            "        -0.3460, -0.3489,  0.0218, -0.3891,  0.5605, -0.1708, -0.1247, -0.7074,\n",
            "         0.4776,  0.1803,  0.5378, -0.1381, -0.3055, -0.0236,  0.4000,  0.3133,\n",
            "         0.4134,  0.5533,  0.1466, -0.5854, -0.2571,  0.5626,  0.2303, -0.7449,\n",
            "        -0.9468,  0.9442,  0.0200,  0.1460, -0.5173,  0.0325, -0.1943, -0.7673,\n",
            "         0.1505,  0.6986, -0.6498,  0.4944, -0.7227, -0.5042,  0.8101, -0.6658,\n",
            "         0.6669,  0.0707,  0.6545, -0.4138, -0.0365,  0.0780,  0.0073, -0.7683,\n",
            "         0.3141, -0.1507,  0.0872,  0.8503,  0.1401,  0.7113,  0.9410,  0.0026,\n",
            "         0.5847,  0.5200,  0.8262, -0.2291,  0.6473, -0.9836, -0.3336,  0.5182,\n",
            "        -0.3530, -0.4258,  0.2618,  0.3046, -0.4646,  0.6794,  0.3401, -0.1397,\n",
            "         0.1753,  0.9288, -0.5681, -0.6654], device='cuda:0',\n",
            "       dtype=torch.float64), tensor([-4.6710e-01, -6.0439e-01,  3.5283e-02,  6.3671e-01,  8.7783e-01,\n",
            "        -9.0282e-01, -9.6577e-01, -8.3376e-01, -5.4460e-01, -9.1982e-01,\n",
            "         9.1142e-01, -3.4150e-01,  6.7869e-01,  8.4170e-01,  8.2423e-01,\n",
            "         9.2715e-01,  2.3154e-01, -2.5651e-01, -4.8038e-01, -9.9501e-02,\n",
            "        -6.9615e-01, -5.9742e-01, -5.5405e-01,  2.9447e-01, -4.6031e-01,\n",
            "        -3.1703e-01,  8.2573e-01, -5.0936e-01, -5.8874e-01, -1.6438e-01,\n",
            "         6.9090e-01,  5.6567e-01,  9.1375e-01,  9.3840e-01, -3.0064e-01,\n",
            "        -5.4035e-02,  1.1254e-01,  5.8778e-01,  9.4392e-01, -7.8679e-01,\n",
            "        -9.4234e-01, -8.9734e-04, -2.4825e-01,  5.6859e-01,  1.4574e-01,\n",
            "         9.1348e-01,  3.3106e-02, -3.5217e-01,  8.6328e-01,  9.1952e-01,\n",
            "        -7.0006e-01,  8.2206e-01, -5.3819e-01,  3.4151e-01, -1.1746e-02,\n",
            "        -9.4471e-01, -8.1765e-01,  4.9880e-01,  5.0582e-02, -7.2309e-01,\n",
            "        -4.8569e-01, -8.7382e-01,  5.3733e-01, -4.3668e-01, -4.9436e-01,\n",
            "         9.7537e-01, -3.8868e-01, -7.9181e-01, -1.0320e-01, -8.9845e-01,\n",
            "         8.8395e-01,  2.5389e-01, -7.0719e-01,  7.9543e-01,  7.7634e-01,\n",
            "         5.1515e-01, -2.3825e-01,  2.8896e-01, -2.2756e-01,  1.4696e-01,\n",
            "         1.3710e-01, -6.1964e-01, -2.6438e-01,  3.2485e-01,  9.9118e-02,\n",
            "         1.6991e-01,  1.2052e-01, -7.7509e-01, -8.6945e-02, -3.0066e-02,\n",
            "         2.2145e-01,  7.5987e-01,  6.3327e-01, -6.7353e-01, -1.4876e-01,\n",
            "        -8.5873e-01,  1.1055e-01, -6.9639e-01,  9.5589e-01,  4.5783e-01],\n",
            "       device='cuda:0', dtype=torch.float64), tensor([ 0.5116, -0.8316, -0.9232,  0.5056,  0.7027, -0.6798,  0.3862,  0.9744,\n",
            "         0.8329, -0.8427, -0.4138,  0.2127,  0.5120,  0.0659,  0.7834, -0.7602,\n",
            "        -0.5589,  0.8296, -0.5460, -0.8319, -0.7745,  0.6819,  0.8344, -0.4895,\n",
            "         0.3044,  0.5749,  0.5068, -0.2262,  0.2952, -0.0455,  0.5372,  0.6123,\n",
            "         0.4972, -0.5984,  0.7391,  0.7380,  0.7246,  0.1096, -0.0013, -0.8849,\n",
            "         0.1501, -0.0478,  0.3815,  0.1125, -0.3531,  0.5592,  0.7203,  0.0258,\n",
            "        -0.0502, -0.2703, -0.2538, -0.4605,  0.4012,  0.8697,  0.7909, -0.1384,\n",
            "        -0.5756,  0.1868,  0.3919,  0.6533,  0.2588, -0.9812,  0.7243, -0.1640,\n",
            "        -0.1028,  0.2172,  0.6412,  0.3539,  0.8284,  0.1264, -0.8425, -0.0443,\n",
            "         0.0402, -0.1691,  0.4829,  0.4788, -0.9434,  0.8473,  0.8422,  0.6278,\n",
            "        -0.0618, -0.1674, -0.4964, -0.1059,  0.6770, -0.8963,  0.1127, -0.7295,\n",
            "        -0.5036,  0.9329,  0.9425, -0.1920,  0.3982,  0.4577,  0.5121,  0.0967,\n",
            "         0.1681, -0.9034,  0.4252, -0.7541], device='cuda:0',\n",
            "       dtype=torch.float64), tensor([ 0.9683, -0.8237, -0.3142, -0.3057,  0.5045,  0.3828,  0.6654,  0.1710,\n",
            "         0.5123,  0.7631,  0.5185,  0.8187, -0.8095, -0.2798,  0.1341, -0.0356,\n",
            "         0.8554,  0.5192, -0.9765, -0.2455, -0.6199,  0.3760,  0.4945,  0.7658,\n",
            "         0.7251, -0.8600, -0.0871, -0.4133,  0.8624, -0.7108, -0.2654, -0.4190,\n",
            "        -0.3836, -0.6473,  0.6115,  0.7589, -0.1949, -0.5810,  0.4946, -0.9790,\n",
            "         0.7880,  0.5405, -0.9725,  0.7991,  0.4826, -0.7980, -0.3603, -0.9429,\n",
            "         0.9213,  0.2708, -0.4841,  0.8524, -0.9666,  0.6839,  0.1666, -0.6659,\n",
            "         0.2347,  0.3787,  0.6222, -0.7110, -0.1400, -0.6670, -0.9561,  0.6879,\n",
            "        -0.4146,  0.2162, -0.1334, -0.4866,  0.9555,  0.6544, -0.3516,  0.1971,\n",
            "         0.2128,  0.2883,  0.8798,  0.1854,  0.3876, -0.7515, -0.0678,  0.5702,\n",
            "         0.0400, -0.0178,  0.8097,  0.4575, -0.7169,  0.7978,  0.7531,  0.4300,\n",
            "        -0.5140,  0.5000, -0.2341, -0.2167, -0.5001, -0.0936,  0.3205,  0.0140,\n",
            "        -0.7932, -0.5028, -0.1188, -0.9384], device='cuda:0',\n",
            "       dtype=torch.float64), tensor([-0.2302,  0.9725,  0.6287,  0.3785,  0.1460,  0.2460,  0.4975,  0.1047,\n",
            "        -0.8709,  0.1525,  0.9816, -0.7692, -0.1086, -0.3674,  0.9256, -0.8927,\n",
            "        -0.6732, -0.9914,  0.7229, -0.5906, -0.8246, -0.9549, -0.2656,  0.7763,\n",
            "         0.8186, -0.1524, -0.7516, -0.2997,  0.9626,  0.9308, -0.5208,  0.9984,\n",
            "        -0.9498,  0.0087, -0.9253, -0.0790,  0.2159,  0.9147,  0.1697,  0.5761,\n",
            "         0.8756, -0.9629,  0.6620,  0.6672, -0.1210,  0.8537,  0.1584,  0.9968,\n",
            "         0.7488,  0.8671, -0.5288,  0.2499, -0.3842,  0.3278,  0.9589, -0.5429,\n",
            "         0.7649, -0.8827, -0.1363, -0.2391,  0.9552,  0.0975,  0.7370, -0.0654,\n",
            "        -0.4837, -0.5575, -0.2643, -0.0135, -0.8616, -0.0358,  0.2324,  0.6465,\n",
            "        -0.6348,  0.6386,  0.5765, -0.8904,  0.2901, -0.7824,  0.2650,  0.8281,\n",
            "         0.3070, -0.3990,  0.6307, -0.4472,  0.4232,  0.0852, -0.2528,  0.0051,\n",
            "         0.3463, -0.4671,  0.3738, -0.2241, -0.5305, -0.4078, -0.3432,  0.1674,\n",
            "        -0.0719, -0.8405, -0.2233,  0.0877], device='cuda:0',\n",
            "       dtype=torch.float64), tensor([-0.0237, -0.2513,  0.5614, -0.8879,  0.3290, -0.8066, -0.4586, -0.1401,\n",
            "         0.0219,  0.9329, -0.3558, -0.1201, -0.1017,  0.3632, -0.4922,  0.2874,\n",
            "         0.4957, -0.7373, -0.0457, -0.9370, -0.3179, -0.1875, -0.6022,  0.7790,\n",
            "         0.9977, -0.6659, -0.9010,  0.1095, -0.8471, -0.9015, -0.5890, -0.4322,\n",
            "         0.1209,  0.0150,  0.1584, -0.4983, -0.0111, -0.8528,  0.2636, -0.7460,\n",
            "        -0.8730,  0.7069,  0.9630, -0.1203,  0.1074,  0.3842, -0.6253, -0.0173,\n",
            "         0.8499,  0.7656,  0.8388, -0.9481,  0.8916, -0.6628,  0.5794, -0.7683,\n",
            "        -0.7844,  0.1105,  0.6560,  0.7634,  0.8906,  0.7540, -0.3410,  0.9344,\n",
            "        -0.5600, -0.4938, -0.9718,  0.2099,  0.3449, -0.1378, -0.8762, -0.4172,\n",
            "        -0.5098, -0.5524, -0.3645, -0.6010,  0.6059, -0.0947,  0.2391, -0.1259,\n",
            "        -0.0422, -0.1765,  0.2112,  0.7944, -0.6874, -0.2681,  0.3353, -0.0746,\n",
            "        -0.5661,  0.5538, -0.2488, -0.5697,  0.5513, -0.6040, -0.4693, -0.3156,\n",
            "        -0.6042, -0.1326,  0.5445,  0.0547], device='cuda:0',\n",
            "       dtype=torch.float64), tensor([ 0.6886,  0.2409, -0.7766, -0.1799,  0.3624,  0.8898, -0.1873, -0.9642,\n",
            "        -0.2896, -0.3158, -0.2593,  0.8108, -0.2742,  0.7331,  0.8307, -0.2227,\n",
            "        -0.5012,  0.9076, -0.2565,  0.8701,  0.0504, -0.9779,  0.2141, -0.5956,\n",
            "        -0.6516, -0.7771,  0.0161,  0.7997,  0.1690, -0.3226, -0.1095,  0.9110,\n",
            "         0.1875, -0.6471, -0.4923, -0.7838,  0.1053,  0.9488,  0.9128,  0.7904,\n",
            "        -0.8065,  0.2450,  0.3481,  0.1252,  0.2803, -0.2918,  0.7187,  0.2242,\n",
            "         0.4597,  0.3486,  0.3799,  0.4367,  0.7757,  0.2370,  0.8011,  0.7229,\n",
            "         0.5274,  0.0766,  0.1877,  0.6166, -0.4044, -0.5222,  0.7830, -0.4192,\n",
            "         0.1561,  0.9643,  0.4395,  0.1225,  0.4582, -0.7526,  0.7202, -0.2474,\n",
            "        -0.8161, -0.5027, -0.2918, -0.3386, -0.0426,  0.9137,  0.7534, -0.4361,\n",
            "        -0.1744, -0.3516, -0.0610,  0.9910,  0.4179, -0.3215, -0.2165,  0.4234,\n",
            "         0.0673, -0.4500,  0.4480,  0.5329, -0.5459, -0.5016, -0.1074,  0.7453,\n",
            "        -0.6434,  0.9077,  0.4391,  0.1278], device='cuda:0',\n",
            "       dtype=torch.float64), tensor([ 0.8082,  0.6191,  0.1066,  0.0614, -0.4026, -0.6284,  0.1171, -0.3360,\n",
            "         0.4594, -0.3648,  0.7473, -0.9945,  0.4746,  0.3779, -0.0537, -0.9966,\n",
            "         0.1064,  0.6500,  0.1330,  0.8773, -0.6720, -0.6809,  0.0088, -0.2771,\n",
            "         0.5256, -0.2811, -0.1122,  0.5025, -0.8632, -0.8915,  0.4778,  0.2646,\n",
            "        -0.8228, -0.1724,  0.6328,  0.8373,  0.7663, -0.5276, -0.1107, -0.7820,\n",
            "         0.7998,  0.5533, -0.5720,  0.7866,  0.1286, -0.1134,  0.6402,  0.6565,\n",
            "         0.9246, -0.5086, -0.7917, -0.5511,  0.4311,  0.4846,  0.0023, -0.8539,\n",
            "         0.6336,  0.0307,  0.6893, -0.3796,  0.8344, -0.8045, -0.9728, -0.7202,\n",
            "         0.3497,  0.4475, -0.4456,  0.4374, -0.4893,  0.7668, -0.9248, -0.5620,\n",
            "        -0.0084,  0.1640,  0.8533, -0.7591, -0.1078, -0.7825, -0.9655,  0.0464,\n",
            "        -0.0457, -0.6903,  0.0304, -0.3587,  0.3403,  0.6173, -0.4756,  0.3404,\n",
            "        -0.7939,  0.2785, -0.3711, -0.7627, -0.3614, -0.6310, -0.4147,  0.0228,\n",
            "         0.7720,  0.0877,  0.8314,  0.4723], device='cuda:0',\n",
            "       dtype=torch.float64), tensor([-0.2849, -0.9501, -0.1295,  0.3562, -0.5476, -0.1788,  0.0063, -0.3630,\n",
            "        -0.1881, -0.6049, -0.3600,  0.7244,  0.9497,  0.0023, -0.4068,  0.3927,\n",
            "        -0.8469, -0.2045, -0.7676, -0.5703,  0.4872,  0.4775, -0.9680,  0.7423,\n",
            "        -0.5866,  0.6587,  0.9055,  0.0204,  0.4152,  0.0275,  0.2148, -0.2762,\n",
            "        -0.8538, -0.2678, -0.4313,  0.4288,  0.1215,  0.8757, -0.1052, -0.4548,\n",
            "        -0.6029,  0.8837,  0.9829, -0.0415, -0.9349,  0.1346, -0.7285, -0.7192,\n",
            "        -0.5127,  0.7442, -0.6852, -0.3300, -0.7696, -0.8159,  0.4138,  0.7965,\n",
            "         0.7512,  0.2621,  0.5552, -0.1928, -0.9220,  0.8328, -0.7078, -0.1798,\n",
            "        -0.3326, -0.0577,  0.7097,  0.3587,  0.0799, -0.9836, -0.5080,  0.5267,\n",
            "        -0.1146,  0.2458,  0.5070, -0.4214, -0.5226, -0.3011,  0.2534,  0.6136,\n",
            "         0.2321,  0.5523, -0.3907,  0.8739, -0.4519, -0.3030,  0.9634,  0.6494,\n",
            "         0.6420, -0.7552,  0.9255, -0.0737, -0.1456, -0.4624,  0.0323,  0.5326,\n",
            "        -0.3570, -0.6020, -0.8579, -0.2295], device='cuda:0',\n",
            "       dtype=torch.float64), tensor([ 0.4653,  0.6792, -0.3153, -0.7150, -0.3899,  0.1485, -0.7185, -0.4345,\n",
            "         0.5869, -0.4894, -0.1678,  0.6463, -0.5789,  0.4696,  0.1956, -0.9842,\n",
            "         0.3279, -0.4464, -0.7330, -0.6788, -0.7305, -0.0024, -0.6497,  0.4677,\n",
            "         0.8697,  0.7802,  0.1607,  0.0168,  0.0740,  0.6231, -0.1636,  0.4314,\n",
            "        -0.8331,  0.9744, -0.6591, -0.8890, -0.7102, -0.5016, -0.2810,  0.3400,\n",
            "         0.2854, -0.0234, -0.1686, -0.4864,  0.8454,  0.7578,  0.3681,  0.9102,\n",
            "        -0.2788,  0.1573, -0.5638, -0.0258, -0.6151,  0.6549,  0.9344, -0.9481,\n",
            "         0.1104, -0.9526, -0.4169, -0.7323, -0.7675, -0.4031, -0.4031,  0.0506,\n",
            "         0.9220,  0.8059,  0.5442, -0.6323,  0.5344,  0.2122, -0.5078,  0.6563,\n",
            "        -0.6073, -0.9732,  0.8409,  0.0704, -0.7771,  0.9588, -0.8321,  0.3362,\n",
            "        -0.5610,  0.5350, -0.3547,  0.6419,  0.2914,  0.2101, -0.3306,  0.3742,\n",
            "        -0.0527,  0.9840, -0.7094, -0.9429,  0.0262,  0.5115, -0.2529,  0.3937,\n",
            "        -0.0513,  0.8367,  0.2720,  0.4562], device='cuda:0',\n",
            "       dtype=torch.float64), tensor([-0.0171,  0.5190,  0.8575,  0.4393, -0.3539, -0.4138, -0.5424,  0.4995,\n",
            "         0.8827, -0.7636,  0.5718,  0.6652,  0.1146, -0.5536,  0.9301,  0.9088,\n",
            "        -0.0921, -0.0462,  0.8710, -0.3473, -0.7943,  0.1316,  0.9804,  0.7889,\n",
            "         0.0192, -0.7739, -0.6290, -0.6308, -0.8234, -0.2281,  0.1387,  0.6924,\n",
            "        -0.8159, -0.4385,  0.5088,  0.9784,  0.5881,  0.6677, -0.7652,  0.2549,\n",
            "         0.9230, -0.0841, -0.1602,  0.2859,  0.5104, -0.0415, -0.2405,  0.3069,\n",
            "         0.4424, -0.8494,  0.1406,  0.9830,  0.6247,  0.7229,  0.9024,  0.6922,\n",
            "        -0.9552,  0.9768, -0.3482, -0.7895,  0.6818,  0.0608, -0.2065,  0.9017,\n",
            "         0.6706,  0.0936,  0.2592,  0.8070, -0.1999,  0.0103,  0.3384, -0.3641,\n",
            "        -0.7119, -0.7155,  0.0596,  0.6368,  0.5735,  0.9864, -0.8470, -0.8488,\n",
            "        -0.1628, -0.6547, -0.2012,  0.9686, -0.0152, -0.2770,  0.9293,  0.0954,\n",
            "         0.9367, -0.5491,  0.1453, -0.7193,  0.7235, -0.6350, -0.5366, -0.9798,\n",
            "        -0.3795, -0.4719,  0.0896,  0.2448], device='cuda:0',\n",
            "       dtype=torch.float64), tensor([-3.0155e-01, -8.2582e-01,  4.9860e-01,  1.8260e-01, -9.8923e-01,\n",
            "        -4.1186e-01, -2.8065e-01, -8.2128e-02, -8.3862e-01,  6.9345e-01,\n",
            "        -4.2586e-01, -2.0558e-01,  5.2085e-01,  3.4920e-01, -1.2758e-01,\n",
            "         6.1363e-01,  6.6279e-01,  7.6704e-01, -2.7516e-01, -5.7987e-01,\n",
            "        -6.6525e-01,  4.9819e-01, -5.5476e-01,  4.4150e-01, -2.4179e-01,\n",
            "        -3.4774e-01, -2.4225e-04,  6.7675e-01, -7.0149e-01, -8.3555e-01,\n",
            "         9.5551e-01, -2.6068e-01, -9.7066e-01,  6.4767e-01,  4.0587e-01,\n",
            "        -9.6032e-01, -3.0389e-01,  3.2598e-01,  6.6709e-02,  5.3544e-01,\n",
            "        -2.8739e-01, -1.5587e-01,  6.5428e-01,  6.9832e-01, -2.7078e-01,\n",
            "         2.8241e-01, -2.9310e-01, -4.5743e-01, -9.8032e-01,  5.4179e-01,\n",
            "        -1.8809e-01, -1.3995e-01,  6.3643e-03, -3.0957e-01, -6.3448e-01,\n",
            "         9.3660e-01,  4.1240e-01,  5.9003e-01,  4.8300e-01, -6.4012e-01,\n",
            "        -1.5136e-01,  1.0030e-01, -7.7442e-01,  7.6566e-01, -4.6795e-01,\n",
            "         2.3738e-02, -6.2168e-01, -7.1969e-01, -9.5181e-01,  9.8572e-01,\n",
            "        -5.3473e-01,  5.8597e-01,  3.9506e-01, -6.4860e-01, -1.7336e-01,\n",
            "         9.8188e-01,  9.9010e-02, -6.4742e-01,  4.1040e-01,  7.0883e-01,\n",
            "         3.7224e-01,  8.9507e-01,  1.0611e-01,  7.8734e-01,  2.2186e-01,\n",
            "        -6.0103e-02,  6.9662e-02,  8.0091e-01,  9.8508e-01,  5.6947e-01,\n",
            "        -4.6579e-01,  3.3602e-02,  4.5923e-01, -5.7587e-01, -3.8333e-01,\n",
            "        -5.1528e-01,  9.5422e-01,  9.1021e-01, -2.4451e-02,  6.1741e-01],\n",
            "       device='cuda:0', dtype=torch.float64), tensor([-0.6971,  0.9231,  0.7205,  0.8873,  0.0921, -0.3704, -0.7163,  0.7385,\n",
            "        -0.9518,  0.7342,  0.0838,  0.8273, -0.8647, -0.9734, -0.6146,  0.7120,\n",
            "        -0.1210, -0.4378,  0.2549,  0.7330, -0.6875,  0.9578, -0.6238, -0.1700,\n",
            "        -0.1275,  0.2015,  0.2427, -0.1658, -0.7031, -0.8276,  0.1442, -0.0763,\n",
            "        -0.5439,  0.9859,  0.1044,  0.1149,  0.8221, -0.0293,  0.7776, -0.6097,\n",
            "        -0.0338,  0.7277, -0.8292, -0.0163,  0.2535,  0.8618, -0.1146,  0.3069,\n",
            "        -0.2460, -0.5350,  0.8341, -0.6513, -0.2110,  0.8260, -0.4782, -0.1727,\n",
            "        -0.9964,  0.4221,  0.7783,  0.0902, -0.7504, -0.1911, -0.9985, -0.0784,\n",
            "         0.3077,  0.3088, -0.5191, -0.3813,  0.8201, -0.5507,  0.4456, -0.2837,\n",
            "         0.3813, -0.7629,  0.5571, -0.3313,  0.0884,  0.3579, -0.6617, -0.6014,\n",
            "         0.3722, -0.4515, -0.6213, -0.8130, -0.9580, -0.3906, -0.8061,  0.6414,\n",
            "         0.8452,  0.4856, -0.0429,  0.1756,  0.4226, -0.1409,  0.3456,  0.5794,\n",
            "         0.1925, -0.3498,  0.9020, -0.9769], device='cuda:0',\n",
            "       dtype=torch.float64), tensor([-0.5154,  0.8271,  0.5377,  0.8164,  0.1335, -0.0166,  0.1345,  0.8190,\n",
            "        -0.0037, -0.4726, -0.4288,  0.3467, -0.8784,  0.7374, -0.0449, -0.1462,\n",
            "         0.8675, -0.5056, -0.4267,  0.9758, -0.3440, -0.4554,  0.2195, -0.8752,\n",
            "        -0.0846,  0.4366, -0.5735, -0.3936, -0.9502,  0.0582, -0.5774,  0.9691,\n",
            "         0.1699,  0.6816,  0.5553,  0.8046,  0.3530, -0.6089,  0.3526,  0.7174,\n",
            "        -0.6517,  0.7581, -0.0403,  0.1552, -0.2856, -0.7587, -0.3604,  0.2949,\n",
            "         0.9009, -0.6339,  0.1031,  0.0173, -0.9389, -0.9155, -0.7697,  0.7128,\n",
            "         0.4657,  0.0443, -0.4447,  0.3039, -0.7588, -0.5150,  0.5812,  0.6665,\n",
            "         0.2184, -0.9436,  0.0971,  0.4901,  0.2157, -0.5954, -0.2284,  0.2103,\n",
            "        -0.6333,  0.9047,  0.9671, -0.7180,  0.3633,  0.6968, -0.7356,  0.9487,\n",
            "        -0.0471,  0.9359,  0.0363, -0.6317,  0.3268,  0.0679, -0.9397, -0.2465,\n",
            "        -0.2269, -0.0078, -0.7787, -0.5845,  0.8887, -0.7845,  0.3746,  0.5379,\n",
            "         0.9819,  0.4627,  0.1516, -0.3151], device='cuda:0',\n",
            "       dtype=torch.float64)]\n"
          ]
        },
        {
          "ename": "ValueError",
          "evalue": "ignored",
          "output_type": "error",
          "traceback": [
            "\u001b[0;31m---------------------------------------------------------------------------\u001b[0m",
            "\u001b[0;31mValueError\u001b[0m                                Traceback (most recent call last)",
            "\u001b[0;32m<ipython-input-254-54f9918fbbbd>\u001b[0m in \u001b[0;36m<module>\u001b[0;34m\u001b[0m\n\u001b[1;32m      1\u001b[0m \u001b[0mtempo\u001b[0m \u001b[0;34m=\u001b[0m \u001b[0mlatent_vectors_test\u001b[0m\u001b[0;34m[\u001b[0m\u001b[0;36m0\u001b[0m\u001b[0;34m:\u001b[0m\u001b[0;36m32\u001b[0m\u001b[0;34m]\u001b[0m\u001b[0;34m\u001b[0m\u001b[0;34m\u001b[0m\u001b[0m\n\u001b[1;32m      2\u001b[0m \u001b[0mprint\u001b[0m\u001b[0;34m(\u001b[0m\u001b[0mtempo\u001b[0m\u001b[0;34m)\u001b[0m\u001b[0;34m\u001b[0m\u001b[0;34m\u001b[0m\u001b[0m\n\u001b[0;32m----> 3\u001b[0;31m \u001b[0mfake_mean\u001b[0m \u001b[0;34m=\u001b[0m \u001b[0mtorch\u001b[0m\u001b[0;34m.\u001b[0m\u001b[0mtensor\u001b[0m\u001b[0;34m(\u001b[0m\u001b[0mtempo\u001b[0m\u001b[0;34m)\u001b[0m\u001b[0;34m.\u001b[0m\u001b[0mcuda\u001b[0m\u001b[0;34m(\u001b[0m\u001b[0;34m)\u001b[0m\u001b[0;34m\u001b[0m\u001b[0;34m\u001b[0m\u001b[0m\n\u001b[0m\u001b[1;32m      4\u001b[0m \u001b[0mfake_mean\u001b[0m \u001b[0;34m=\u001b[0m \u001b[0mgenerator\u001b[0m\u001b[0;34m(\u001b[0m\u001b[0mfake_mean\u001b[0m\u001b[0;34m.\u001b[0m\u001b[0mto\u001b[0m\u001b[0;34m(\u001b[0m\u001b[0mtorch\u001b[0m\u001b[0;34m.\u001b[0m\u001b[0mfloat32\u001b[0m\u001b[0;34m)\u001b[0m\u001b[0;34m)\u001b[0m\u001b[0;34m.\u001b[0m\u001b[0mdetach\u001b[0m\u001b[0;34m(\u001b[0m\u001b[0;34m)\u001b[0m\u001b[0;34m\u001b[0m\u001b[0;34m\u001b[0m\u001b[0m\n\u001b[1;32m      5\u001b[0m \u001b[0mshowImages\u001b[0m\u001b[0;34m(\u001b[0m\u001b[0mfake_mean\u001b[0m\u001b[0;34m.\u001b[0m\u001b[0mdetach\u001b[0m\u001b[0;34m(\u001b[0m\u001b[0;34m)\u001b[0m\u001b[0;34m.\u001b[0m\u001b[0mcpu\u001b[0m\u001b[0;34m(\u001b[0m\u001b[0;34m)\u001b[0m\u001b[0;34m,\u001b[0m \u001b[0mtorch\u001b[0m\u001b[0;34m.\u001b[0m\u001b[0mtensor\u001b[0m\u001b[0;34m(\u001b[0m\u001b[0;34m[\u001b[0m\u001b[0;36m0\u001b[0m\u001b[0;34m,\u001b[0m\u001b[0;36m1\u001b[0m\u001b[0;34m,\u001b[0m\u001b[0;36m2\u001b[0m\u001b[0;34m,\u001b[0m\u001b[0;36m3\u001b[0m\u001b[0;34m,\u001b[0m\u001b[0;36m4\u001b[0m\u001b[0;34m,\u001b[0m\u001b[0;36m5\u001b[0m\u001b[0;34m,\u001b[0m\u001b[0;36m6\u001b[0m\u001b[0;34m,\u001b[0m\u001b[0;36m7\u001b[0m\u001b[0;34m,\u001b[0m\u001b[0;36m8\u001b[0m\u001b[0;34m,\u001b[0m\u001b[0;36m9\u001b[0m\u001b[0;34m,\u001b[0m\u001b[0;34m-\u001b[0m\u001b[0;36m1\u001b[0m\u001b[0;34m,\u001b[0m\u001b[0;34m-\u001b[0m\u001b[0;36m1\u001b[0m\u001b[0;34m,\u001b[0m\u001b[0;34m-\u001b[0m\u001b[0;36m1\u001b[0m\u001b[0;34m,\u001b[0m\u001b[0;34m-\u001b[0m\u001b[0;36m1\u001b[0m\u001b[0;34m,\u001b[0m\u001b[0;34m-\u001b[0m\u001b[0;36m1\u001b[0m\u001b[0;34m,\u001b[0m\u001b[0;34m-\u001b[0m\u001b[0;36m1\u001b[0m\u001b[0;34m,\u001b[0m\u001b[0;34m-\u001b[0m\u001b[0;36m1\u001b[0m\u001b[0;34m,\u001b[0m\u001b[0;34m-\u001b[0m\u001b[0;36m1\u001b[0m\u001b[0;34m,\u001b[0m\u001b[0;34m-\u001b[0m\u001b[0;36m1\u001b[0m\u001b[0;34m,\u001b[0m\u001b[0;34m-\u001b[0m\u001b[0;36m1\u001b[0m\u001b[0;34m,\u001b[0m\u001b[0;34m-\u001b[0m\u001b[0;36m1\u001b[0m\u001b[0;34m,\u001b[0m\u001b[0;34m-\u001b[0m\u001b[0;36m1\u001b[0m\u001b[0;34m,\u001b[0m\u001b[0;34m-\u001b[0m\u001b[0;36m1\u001b[0m\u001b[0;34m,\u001b[0m\u001b[0;34m-\u001b[0m\u001b[0;36m1\u001b[0m\u001b[0;34m,\u001b[0m\u001b[0;34m-\u001b[0m\u001b[0;36m1\u001b[0m\u001b[0;34m,\u001b[0m\u001b[0;34m-\u001b[0m\u001b[0;36m1\u001b[0m\u001b[0;34m,\u001b[0m\u001b[0;34m-\u001b[0m\u001b[0;36m1\u001b[0m\u001b[0;34m,\u001b[0m\u001b[0;34m-\u001b[0m\u001b[0;36m1\u001b[0m\u001b[0;34m,\u001b[0m\u001b[0;34m-\u001b[0m\u001b[0;36m1\u001b[0m\u001b[0;34m,\u001b[0m\u001b[0;34m-\u001b[0m\u001b[0;36m1\u001b[0m\u001b[0;34m,\u001b[0m\u001b[0;34m-\u001b[0m\u001b[0;36m1\u001b[0m\u001b[0;34m]\u001b[0m\u001b[0;34m)\u001b[0m\u001b[0;34m)\u001b[0m\u001b[0;34m\u001b[0m\u001b[0;34m\u001b[0m\u001b[0m\n",
            "\u001b[0;31mValueError\u001b[0m: only one element tensors can be converted to Python scalars"
          ]
        }
      ],
      "source": [
        "tempo = latent_vectors_test[0:32]\n",
        "print(tempo)\n",
        "fake_mean = torch.tensor(tempo).cuda()\n",
        "fake_mean = generator(fake_mean.to(torch.float32)).detach()\n",
        "showImages(fake_mean.detach().cpu(), torch.tensor([0,1,2,3,4,5,6,7,8,9,-1,-1,-1,-1,-1,-1,-1,-1,-1,-1,-1,-1,-1,-1,-1,-1,-1,-1,-1,-1,-1]))"
      ]
    },
    {
      "cell_type": "code",
      "execution_count": 224,
      "id": "VLtXCVJ7jdch",
      "metadata": {
        "id": "VLtXCVJ7jdch"
      },
      "outputs": [],
      "source": [
        "norm_table_random = np.zeros(10)\n",
        "norm_table_labaled = []\n",
        "norm_table_average_labeled = np.zeros(10)\n",
        "distance_list = []\n",
        "for i in range (10):\n",
        "    norm_table_random[i]          = np.linalg.norm(np.random.uniform(-1, 1, size=(batch_size, dim_latent_space)))\n",
        "    \n",
        "    norm_table_average_labeled[i] = np.linalg.norm(mean_latent_vectors[i])\n",
        "    \n",
        "for i in range (len (quad)):\n",
        "    norm = np.linalg.norm(quad[i][0].cpu())\n",
        "    label = quad[i][2]\n",
        "    norm_table_labaled.append([norm ,label])\n",
        "    distance = norm_table_average_labeled[label] -norm \n",
        "    distance_list.append([distance , label.item()])\n",
        "\n",
        "\n",
        "    "
      ]
    },
    {
      "cell_type": "code",
      "execution_count": 225,
      "id": "4OMApi1Bj08r",
      "metadata": {
        "colab": {
          "base_uri": "https://localhost:8080/"
        },
        "id": "4OMApi1Bj08r",
        "outputId": "d2d69c25-c074-4b08-9f94-7bb31da57cef"
      },
      "outputs": [
        {
          "name": "stdout",
          "output_type": "stream",
          "text": [
            "[[-5.189303256168324, 7], [-5.360229346147558, 7], [-5.578794328223667, 2], [-5.4839641860481425, 2], [-5.63032136746478, 3], [-5.647706428441606, 5], [-5.579033456271105, 4], [-5.793737094041448, 3], [-5.703741659708478, 2], [-5.511693044555141, 3], [-5.463755565426554, 5], [-5.59568407608676, 3], [-6.1980850413555375, 3], [-6.02405444547323, 3], [-5.270634830556436, 6], [-6.182134572193159, 7], [-5.180313425060338, 8], [-5.373059906098414, 2], [-5.676096156984105, 5], [-5.557780465360068, 3], [-5.838851478401644, 7], [-5.665828674397861, 3], [-5.626470392468619, 3], [-5.36421157683816, 2], [-5.548888503241465, 3], [-5.787412575559771, 3], [-5.886410709663372, 2], [-5.524862074912392, 2], [-5.384267421358111, 2], [-5.07950225765693, 7], [-5.781368021222099, 2], [-5.7792262856788215, 7], [-5.6882068808877095, 2], [-5.9438400352014265, 3], [-5.80130164764139, 3], [-3.295088811674231, 9], [-5.692650630660147, 3], [-5.922360296731838, 7], [-5.152657756392523, 4], [-5.579601087294059, 5], [-5.121053668852069, 2], [-5.991217413258911, 2], [-5.53347236901947, 4], [-5.455283043455449, 7], [-5.6359217762015685, 3], [-5.388504571137742, 6], [-4.907352074863903, 5], [-5.435263214284495, 2], [-5.404694430715983, 6], [-5.837767569560166, 2], [-5.568888669956223, 2], [-5.453091706923099, 7], [-5.592167229828119, 7], [-5.568841673141685, 3], [-4.923249699919124, 6], [-4.390458269639813, 1], [-5.855037300791882, 5], [-5.365341898672764, 5], [-5.8803768890919885, 7], [-5.602396480048465, 3], [-5.9904951473896135, 2], [-4.754295702503495, 6], [-4.89659296468956, 8], [-5.48877973390261, 3], [-5.421139893247248, 5], [-5.733891205548737, 2], [-2.5532072618576476, 0], [-5.521101840052015, 7], [-5.575639120456557, 6], [-5.552253047815151, 7], [-5.66816191884041, 7], [-5.17162107883526, 2], [-5.400999069934533, 7], [-5.711118598006312, 3], [-5.5927916916318665, 5], [-5.390230223213722, 5], [-4.9532549349877115, 8], [-4.817696843305286, 4], [-5.675213341803686, 3], [-5.935746160199486, 2], [-5.459358239319938, 6], [-5.59860090260593, 4], [-2.7738680878877333, 9], [-5.223138982252675, 5], [-5.687932365651457, 3], [-5.4833967971479005, 3], [-5.161067252645379, 8], [-5.934986064830057, 3], [-5.327099337064513, 3], [-5.026635075465121, 6], [-5.500263967526897, 3], [-5.376071885391943, 5], [-5.499045222814076, 5], [-5.752867943933375, 5], [-5.433892260257724, 8], [-5.010656002940551, 5], [-5.672901263414386, 3], [-5.4774301492302335, 7], [-5.884331735065521, 2], [-5.82628695162771, 5], [-5.840928197383587, 3], [-5.796791556445386, 2], [-5.916101747798065, 3], [-5.68518460345743, 5], [-5.393475988708956, 4], [-5.368207747193033, 5], [-5.3250380410834985, 7], [-5.57437682324543, 5], [-5.478785093263807, 3], [-5.72658689069581, 7], [-5.755908077717429, 4], [-5.665894497313926, 3], [-5.8335605591912225, 3], [-4.74173961414873, 1], [-5.457481448663766, 6], [-5.186787389366073, 7], [-4.817707836112027, 8], [-5.5687907266143455, 5], [-5.704544546234427, 3], [-5.800174896671, 2], [-4.075027428477826, 1], [-5.204924633201969, 4], [-5.592474660918232, 6], [-5.52121306756759, 2], [-4.97831322550561, 4], [-5.818698478780539, 3], [-5.24184177537063, 4], [-5.226522993440376, 2], [-5.359960995400973, 2], [-5.972041823476105, 3], [-5.848627016040903, 7], [-5.535047697465427, 4], [-5.7172480499028495, 6], [-5.015792545925164, 6], [-5.477884052466139, 6], [-5.601365638343303, 7], [-5.662369403754853, 3], [-5.363415762733531, 2], [-2.9280731451105244, 0], [-5.803484289648473, 3], [-5.711799477679723, 2], [-5.8736478092088396, 2], [-5.639608008853076, 3], [-5.923568078552724, 2], [-5.289812690146614, 7], [-5.573149952708822, 2], [-6.342391565579934, 7], [-5.656801453129261, 4], [-5.678175932911253, 2], [-5.28939734033532, 7], [-5.197966221453832, 4], [-6.0695521378004775, 2], [-5.620338013497787, 2], [-5.659122879230167, 2], [-5.85059381892297, 7], [-5.662306085725385, 4], [-5.981440755508185, 2], [-5.5010531714930115, 7], [-4.154755351213345, 1], [-6.011417858988185, 4], [-5.336152009861603, 3], [-5.764652756052332, 2], [-5.574598734858366, 7], [-5.245780516478445, 4], [-5.614695380300215, 2], [-5.9392787084052925, 3], [-5.6160044982153074, 3], [-4.964695129379929, 8], [-5.142399607556822, 4], [-5.470773711142383, 3], [-5.373728974930395, 4], [-5.146525630798794, 7], [-5.658477024103258, 2], [-5.650168002434614, 3], [-5.692096388682814, 3]]\n"
          ]
        }
      ],
      "source": [
        "print(distance_list)"
      ]
    },
    {
      "cell_type": "code",
      "execution_count": 227,
      "id": "a-DSufp4kFAh",
      "metadata": {
        "colab": {
          "base_uri": "https://localhost:8080/",
          "height": 283
        },
        "id": "a-DSufp4kFAh",
        "outputId": "cdf092cf-2976-4f92-939c-940bc57d10a2"
      },
      "outputs": [
        {
          "data": {
            "text/plain": [
              "<matplotlib.collections.PathCollection at 0x7f2a4c7b6350>"
            ]
          },
          "execution_count": 227,
          "metadata": {},
          "output_type": "execute_result"
        },
        {
          "data": {
            "image/png": "[encoded data removed]",
            "text/plain": [
              "<Figure size 432x288 with 1 Axes>"
            ]
          },
          "metadata": {
            "needs_background": "light"
          },
          "output_type": "display_data"
        }
      ],
      "source": [
        "x=[0]\n",
        "y = [0]\n",
        "color=[11]\n",
        "for i in range(len(distance_list)):\n",
        "  \n",
        "  color.append(distance_list[i][1])\n",
        "  angle = distance_list[i][1]*2*np.pi /10 \n",
        "  x.append(distance_list[i][0] * np.cos(angle))\n",
        "  y.append(distance_list[i][0] * np.sin(angle))\n",
        "\n",
        "\n",
        "\n",
        "\n",
        "plt.scatter(x = x , y = y , c = color  )"
      ]
    },
    {
      "cell_type": "code",
      "execution_count": null,
      "id": "2sEaKu90mpRq",
      "metadata": {
        "id": "2sEaKu90mpRq"
      },
      "outputs": [],
      "source": [
        "x=[0]\n",
        "y = [0]\n",
        "color=[11]\n",
        "for i in range(len(norm_table_average_labeled)):\n",
        "  \n",
        "  color.append(i)\n",
        "  angle = i*2*np.pi /10 \n",
        "  x.append(norm_table_average_labeled[i] * np.cos(angle))\n",
        "  y.append(norm_table_average_labeled[i] * np.sin(angle))\n",
        "\n",
        "plt.scatter(x = x , y = y , c = color  )\n",
        "plt.xlim([-0.2, 0.2])\n",
        "plt.ylim([-0.2, 0.2])\n",
        "plt.show()"
      ]
    }
  ],
  "metadata": {
    "accelerator": "GPU",
    "colab": {
      "collapsed_sections": [
        "wired-revolution",
        "concerned-welcome",
        "fundamental-disorder",
        "published-ranch",
        "moderate-direction",
        "computational-square",
        "oriental-attack",
        "every-occurrence"
      ],
      "provenance": []
    },
    "gpuClass": "standard",
    "kernelspec": {
      "display_name": "Python 3.9.0 64-bit",
      "language": "python",
      "name": "python3"
    },
    "language_info": {
      "codemirror_mode": {
        "name": "ipython",
        "version": 3
      },
      "file_extension": ".py",
      "mimetype": "text/x-python",
      "name": "python",
      "nbconvert_exporter": "python",
      "pygments_lexer": "ipython3",
      "version": "3.9.0"
    },
    "vscode": {
      "interpreter": {
        "hash": "d4f2838866252358e8356908bfe578159dba55fbe903e0d25dacf462f792c2ff"
      }
    }
  },
  "nbformat": 4,
  "nbformat_minor": 5
}
