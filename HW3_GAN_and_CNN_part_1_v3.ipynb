{
  "cells": [
    {
      "cell_type": "markdown",
      "id": "weighted-bhutan",
      "metadata": {
        "id": "weighted-bhutan"
      },
      "source": [
        "\n",
        "# LINMA2472 - Algorithms in Data Science\n",
        "# Homework 3: GAN and CNN to conquer MNIST\n",
        "# Part 1: Implementation\n",
        "Bastien Massion - bastien.massion@uclouvain.be\n",
        "\n",
        "12 November 2022 - v2"
      ]
    },
    {
      "cell_type": "markdown",
      "id": "current-airfare",
      "metadata": {
        "id": "current-airfare"
      },
      "source": [
        "## Guidelines\n",
        "This homework is done in Python, using the PyTorch library for neural networks. \n",
        "\n",
        "The homework is divided in 2 parts, this Notebook is the assignment for part 1. The second part will become available next week. The goal of the homework is to use a GAN for generating handwritten numbers (and letters) and a CNN to classify them. This first part is dedicated to the implementation, the second part will focus on analyzing and using the neural networks.\n",
        "\n",
        "The exact instructions for the report will come with the second part. However, every task asked in this Notebook will be useful, so get ahead!\n",
        "\n",
        "As for the previous homeworks, you are making groups of 3, in the Moodle activity \"Group choice for assignment 3\".\n",
        "\n",
        "The deadline for the whole homework is: 30 November 2022, 23:59.\n",
        "\n",
        "Your questions should be posted on the dedicated Moodle \"Class forum\" or sent directly to the mail address: bastien.massion@uclouvain.be."
      ]
    },
    {
      "cell_type": "markdown",
      "id": "comparative-joyce",
      "metadata": {
        "id": "comparative-joyce"
      },
      "source": [
        "## Introduction\n",
        "Since their introduction in 2014 by Goodfellow et al., Generative Adversarial Networks (GAN) have taken a predominant place in the deep learning landscape. GANs are deep neural networks composed of two parts: a generator and a discriminator. Those two parts are trained as opponents (hence \"adversarial\"): from the dataset, the generator tries to create new fake data that can fool the discriminator into thinking they are real, while the discriminator tries to distinguish between true and fake data. Often, the most interesting part of this model is the generator, therefore we often refer to GANs as generative models (even if they are also discriminative models). This generative property is used in a lot of applications: mainly for image processing task (style transfer, segmentation, face generation, image inpainting, deblurring, super-resolution,...), but also for natural language processing tasks (text summarization, text generation,...), for music generation or even for medical tasks (tumor detection).\n",
        "\n",
        "Another powerful architecture is Convolutional Neural Networks (CNN). CNNs naturally exploit invariances that are present in data (such that translation in images) in order, for example, to classify them. This is done by applying successive convolutions on data in order to extract the main features. Together with the backpropagation algorithm, the invention of CNN marked the revival of neural networks and deep learning in the 90's. Since then, they have found plenty of applications, mostly in image processing tasks.\n",
        "\n",
        "The goal of this homework in two parts is to implement your first GAN as well as your first CNN, to explore some properties and finally to combine them in order to generate what you desire."
      ]
    },
    {
      "cell_type": "markdown",
      "id": "attached-nothing",
      "metadata": {
        "id": "attached-nothing"
      },
      "source": [
        "## Packages import\n",
        "You will need several packages in order to successfully build, train and use your neural networks. \n",
        "\n",
        "The following packages are necessary and should not be removed. However, if you want to add other packages for your figures, for timing or whatever, feel free to do so."
      ]
    },
    {
      "cell_type": "code",
      "execution_count": 35,
      "id": "analyzed-facing",
      "metadata": {
        "id": "analyzed-facing"
      },
      "outputs": [],
      "source": [
        "\n",
        "# PyTorch is a common library for neural networks in Python. torch.nn is a module for building layers of Neural Networks.\n",
        "import torch\n",
        "from torch import nn\n",
        "import torch.nn.functional as F\n",
        "\n",
        "# TorchVision is part of the PyTorch environment. It is necessary to download the datasets MNIST (and EMNIST Letters)\n",
        "import torchvision\n",
        "import torchvision.transforms as transforms\n",
        "\n",
        "# Usual mathematical stuff\n",
        "import numpy as np\n",
        "import math\n",
        "\n",
        "# Plots\n",
        "import matplotlib.pyplot as plt\n",
        "\n",
        "# Timing\n",
        "import time\n",
        "from datetime import datetime"
      ]
    },
    {
      "cell_type": "markdown",
      "id": "celtic-chapel",
      "metadata": {
        "id": "celtic-chapel"
      },
      "source": [
        "## Resources\n",
        "Training neural networks is really expensive, especially if your networks are large. It is thus important to look for the most suited computing and storing resources.\n",
        "\n",
        "In practice, parallelisation of computations can speed up the process a lot, by several orders of magnitude. In particular, computing on a GPU (Graphics Processing Unit), which has up to hundreds of cores, will be much faster than on your usual laptop CPU (Central Processing Unit), typically with less than 8 cores. \n",
        "\n",
        "Therefore, it is useful to search for the maximum available computing power.\n",
        "\n",
        "Be reassured, this homework is doable on your standard laptop CPU.\n",
        "\n",
        "But, if you want or need better equipments for this project, there are some solutions."
      ]
    },
    {
      "cell_type": "markdown",
      "id": "psychological-furniture",
      "metadata": {
        "id": "psychological-furniture"
      },
      "source": [
        "### What is available?\n",
        "The function chooseDevice automatically checks if there is a GPU available. If there is one, computations will be done there. Simply be careful of adding \".to(device=device)\" everywhere it will be needed in the rest of the code. Otherwise, computations will be done on CPU.\n",
        "\n",
        "There should be no need to modify the function chooseDevice."
      ]
    },
    {
      "cell_type": "code",
      "execution_count": 36,
      "id": "attractive-maine",
      "metadata": {
        "id": "attractive-maine"
      },
      "outputs": [],
      "source": [
        "# Check if GPU is available\n",
        "\n",
        "def chooseDevice():\n",
        "    device = \"\"\n",
        "    if torch.cuda.is_available():\n",
        "        device = torch.device(\"cuda\")\n",
        "        print(\"GPU available via cuda\")\n",
        "    else:\n",
        "        device = torch.device(\"cpu\")\n",
        "        print(\"GPU not available, CPU available\")\n",
        "    return device"
      ]
    },
    {
      "cell_type": "code",
      "execution_count": 37,
      "id": "fancy-digit",
      "metadata": {
        "colab": {
          "base_uri": "https://localhost:8080/"
        },
        "id": "fancy-digit",
        "outputId": "9d0263c5-f387-4ac7-b7b5-96a0229e0eb0"
      },
      "outputs": [
        {
          "name": "stdout",
          "output_type": "stream",
          "text": [
            "GPU not available, CPU available\n"
          ]
        }
      ],
      "source": [
        "device = chooseDevice()"
      ]
    },
    {
      "cell_type": "markdown",
      "id": "variable-landscape",
      "metadata": {
        "id": "variable-landscape"
      },
      "source": [
        "### I need more power: Google Colab\n",
        "If you need or want more computing power, you can use Google Colab. Colab is a free and easy to use service from Google, where you can borrow their efficient resources. Often, GPU are not available (reserved in priority for people with paying subscriptions), but their CPU's are probably better than yours. You just need a Google account in order to run code online. Note that it works with Jupyter Notebooks, which is nice. \n",
        "\n",
        "If, despite this, you are not satisfied, feel free to contact Bastien Massion."
      ]
    },
    {
      "cell_type": "markdown",
      "id": "cubic-saint",
      "metadata": {
        "id": "cubic-saint"
      },
      "source": [
        "## Set random seed\n",
        "Setting the seed for the generation of random numbers is not necessary, but can be useful for keeping consistency in your experiments."
      ]
    },
    {
      "cell_type": "code",
      "execution_count": 38,
      "id": "corporate-reading",
      "metadata": {
        "id": "corporate-reading"
      },
      "outputs": [],
      "source": [
        "_ = torch.manual_seed(2472) "
      ]
    },
    {
      "cell_type": "markdown",
      "id": "literary-boston",
      "metadata": {
        "id": "literary-boston"
      },
      "source": [
        "## Datasets\n",
        "Two datasets are proposed. \n",
        "\n",
        "First, the classical MNIST set. MNIST is mandatory and sufficient to complete the whole homework. It contains a total of 70 000 handwritten digits (60 000 train, 10 000 test) from 10 balanced classes (one for each digit). You have already worked with it in the HW2.\n",
        "\n",
        "Then, the EMNIST Letters set. This second dataset is larger (more data and more classes) and optional, but could be used to create more impressive results. It contains a total of 145 600 handwritten letters (124 800 train, 20 800 test) from 26 balanced classes (one for each latin letter, lowercase and uppercase mixed). For your information, EMNIST (Extended MNIST) contains several varations and extensions of MNIST."
      ]
    },
    {
      "cell_type": "markdown",
      "id": "korean-device",
      "metadata": {
        "id": "korean-device"
      },
      "source": [
        "### Load dataset\n",
        "The datasets are loaded from the module torchvision.\n",
        "\n",
        "There should be no need to modify the function getData."
      ]
    },
    {
      "cell_type": "code",
      "execution_count": 39,
      "id": "norwegian-soccer",
      "metadata": {
        "id": "norwegian-soccer"
      },
      "outputs": [],
      "source": [
        "# Extracts the train and test sets from a chosen image dataset\n",
        "# Values of pixels are normalized between -1 and 1\n",
        "\n",
        "def getData(dataset = \"MNIST\", info = True):\n",
        "    if dataset == \"MNIST\":\n",
        "        transform = transforms.Compose([transforms.ToTensor(), transforms.Normalize((0.5,), (0.5,))])\n",
        "        train_set = torchvision.datasets.MNIST(root=\".\", train=True, download=True, transform=transform)\n",
        "        test_set = torchvision.datasets.MNIST(root=\".\", train=False, download=True, transform=transform)\n",
        "    elif dataset == \"EMNIST_Letters\":\n",
        "        transform = transforms.Compose([transforms.ToTensor(), transforms.Normalize((0.5,), (0.5,))])\n",
        "        train_set = torchvision.datasets.EMNIST(root=\".\", split=\"letters\", train=True, download=True, transform=transform)\n",
        "        test_set = torchvision.datasets.EMNIST(root=\".\", split=\"letters\", train=False, download=True, transform=transform)\n",
        "    else:\n",
        "        print(\"DATASET NOT CORRECTLY DEFINED\")\n",
        "    if info:\n",
        "        print(train_set)\n",
        "        print(test_set)\n",
        "    return train_set, test_set"
      ]
    },
    {
      "cell_type": "code",
      "execution_count": 40,
      "id": "burning-district",
      "metadata": {
        "colab": {
          "base_uri": "https://localhost:8080/"
        },
        "id": "burning-district",
        "outputId": "07c40127-45c3-4510-9a6c-2d2264779e3e"
      },
      "outputs": [
        {
          "name": "stdout",
          "output_type": "stream",
          "text": [
            "Dataset MNIST\n",
            "    Number of datapoints: 60000\n",
            "    Root location: .\n",
            "    Split: Train\n",
            "    StandardTransform\n",
            "Transform: Compose(\n",
            "               ToTensor()\n",
            "               Normalize(mean=(0.5,), std=(0.5,))\n",
            "           )\n",
            "Dataset MNIST\n",
            "    Number of datapoints: 10000\n",
            "    Root location: .\n",
            "    Split: Test\n",
            "    StandardTransform\n",
            "Transform: Compose(\n",
            "               ToTensor()\n",
            "               Normalize(mean=(0.5,), std=(0.5,))\n",
            "           )\n"
          ]
        }
      ],
      "source": [
        "# Choose which dataset to use\n",
        "\n",
        "dataset = \"MNIST\"\n",
        "#dataset = \"EMNIST_Letters\"\n",
        "\n",
        "train_set, test_set = getData(dataset = dataset)"
      ]
    },
    {
      "cell_type": "markdown",
      "id": "tropical-indie",
      "metadata": {
        "id": "tropical-indie"
      },
      "source": [
        "### Get size of dataset\n",
        "This function is just there to extract useful information about the (relative) sizes of the train and test sets.\n",
        "\n",
        "There should be no need to modify the function dataSize."
      ]
    },
    {
      "cell_type": "code",
      "execution_count": 41,
      "id": "verbal-dialogue",
      "metadata": {
        "id": "verbal-dialogue"
      },
      "outputs": [],
      "source": [
        "# Get information about the size of the train and test sets.\n",
        "\n",
        "def dataSize(train_set, test_set):\n",
        "    n_train_set = train_set.__len__()\n",
        "    n_test_set = test_set.__len__()\n",
        "    n_tot = n_train_set + n_test_set\n",
        "    ratio_train_test = n_train_set / n_test_set\n",
        "    percentage_train = n_train_set / n_tot\n",
        "    percentage_test = 1.0 - percentage_train\n",
        "    return n_train_set, n_test_set, n_tot, ratio_train_test, percentage_train, percentage_test"
      ]
    },
    {
      "cell_type": "code",
      "execution_count": null,
      "id": "military-guard",
      "metadata": {
        "id": "military-guard"
      },
      "outputs": [],
      "source": [
        "n_train_set, n_test_set, n_tot, ratio_train_test, percentage_train, percentage_test = dataSize(train_set, test_set)"
      ]
    },
    {
      "cell_type": "markdown",
      "id": "organized-turner",
      "metadata": {
        "id": "organized-turner"
      },
      "source": [
        "### Divide dataset into batches\n",
        "Computing the whole gradient for neural networks is too heavy, as it requires information about the whole dataset. Thus, we use (Mini-)Batch Gradient Descent. This is a variant of Stochastic Gradient Descent (SGD) in which we compute the gradient only for a small number of data, gathered in a batch. Typically, the batch size is orders of magnitude smaller than the whole dataset.\n",
        "\n",
        "The function divideInBatches splits the dataset and loads the data.\n",
        "\n",
        "You can modify the value of parameter batch_size as you wish.\n",
        "\n",
        "There should be no need to modify the function divideInBatches."
      ]
    },
    {
      "cell_type": "code",
      "execution_count": null,
      "id": "recognized-enhancement",
      "metadata": {
        "id": "recognized-enhancement"
      },
      "outputs": [],
      "source": [
        "# Paramater for the batch size\n",
        "# Predefined value = 32\n",
        "\n",
        "batch_size = 32"
      ]
    },
    {
      "cell_type": "code",
      "execution_count": null,
      "id": "sorted-pakistan",
      "metadata": {
        "id": "sorted-pakistan"
      },
      "outputs": [],
      "source": [
        "# Divide dataset into batches\n",
        "\n",
        "def divideInBatches(train_set, test_set, batch_size, n_train_set, n_test_set):\n",
        "    # Train set\n",
        "    n_batches_total = math.ceil(n_train_set/batch_size)\n",
        "    train_loader = torch.utils.data.DataLoader(train_set, batch_size=batch_size, shuffle=True)\n",
        "    \n",
        "    # Test set\n",
        "    n_batches_total_test = math.ceil(n_test_set/batch_size)\n",
        "    test_loader = torch.utils.data.DataLoader(test_set, batch_size=batch_size, shuffle=True)\n",
        "    \n",
        "    return train_loader, test_loader, n_batches_total, n_batches_total_test"
      ]
    },
    {
      "cell_type": "code",
      "execution_count": null,
      "id": "unlike-script",
      "metadata": {
        "id": "unlike-script"
      },
      "outputs": [],
      "source": [
        "train_loader, test_loader, n_batches_total, n_batches_total_test = divideInBatches(train_set, test_set, batch_size, n_train_set, n_test_set)"
      ]
    },
    {
      "cell_type": "markdown",
      "id": "selected-planner",
      "metadata": {
        "id": "selected-planner"
      },
      "source": [
        "### Correct EMNIST Letters data\n",
        "While the MNIST dataset is ready to be used, the EMNIST Letters data need to be slighty modified before use.\n",
        "\n",
        "On the one hand, the x and y axes of the images are flipped, which is unpractical for the visualization.\n",
        "\n",
        "On the other hand, the letters labels go from 1 to 26 (corresponding with their place in the alphabet) instead of from 0 to 25. This could be problematic and is better fixed directly.\n",
        "\n",
        "Therefore, every time a batch is loaded, it should go through a little correcting function first.\n",
        "\n",
        "There should be no need to modify the function correctData."
      ]
    },
    {
      "cell_type": "code",
      "execution_count": null,
      "id": "young-craft",
      "metadata": {
        "id": "young-craft"
      },
      "outputs": [],
      "source": [
        "# Corrects EMNIST Letters data\n",
        "\n",
        "def correctData(real_samples, mnist_labels, dataset):\n",
        "    if dataset == \"EMNIST_Letters\":\n",
        "        real_samples = torch.transpose(real_samples,2,3)\n",
        "        mnist_labels -= 1\n",
        "    return real_samples, mnist_labels"
      ]
    },
    {
      "cell_type": "code",
      "execution_count": null,
      "id": "liable-thinking",
      "metadata": {
        "id": "liable-thinking"
      },
      "outputs": [],
      "source": [
        "real_samples, mnist_labels = next(iter(train_loader))\n",
        "real_samples, mnist_labels = correctData(real_samples, mnist_labels, dataset)"
      ]
    },
    {
      "cell_type": "markdown",
      "id": "abandoned-water",
      "metadata": {
        "id": "abandoned-water"
      },
      "source": [
        "## Show images\n",
        "During the whole homework, it will be important to show samples, either from the dataset, either ones your generate. Here is just a function that can help you visualizing and avoiding losing any plot that you once created. \n",
        "\n",
        "The function showImages allows to represent up to 16 images. You can precise if they are generated by your generator or not (i.e. coming from the dataset). You can also show the true labels for original images and the predicted labels if you use your classifier.\n",
        "\n",
        "The created figures are stored in the folder that you should create : ./Figures. The figures are stored with a predifined name depending on the (date)time. \n",
        "\n",
        "You can of course modify this function as you wish."
      ]
    },
    {
      "cell_type": "code",
      "execution_count": null,
      "id": "helpful-spanking",
      "metadata": {
        "id": "helpful-spanking"
      },
      "outputs": [],
      "source": [
        "# Plot digits or letters\n",
        "\n",
        "def showImages(samples, true_labels = None, predicted_labels = None, generated = False, predicted = False, epoch = None):\n",
        "    \n",
        "    if generated == True and predicted == True:\n",
        "        plt.close(\"Generated predicted samples\")\n",
        "        f = plt.figure(\"Generated predicted samples\", figsize = (20,15))\n",
        "        f.suptitle(\"Generated predicted samples\", fontsize = 30)\n",
        "    elif generated == True and predicted == False :\n",
        "        if epoch != None:\n",
        "            plt.close(\"Generated samples epoch \" + str(epoch))\n",
        "            f = plt.figure(\"Generated samples epoch \" + str(epoch), figsize = (20,15))\n",
        "            f.suptitle(\"Generated samples epoch \" + str(epoch), fontsize = 30)\n",
        "        else:\n",
        "            plt.close(\"Generated samples\")\n",
        "            f = plt.figure(\"Generated samples\", figsize = (20,15))\n",
        "            f.suptitle(\"Generated samples\", fontsize = 30)            \n",
        "    elif predicted == True and generated == False :\n",
        "        if epoch != None:\n",
        "            plt.close(\"Predicted samples epoch \" + str(epoch))\n",
        "            f = plt.figure(\"Predicted samples epoch \" + str(epoch), figsize = (20,15))\n",
        "            f.suptitle(\"Predicted samples epoch \" + str(epoch), fontsize = 30)\n",
        "        else:\n",
        "            plt.close(\"Predicted samples\")\n",
        "            f = plt.figure(\"Predicted samples\", figsize = (20,15))\n",
        "            f.suptitle(\"Predicted samples\", fontsize = 30)            \n",
        "    else:\n",
        "        plt.close(\"MNIST samples\")\n",
        "        f = plt.figure(\"MNIST samples\", figsize = (20,15))\n",
        "        f.suptitle(\"MNIST training samples\", fontsize = 30)\n",
        "    f.subplots_adjust(wspace=0.2, hspace=0.4)\n",
        "    plt.rc('axes', titlesize=20)\n",
        "    \n",
        "    for i in range(16):\n",
        "        if i < samples.size(0):\n",
        "            fi = f.add_subplot(4, 4, i + 1)\n",
        "            fi.imshow(samples[i].reshape(28, 28), cmap=\"gray_r\")\n",
        "            plt.xticks([])\n",
        "            plt.yticks([]) \n",
        "            if generated == True and predicted == True :\n",
        "                fi.title.set_text(\"Pred: \" + str(predicted_labels[i].detach().numpy()))\n",
        "            elif generated == True and predicted == False :\n",
        "                fi.title.set_text(\"Sample \" + str(i))\n",
        "            elif predicted == True and generated == False :\n",
        "                fi.title.set_text(\"Pred: \" + str(predicted_labels[i].detach().numpy()) +  \", true: \" + str(true_labels[i].detach().numpy()))\n",
        "            else:\n",
        "                fi.title.set_text(\"Sample \" + str(i) + \": \" + str(true_labels[i].detach().numpy()))\n",
        "    \n",
        "    now = datetime.now().strftime(\"%Y_%m_%d__%H_%M\")\n",
        "    if generated == True and predicted == True :\n",
        "        f.savefig('./Figures/Sample_generated__' + now + '__epoch_' + str(epoch) + '.png')\n",
        "    elif generated == True and predicted == False :\n",
        "        f.savefig('./Figures/Sample_generated_predicted__' + now + '__epoch_' + str(epoch) + '.png')\n",
        "    elif predicted == True and generated == False :\n",
        "        f.savefig('./Figures/Sample_predicted__' + now + '__epoch_' + str(epoch) + '.png')\n",
        "    else:\n",
        "        f.savefig('./Figures/Sample_MNIST.png')"
      ]
    },
    {
      "cell_type": "code",
      "execution_count": null,
      "id": "neutral-prevention",
      "metadata": {
        "colab": {
          "base_uri": "https://localhost:8080/",
          "height": 976
        },
        "id": "neutral-prevention",
        "outputId": "3aad9982-8799-4b60-f7d6-d57163c064b0"
      },
      "outputs": [
        {
          "name": "stdout",
          "output_type": "stream",
          "text": [
            "<class 'torch.Tensor'>\n"
          ]
        },
        {
          "data": {
            "image/png": "[encoded data removed]",
            "text/plain": [
              "<Figure size 2000x1500 with 16 Axes>"
            ]
          },
          "metadata": {},
          "output_type": "display_data"
        }
      ],
      "source": [
        "print(type(real_samples))\n",
        "showImages(real_samples, true_labels = mnist_labels)"
      ]
    },
    {
      "cell_type": "markdown",
      "id": "effective-fluid",
      "metadata": {
        "id": "effective-fluid"
      },
      "source": [
        "## Section 1: Train a GAN on MNIST for image generation\n",
        "In this first part, you are asked to train and test a GAN for the generation of fake handwritten numbers (and letters). \n",
        "\n",
        "Let's just recall what training a model means in machine learning. It is in fact quite simple: given a model architecture, use an optimization scheme to minimize a loss function (representing the gap between the data and the model predictions) in order to find the optimal values of the model parameters. In this Section, all of these elements are treated one by one.\n",
        "\n",
        "Moreover, you receive reference Generator and Discriminator architectures. These neural network architectures should not be changed. Indeed, they are sufficient in order to get nice enough results while keeping the training time reasonable on a laptop CPU (normally less than 2 hours training).\n",
        "\n",
        "However, if you want to train additional Generator and/or Discriminator models that could be larger or smaller (for improved results or faster training for example), feel free to create them by yourself, explain them with comments and name them differently."
      ]
    },
    {
      "cell_type": "markdown",
      "id": "wired-revolution",
      "metadata": {
        "id": "wired-revolution"
      },
      "source": [
        "### 1.a Generator class\n",
        "The Generator class takes an input: the dimension of the latent space. Indeed, the generator will create an image (1x28x28) from an input latent vector (1 color i.e. gray-scale, 28x28 pixels). Typically, this vector is of dimension 100 with each entry sampled from a standard normal distribution or from an uniform distribution on [-1,1]. You are free to change this dimension and see what happens.\n",
        "\n",
        "The latent space is thus a space where the information contained in the images is compressed/condensed. This latent space will be the focus of the second part of the homework."
      ]
    },
    {
      "cell_type": "code",
      "execution_count": null,
      "id": "unlike-deputy",
      "metadata": {
        "id": "unlike-deputy"
      },
      "outputs": [],
      "source": [
        "# Dimension of the latent space\n",
        "# Predefined value = 100\n",
        "\n",
        "dim_latent_space = 100"
      ]
    },
    {
      "cell_type": "markdown",
      "id": "signed-newton",
      "metadata": {
        "id": "signed-newton"
      },
      "source": [
        "The class below contains the reference Generator architecture. You don't have to worry about the initialization of the model, it is done automatically.\n",
        "\n",
        "This architecture should not be changed.\n",
        "\n",
        "The Generator takes a batch of latent vectors as input, and ouputs one 1x28x28 pixels image for each input."
      ]
    },
    {
      "cell_type": "code",
      "execution_count": null,
      "id": "quality-prediction",
      "metadata": {
        "id": "quality-prediction"
      },
      "outputs": [],
      "source": [
        "class Generator(nn.Module):\n",
        "\n",
        "    def __init__(self, dim_latent_space):\n",
        "        super().__init__()\n",
        "        self.dim_latent_space = dim_latent_space\n",
        "        self.fc = nn.Linear(self.dim_latent_space, 64*7*7)\n",
        "        self.trans_conv1 = nn.ConvTranspose2d(64, 64, kernel_size = 3, stride = 2, padding = 1, output_padding = 1)\n",
        "        self.batch_norm1 = nn.BatchNorm2d(64)\n",
        "        self.trans_conv2 = nn.ConvTranspose2d(64, 32, kernel_size = 3, stride = 1, padding = 1)\n",
        "        self.batch_norm2 = nn.BatchNorm2d(32)\n",
        "        self.trans_conv3 = nn.ConvTranspose2d(32, 16, kernel_size = 3, stride = 1, padding = 1)\n",
        "        self.batch_norm3 = nn.BatchNorm2d(16)\n",
        "        self.trans_conv4 = nn.ConvTranspose2d(16, 1, kernel_size = 3, stride = 2, padding = 1, output_padding = 1)\n",
        "        \n",
        "    def forward(self, x):                   # Input = batch_size*dim_latent_space\n",
        "        x = self.fc(x)                      # Output = batch_size*(64*7*7)\n",
        "        x = x.view(-1, 64, 7, 7)            # Output = batch_size*64*7*7\n",
        "        x = self.trans_conv1(x)             # Output = batch_size*64*14*14\n",
        "        x = F.relu(self.batch_norm1(x))\n",
        "        x = self.trans_conv2(x)             # Output = batch_size*32*14*14\n",
        "        x = F.relu(self.batch_norm2(x))\n",
        "        x = self.trans_conv3(x)             # Output = batch_size*16*14*14\n",
        "        x = F.relu(self.batch_norm3(x))     \n",
        "        x = self.trans_conv4(x)             # Output = batch_size*1*28*28\n",
        "        x = torch.tanh(x)\n",
        "        return x"
      ]
    },
    {
      "cell_type": "code",
      "execution_count": null,
      "id": "conscious-essence",
      "metadata": {
        "id": "conscious-essence"
      },
      "outputs": [],
      "source": [
        "generator = Generator(dim_latent_space).to(device=device)\n"
      ]
    },
    {
      "cell_type": "markdown",
      "id": "concerned-welcome",
      "metadata": {
        "id": "concerned-welcome"
      },
      "source": [
        "### 1.b Discriminator class\n",
        "The class below contains the reference Discriminator architecture. You don't have to worry about the initialization of the model, it is done automatically.\n",
        "\n",
        "This architecture should not be changed.\n",
        "\n",
        "The Discriminitor takes a batch of 1x28x28 pixels images as input, and ouputs numbers between -inf and +inf. The activation of the last layer represents some likelihood of the image being fake or not, according to the model. Afterwards, it goes through a sigmoid function in order to scale numbers between 0 and 1. An output of 0 means that the model is certain that the corresponding input image is fake, and an output of 1 means that it is certain that it is real."
      ]
    },
    {
      "cell_type": "code",
      "execution_count": null,
      "id": "pursuant-heritage",
      "metadata": {
        "id": "pursuant-heritage"
      },
      "outputs": [],
      "source": [
        "class Discriminator(nn.Module):\n",
        "    \n",
        "    def __init__(self):\n",
        "        super().__init__()\n",
        "        self.conv0 = nn.Conv2d(1, 32, kernel_size = 3, stride = 2, padding = 1)     \n",
        "        self.conv0_drop = nn.Dropout2d(0.25)\n",
        "        self.conv1 = nn.Conv2d(32, 64, kernel_size = 3, stride = 1, padding = 1)\n",
        "        self.conv1_drop = nn.Dropout2d(0.25)\n",
        "        self.conv2 = nn.Conv2d(64, 128, kernel_size = 3, stride = 1, padding = 1)\n",
        "        self.conv2_drop = nn.Dropout2d(0.25)\n",
        "        self.conv3 = nn.Conv2d(128, 128, kernel_size = 3, stride = 2, padding = 1)\n",
        "        self.conv3_drop = nn.Dropout2d(0.25)\n",
        "        self.fc = nn.Linear(128*7*7, 1)\n",
        "    \n",
        "    def forward(self, x):                               # Input = batch_size*1*28*28\n",
        "        x = x.view(-1, 1, 28, 28)                       # Output = batch_size*1*28*28\n",
        "        x = F.leaky_relu(self.conv0(x), 0.2)            # Output = batch_size*32*14*14\n",
        "        x = self.conv0_drop(x)\n",
        "        x = F.leaky_relu(self.conv1(x), 0.2)            # Output = batch_size*64*14*14\n",
        "        x = self.conv1_drop(x)\n",
        "        x = F.leaky_relu(self.conv2(x), 0.2)            # Output = batch_size*128*14*14\n",
        "        x = self.conv2_drop(x)\n",
        "        x = F.leaky_relu(self.conv3(x), 0.2)            # Output = batch_size*128*7*7\n",
        "        x = self.conv3_drop(x)\n",
        "        x = x.view(-1, 128*7*7)                         # Output = batch_size*(128*7*7)\n",
        "        x = self.fc(x)                                  # Output = batch_size*1\n",
        "        return x"
      ]
    },
    {
      "cell_type": "code",
      "execution_count": null,
      "id": "minimal-wealth",
      "metadata": {
        "id": "minimal-wealth"
      },
      "outputs": [],
      "source": [
        "discriminator = Discriminator().to(device=device)"
      ]
    },
    {
      "cell_type": "markdown",
      "id": "fundamental-disorder",
      "metadata": {
        "id": "fundamental-disorder"
      },
      "source": [
        "### 1.c Number of parameters\n",
        "This function counts and prints the number of parameters in any neural network model.\n",
        "\n",
        "There should be no need to modify the function numberParameters."
      ]
    },
    {
      "cell_type": "code",
      "execution_count": null,
      "id": "christian-mitchell",
      "metadata": {
        "id": "christian-mitchell"
      },
      "outputs": [],
      "source": [
        "def numberParameters(model, trainable = False, model_name = None):\n",
        "    total_params = sum(param.numel() for param in model.parameters())\n",
        "    if model_name != None:\n",
        "        print(\"Number of parameters of \" + model_name + \": \" + str(total_params))\n",
        "    return total_params"
      ]
    },
    {
      "cell_type": "code",
      "execution_count": null,
      "id": "pointed-annotation",
      "metadata": {
        "colab": {
          "base_uri": "https://localhost:8080/"
        },
        "id": "pointed-annotation",
        "outputId": "0f9ec805-5f20-4a6a-f632-045862317770"
      },
      "outputs": [
        {
          "name": "stdout",
          "output_type": "stream",
          "text": [
            "Number of parameters of discriminator: 246529\n",
            "Number of parameters of generator: 377121\n"
          ]
        }
      ],
      "source": [
        "discriminator_params = numberParameters(discriminator, model_name = \"discriminator\")\n",
        "generator_params = numberParameters(generator, model_name = \"generator\")"
      ]
    },
    {
      "cell_type": "markdown",
      "id": "published-ranch",
      "metadata": {
        "id": "published-ranch"
      },
      "source": [
        "### 1.d Loss function\n",
        "The loss function measures how good the model is. For the discriminator, it a binary classification problem: the discriminator tries to distinguish true data (label = 1) from fake generated ones (label = 0). Therefore, we use a Binary Cross Entropy loss. As the only goal of the generator is to fool the discriminator, it can also be expressed with a Binary Cross Entropy loss function. Think about what inputs we need to give to the loss function for the discriminator and for the generator.\n",
        "\n",
        "You see that BCELoss is replaced by BCEWithLogitsLoss. Think about why this is, and how it links with the last layer of the given Discriminator architecture.\n",
        "\n",
        "This loss function should not be changed."
      ]
    },
    {
      "cell_type": "code",
      "execution_count": null,
      "id": "confirmed-karen",
      "metadata": {
        "id": "confirmed-karen"
      },
      "outputs": [],
      "source": [
        "# Loss function for the GAN\n",
        "\n",
        "#loss_function_gan = nn.BCELoss()\n",
        "loss_function_gan = nn.BCEWithLogitsLoss()"
      ]
    },
    {
      "cell_type": "markdown",
      "id": "floral-conspiracy",
      "metadata": {
        "id": "floral-conspiracy"
      },
      "source": [
        "### 1.e Optimizers\n",
        "Adam is one of the most famous adaptive stochastic gradient descent algorithm. It is massively used for training neural networks.\n",
        "\n",
        "You can play around with the Adam parameters if you want."
      ]
    },
    {
      "cell_type": "code",
      "execution_count": null,
      "id": "noble-proxy",
      "metadata": {
        "id": "noble-proxy"
      },
      "outputs": [],
      "source": [
        "# Adam optimization parameters\n",
        "# Predefined values: lr_gan = 0.0002, betas_gan = (0.5, 0.999)\n",
        "lr_gan = 0.0002\n",
        "betas_gan = (0.5, 0.999)\n",
        "\n",
        "optimizer_discriminator = torch.optim.Adam(discriminator.parameters(), lr=lr_gan, betas = betas_gan)\n",
        "optimizer_generator = torch.optim.Adam(generator.parameters(), lr=lr_gan, betas = betas_gan)"
      ]
    },
    {
      "cell_type": "markdown",
      "id": "alive-burke",
      "metadata": {
        "id": "alive-burke"
      },
      "source": [
        "### 1.f Accuracy\n",
        "We define one error measure as the accuracy reached by the discriminator for its predictions y_predicted, i.e. the ratio between the number of correct classifications and the total number of samples. We suppose that if 0.0 <= y_generated[i] <= 0.5, then it predicts a fake image and if 0.5 < y_generated[i] <= 1.0, it predicts a true image.\n",
        "\n",
        "During the training, data are loaded batch by batch. It could thus be a good idea to consider that the inputs of the following function are the true and predicted labels from one batch of data.\n",
        "\n",
        "Task: complete the computeGANAccuracy function."
      ]
    },
    {
      "cell_type": "code",
      "execution_count": null,
      "id": "functioning-charm",
      "metadata": {
        "id": "functioning-charm"
      },
      "outputs": [],
      "source": [
        "def computeGANAccuracy2(y_predicted,y_true):\n",
        "    \n",
        "    accuracy = 0.0\n",
        "    \n",
        "    for i in range(len(y_predicted)):\n",
        "        if y_predicted[i] > 0 and y_true[i] ==1 :\n",
        "            accuracy=accuracy+1\n",
        "        elif y_predicted[i] < 0 and y_true[i] ==0 :\n",
        "            accuracy=accuracy+1\n",
        "    \n",
        "    return accuracy/len(y_predicted)"
      ]
    },
    {
      "cell_type": "code",
      "execution_count": null,
      "id": "HwlxRw9Xy1DD",
      "metadata": {
        "id": "HwlxRw9Xy1DD"
      },
      "outputs": [],
      "source": [
        "def computeGANAccuracy(y_predicted,y_true):\n",
        "\n",
        "    accuracy = 0.0\n",
        "    accuracy = torch.sum(torch.round(torch.sigmoid(y_predicted)) == y_true).item()/y_true.shape[0]\n",
        "    # TO COMPLETE\n",
        "\n",
        "    return accuracy"
      ]
    },
    {
      "cell_type": "markdown",
      "id": "talented-speaker",
      "metadata": {
        "id": "talented-speaker"
      },
      "source": [
        "### 1.g Preparing the training process\n",
        "In this part, you are asked to initialize the training process (not the model which is initialized automatically). \n",
        "\n",
        "Let's just first define the number of iterations (epochs) that the training will last. Satisfactory results can be obtained with 5 epochs, but you can of course increase this value for a better training."
      ]
    },
    {
      "cell_type": "code",
      "execution_count": null,
      "id": "comparative-malaysia",
      "metadata": {
        "id": "comparative-malaysia"
      },
      "outputs": [],
      "source": [
        "# Number of epochs for the training\n",
        "# Predefined value: num_epochs_gan = 5\n",
        "\n",
        "num_epochs_gan = 5"
      ]
    },
    {
      "cell_type": "markdown",
      "id": "transparent-plain",
      "metadata": {
        "id": "transparent-plain"
      },
      "source": [
        "It is important to keep track of the evolution of the error metrics during the training process. A simple idea is to store the values of the metrics in arrays, at least after every epoch.\n",
        "\n",
        "Task: Create arrays that will contain the accuracy for train and test sets, as well as the values of the discriminator loss and of the generator loss during the training. Compute the errors before training the model and store them in your arrays."
      ]
    },
    {
      "cell_type": "code",
      "execution_count": null,
      "id": "toxic-scheduling",
      "metadata": {
        "id": "toxic-scheduling"
      },
      "outputs": [],
      "source": [
        "# Error metrics at initialisation\n",
        "\n",
        "# TO COMPLETE\n",
        "error_discriminator_loss = np.zeros(num_epochs_gan)\n",
        "error_generator_loss = np.zeros(num_epochs_gan)\n",
        "error_discriminator_accuracy = np.zeros(num_epochs_gan)\n",
        "error_generator_accuracy = np.zeros(num_epochs_gan)"
      ]
    },
    {
      "cell_type": "markdown",
      "id": "amino-network",
      "metadata": {
        "id": "amino-network"
      },
      "source": [
        "It is a good option to keep track of the evolution of the images generated through the training. Defining a reference sample of latent vectors allows to generate the image for the same inputs every time. You can compute the output from those vectors after each epoch to see how the generated images evolve with the training. The latent vectors can be generated from a standard normal distribution, or from a uniform distribution over [-1,1].\n",
        "\n",
        "Task: Define a sample of reference latent vectors."
      ]
    },
    {
      "cell_type": "code",
      "execution_count": null,
      "id": "secondary-flesh",
      "metadata": {
        "colab": {
          "base_uri": "https://localhost:8080/"
        },
        "id": "secondary-flesh",
        "outputId": "5584cb3a-096b-4996-e331-333d8417fd7c"
      },
      "outputs": [
        {
          "name": "stdout",
          "output_type": "stream",
          "text": [
            "tensor([[-0.4554, -0.7075, -0.1268,  ..., -0.6840,  0.8081, -0.0257],\n",
            "        [-0.1006, -0.5042,  0.5415,  ..., -0.3919, -0.2627, -0.4656],\n",
            "        [ 0.8056, -0.6079, -0.3561,  ...,  0.3179, -0.4574,  0.3762],\n",
            "        ...,\n",
            "        [-0.3613, -0.2920, -0.4968,  ..., -0.1753, -0.8687,  0.9429],\n",
            "        [ 0.6970,  0.7159,  0.3435,  ..., -0.0637,  0.2520,  0.5593],\n",
            "        [-0.5298, -0.0996,  0.3506,  ..., -0.7414,  0.4775, -0.9767]],\n",
            "       dtype=torch.float64)\n"
          ]
        }
      ],
      "source": [
        "# Reference latent vectors\n",
        "\n",
        "vectors = np.zeros(shape = (batch_size,dim_latent_space ))\n",
        "for i in range (batch_size):\n",
        "    vectors[i] = np.random.uniform(size = dim_latent_space , low = -1 , high = 1)\n",
        "vectors = torch.tensor(vectors)\n",
        "\n",
        "print(vectors)\n",
        "# TO COMPLETE"
      ]
    },
    {
      "cell_type": "code",
      "execution_count": null,
      "id": "3cDSpRsLzARh",
      "metadata": {
        "id": "3cDSpRsLzARh"
      },
      "outputs": [],
      "source": [
        "latent_vectors = np.random.uniform(-1, 1, size=(batch_size, dim_latent_space))\n"
      ]
    },
    {
      "cell_type": "markdown",
      "id": "better-antenna",
      "metadata": {
        "id": "better-antenna"
      },
      "source": [
        "### 1.h Training and testing the GAN\n",
        "This is finally the core part of this section: training your GAN.\n",
        "\n",
        "The training will follow an easy structure. Here is the pseudo-code of the training process:\n",
        "\n",
        "\n",
        "    for each epoch:\n",
        "\n",
        "        for each batch:\n",
        "\n",
        "            train the discriminator on the batch:\n",
        "\n",
        "                generate fake data (same amount as size of the batch)\n",
        "\n",
        "                predict if data from the batch and generated data are fake or not\n",
        "\n",
        "                compute the discriminator loss function\n",
        "\n",
        "                backpropagate the error in the discriminator\n",
        "\n",
        "            train the generator on the batch\n",
        "\n",
        "                generate fake data (same amount as size of the batch)\n",
        "\n",
        "                predict if generated data are fake or not\n",
        "\n",
        "                compute the generator loss function\n",
        "\n",
        "                backpropagate the error in the generator\n",
        "\n",
        "        end\n",
        "\n",
        "    end\n",
        "\n",
        "Task: Code the GAN training from the pseudo-code given above. Don't forget to switch between training and evaluation modes for the models, by using train() and eval() Pytorch functions. To understand what to do and why, look for their impact on specific layers of the networks. You may also use the time package in order to get information about the duration of the training. Finally, at every epoch, compute and store the accuracy and the losses of the model and generate images from your reference sample."
      ]
    },
    {
      "cell_type": "code",
      "execution_count": null,
      "id": "oZBdtLSY3OrM",
      "metadata": {
        "colab": {
          "base_uri": "https://localhost:8080/"
        },
        "id": "oZBdtLSY3OrM",
        "outputId": "904f7ff4-16f8-4807-b646-8d9d24478f8f"
      },
      "outputs": [
        {
          "name": "stdout",
          "output_type": "stream",
          "text": [
            "            "
          ]
        }
      ],
      "source": [
        "# Training of the GAN\n",
        "for epoch in range(num_epochs_gan):\n",
        "    \n",
        "    for i, (images, labels) in enumerate(train_loader):\n",
        "        # TRAIN DISC\n",
        "        fake_data = generator(torch.tensor(latent_vectors).float().to(device=device))\n",
        "        real_data = images.to(device=device)\n",
        "        \n",
        "        predict_class_fake = discriminator(fake_data)\n",
        "        predict_class_real = discriminator(real_data)\n",
        "\n",
        "\n",
        "        # Discriminator loss\n",
        "        loss_discriminator_fake = loss_function_gan(predict_class_fake, torch.zeros(batch_size, 1).to(device=device))\n",
        "        loss_discriminator_real = loss_function_gan(predict_class_real, torch.ones(batch_size, 1).to(device=device))\n",
        "        loss_discriminator = loss_discriminator_fake + loss_discriminator_real\n",
        "        # Discriminator accuracy\n",
        "        accuracy_discriminator = computeGANAccuracy(predict_class_real, torch.ones(batch_size, 1).to(device=device))\n",
        "        accuracy_discriminator += computeGANAccuracy(predict_class_fake, torch.zeros(batch_size, 1).to(device=device))\n",
        "\n",
        "        # Update of the discriminator\n",
        "        optimizer_discriminator.zero_grad()\n",
        "        loss_discriminator.backward()\n",
        "        optimizer_discriminator.step()\n",
        "\n",
        "\n",
        "\n",
        "\n",
        "        # TRAIN GEN\n",
        "        fake_data = generator(torch.tensor(latent_vectors).float().to(device=device))\n",
        "        real_data = images.to(device=device)\n",
        "        \n",
        "        predict_class_fake = discriminator(fake_data)\n",
        "        predict_class_real = discriminator(real_data)\n",
        "\n",
        "        # Generator loss\n",
        "        loss_generator = loss_function_gan(predict_class_fake, torch.ones(batch_size, 1).to(device=device))\n",
        "\n",
        "        # Generator accuracy\n",
        "        accuracy_generator = computeGANAccuracy(predict_class_fake, torch.ones(batch_size, 1).to(device=device))\n",
        "\n",
        "\n",
        "        # Update of the generator\n",
        "        optimizer_generator.zero_grad()\n",
        "        loss_generator.backward()\n",
        "        optimizer_generator.step()\n",
        "\n",
        "        # Error metrics\n",
        "        error_discriminator_loss[epoch] += loss_discriminator.item()\n",
        "        error_generator_loss[epoch] += loss_generator.item()\n",
        "        error_discriminator_accuracy[epoch] += accuracy_discriminator\n",
        "        error_generator_accuracy[epoch] += accuracy_generator\n",
        "        print(\"\\r\"+str(epoch) +\"  \" + str(i) , end= \"\")\n",
        "\n",
        "    print(\"\\r            \", end= \"\")\n",
        "    error_discriminator_accuracy[epoch] /= n_batches_total\n",
        "    error_generator_accuracy[epoch] /= n_batches_total\n",
        "    error_discriminator_loss[epoch] /= n_batches_total\n",
        "    error_generator_loss[epoch] /= n_batches_total"
      ]
    },
    {
      "cell_type": "markdown",
      "id": "chicken-fight",
      "metadata": {
        "id": "chicken-fight"
      },
      "source": [
        "### 1.i Plot the results\n",
        "You should plot the evolution of your error metrics (accuracy and loss function) in function of the number of epochs, to see how efficient the training is. Show the evolution of the images generated from your reference sample as well.\n",
        "\n",
        "Task: Make those plots, as clean and readable as possible."
      ]
    },
    {
      "cell_type": "code",
      "execution_count": null,
      "id": "experimental-magic",
      "metadata": {
        "colab": {
          "base_uri": "https://localhost:8080/",
          "height": 806
        },
        "id": "experimental-magic",
        "outputId": "f09f1902-3129-4574-9d40-b2a969891fdb"
      },
      "outputs": [
        {
          "name": "stdout",
          "output_type": "stream",
          "text": [
            "error_discriminator_accuracy :  [0.78488333 0.57386667 0.54716667 0.53926667 0.54335   ]\n",
            "error_discriminator_loss :  [0.42528913 0.67495317 0.68553485 0.68821421 0.68669377]\n",
            "error_generator_accuracy :  [0.19656667 0.40185    0.43195    0.4344     0.42808333]\n",
            "error_generator_loss :  [1.94195015 0.75209314 0.72161396 0.71647298 0.71813096]\n"
          ]
        },
        {
          "data": {
            "image/png": "[encoded data removed]",
            "text/plain": [
              "<Figure size 1000x600 with 1 Axes>"
            ]
          },
          "metadata": {},
          "output_type": "display_data"
        },
        {
          "data": {
            "image/png": "[encoded data removed]",
            "text/plain": [
              "<Figure size 1000x600 with 1 Axes>"
            ]
          },
          "metadata": {},
          "output_type": "display_data"
        }
      ],
      "source": [
        "# Plots of accuracy and of loss function, images generated from your reference sample.\n",
        "\n",
        "\n",
        "\n",
        "error_discriminator_accuracy = error_discriminator_accuracy/2\n",
        "error_discriminator_loss = error_discriminator_loss/2\n",
        "\n",
        "print(\"error_discriminator_accuracy : \", error_discriminator_accuracy)\n",
        "print(\"error_discriminator_loss : \", error_discriminator_loss)\n",
        "print(\"error_generator_accuracy : \", error_generator_accuracy)\n",
        "print(\"error_generator_loss : \", error_generator_loss)\n",
        "\n",
        "plt.figure(figsize=(10,6))\n",
        "#fig, (ax1, ax2 , ax3, ax4) = plt.subplots(1, 4 )\n",
        "#fig.suptitle(\"Generator and Discriminator Loss During Training\")\n",
        "#ax1.plot(error_discriminator_accuracy,label=\"G\")\n",
        "#ax2.plot(error_generator_accuracy,label=\"D\")\n",
        "#ax3.plot(error_discriminator_loss,label=\"acc\")\n",
        "#ax4.plot(error_generator_loss,label=\"acc\")\n",
        "#fig.supxlabel('iteration')\n",
        "plt.plot(error_discriminator_accuracy, label=\"discriminator_accuracy\")\n",
        "\n",
        "plt.plot(error_discriminator_loss, label=\"discriminator_loss\")\n",
        "\n",
        "plt.legend()\n",
        "\n",
        "plt.show()\n",
        "plt.figure(figsize=(10,6))\n",
        "\n",
        "plt.plot(error_generator_accuracy, label=\"generator_accuracy\")\n",
        "plt.plot(error_generator_loss, label=\"generator_loss\")\n",
        "plt.legend()\n",
        "\n",
        "plt.show()\n",
        "# TO COMPLETE"
      ]
    },
    {
      "cell_type": "code",
      "execution_count": null,
      "id": "Zm_LaHxuB3k0",
      "metadata": {
        "colab": {
          "base_uri": "https://localhost:8080/",
          "height": 971
        },
        "id": "Zm_LaHxuB3k0",
        "outputId": "21793e6e-eaa8-4426-a7d7-ac64a0e54aeb"
      },
      "outputs": [
        {
          "name": "stdout",
          "output_type": "stream",
          "text": [
            "torch.Size([32, 1, 28, 28])\n",
            "torch.Size([32, 1, 28, 28])\n"
          ]
        },
        {
          "data": {
            "image/png": "[encoded data removed]",
            "text/plain": [
              "<Figure size 2000x1500 with 16 Axes>"
            ]
          },
          "metadata": {},
          "output_type": "display_data"
        }
      ],
      "source": [
        "latent_vectors = torch.tensor(latent_vectors).to(device = device)\n",
        "fake = generator(latent_vectors.to(torch.float32)).detach()\n",
        "print(fake.size())\n",
        "print(real_samples.size())\n",
        "labels = discriminator(fake).detach().cpu()\n",
        "\n",
        "showImages(fake.detach().cpu(), true_labels=labels.sigmoid())\n"
      ]
    },
    {
      "cell_type": "markdown",
      "id": "pediatric-stranger",
      "metadata": {
        "id": "pediatric-stranger"
      },
      "source": [
        "### 1.j Save your models\n",
        "A really useful feature for your experiments is to be able to save your models. This can be done with the torch.save function. In the function saveModel, a model is stored in the folder ./Models that you may want to create. The (date)time is used to always store your models with a different name and never lose some training that you would have done.\n",
        "\n",
        "Be careful however: the saveModel function below stores the \"state dictionary\" of your model, not your model itself. \n",
        "\n",
        "You can of course modify the function saveModel as you wish."
      ]
    },
    {
      "cell_type": "code",
      "execution_count": null,
      "id": "reflected-channels",
      "metadata": {
        "id": "reflected-channels"
      },
      "outputs": [],
      "source": [
        "def saveModel(model, model_name):\n",
        "    now = datetime.now().strftime(\"%Y_%m_%d__%H_%M\")\n",
        "    torch.save(model.state_dict(), './Models/' + model_name + '__' + now)\n",
        "\n",
        "#### Example\n",
        "#\n",
        "\n",
        "#saveModel(discriminator, \"Discriminator\")\n",
        "\n",
        "#saveModel(generator, \"Generator\")\n",
        "#\n",
        "##\n",
        "# The model D has been saved as \"Discriminator__2022_11_12__15_21\" in the folder ./Models as your code finished running at\n",
        "# 15:21 on the 12 November 2022.\n",
        "##"
      ]
    },
    {
      "cell_type": "markdown",
      "id": "moderate-direction",
      "metadata": {
        "id": "moderate-direction"
      },
      "source": [
        "### 1.k Load your models\n",
        "You can also load models that you trained and saved earlier with the function loadModel.\n",
        "\n",
        "However, be careful. You will have to first recreate a new instance of your class, and then import the state dictionary in the new instance. This means that the characteristics of your class should not have changed since then. In particular, the number of layers and the size of the layers need to match between the trained model and the most recent class in order to correctly assign the stored parameters. Moreover, there could be some trouble if you changed functions/methods from the class. \n",
        "\n",
        "You can of course modify the function loadModel as you wish."
      ]
    },
    {
      "cell_type": "code",
      "execution_count": null,
      "id": "pressed-violation",
      "metadata": {
        "id": "pressed-violation"
      },
      "outputs": [],
      "source": [
        "def loadModel(model, model_name, date_time):\n",
        "    model.load_state_dict(torch.load('./Models/' + model_name + '__' + date_time,map_location=torch.device('cpu')))\n",
        "    model.eval()\n",
        "    return model\n",
        "\n",
        "#### Example\n",
        "#\n",
        "D = Discriminator().to(device=device)\n",
        "loadModel(D, \"Discriminator\", \"2022_11_29__15_18\")\n",
        "G = Generator(dim_latent_space).to(device=device)\n",
        "loadModel(G, \"Generator\", \"2022_11_29__15_18\")\n",
        "\n",
        "\n",
        "#\n",
        "##\n",
        "# The model \"Discriminator__2022_11_12__15_21\" from the folder ./Models has been loaded in the Discriminator D\n",
        "##"
      ]
    },
    {
      "cell_type": "markdown",
      "id": "middle-syria",
      "metadata": {
        "id": "middle-syria"
      },
      "source": [
        "## Section 2: Train a CNN on MNIST for image classification\n",
        "In this second part, you are asked to train and test a CNN for the classification of handwritten numbers (and letters).\n",
        "\n",
        "Therefore, you receive a reference CNN architecture that should not be changed. Training your CNN should be faster than training your GAN, so there is no fear about that.\n",
        "\n",
        "However, if you want to train additional CNN models (for improved results or faster training for example), feel free to create them by yourself and name the classes differently."
      ]
    },
    {
      "cell_type": "markdown",
      "id": "computational-square",
      "metadata": {
        "id": "computational-square"
      },
      "source": [
        "### 2.a Number of classes\n",
        "For classification task, it is of course necessary to know the number of classes possible. \n",
        "\n",
        "For the rest of the homework, pay attention not to confuse the label class (ex: the image represents a 2) and a model class (ex: the model is an instance of the CNN class).\n",
        "\n",
        "There should be no need to modify the function numberClasses."
      ]
    },
    {
      "cell_type": "code",
      "execution_count": null,
      "id": "fossil-provincial",
      "metadata": {
        "id": "fossil-provincial"
      },
      "outputs": [],
      "source": [
        "def numberClasses(dataset):\n",
        "    n_classes = len(dataset.classes)\n",
        "    return n_classes"
      ]
    },
    {
      "cell_type": "code",
      "execution_count": null,
      "id": "racial-token",
      "metadata": {
        "id": "racial-token"
      },
      "outputs": [],
      "source": [
        "n_classes = numberClasses(train_set)"
      ]
    },
    {
      "cell_type": "markdown",
      "id": "oriental-attack",
      "metadata": {
        "id": "oriental-attack"
      },
      "source": [
        "### 2.b CNN class\n",
        "The class below contains the reference CNN architecture. You don't have to worry about the initialization of the model, it is done automatically.\n",
        "\n",
        "This architecture should not be changed.\n",
        "\n",
        "The CNN architecture is defined by the number of classes. Indeed, for each entry it outputs a vector of size n_classes with values between -inf and +inf. This vector can be passed through the function scaleToProbabilities in order to get scaled and become somewhat interpretable as probabilities of belonging to one class. The function predictLabels extends the scaleToProbabilities function and selects the most activated/highest valued class as the CNN prediction.\n",
        "\n",
        "There should be no need to modify the functions scaleToProbabilities and predictLabels, except playing with the scale_factor."
      ]
    },
    {
      "cell_type": "code",
      "execution_count": null,
      "id": "referenced-morris",
      "metadata": {
        "id": "referenced-morris"
      },
      "outputs": [],
      "source": [
        "class CNN(nn.Module):\n",
        "    def __init__(self, n_classes):\n",
        "        super(CNN, self).__init__()\n",
        "        self.n_classes = n_classes\n",
        "        self.conv1 = nn.Sequential(             # Images input is batch_size*1*28*28\n",
        "            nn.Conv2d(1, 16, 5, 1, 2),          # Output is batch_size*16*28*28\n",
        "            nn.ReLU(),                      \n",
        "            nn.MaxPool2d(kernel_size=2),        # Output is batch_size*16*14*14\n",
        "        )\n",
        "        self.conv2 = nn.Sequential(         \n",
        "            nn.Conv2d(16, 32, 5, 1, 2),         # Output is batch_size*32*14*14\n",
        "            nn.ReLU(),                      \n",
        "            nn.MaxPool2d(2),                    # Output is batch_size*32*7*7\n",
        "        )\n",
        "        # fully connected layer, output one number for each class\n",
        "        self.out = nn.Sequential(         \n",
        "            nn.Linear(32 * 7 * 7, self.n_classes),          # Output is batch_size*n_classes\n",
        "        )\n",
        "    \n",
        "    def scaleToProbabilities(self, outmap, scale_factor = 3): \n",
        "        # scale_factor allows to scale your output before passing it into the softmax function \n",
        "        # in order to get numbers interpratble as probabilities\n",
        "        \n",
        "        flattened_outmap = outmap.view(outmap.shape[0], -1)\n",
        "        outmap_std = torch.std(flattened_outmap, dim = 1).view(-1, 1)\n",
        "        outmap_scaled_std = torch.div(outmap, outmap_std)\n",
        "        probabilities = nn.functional.softmax(outmap_scaled_std*scale_factor, dim=1)\n",
        "        return probabilities\n",
        "    \n",
        "    def predictLabels(self, outmap, scale_factor = 3):\n",
        "        probabilities = self.scaleToProbabilities(outmap, scale_factor = 3)\n",
        "        certainty, predicted_labels = torch.max(probabilities, 1)\n",
        "        predicted_labels = predicted_labels.data.squeeze()\n",
        "        certainty = certainty.data.squeeze()\n",
        "        return predicted_labels, probabilities, certainty\n",
        "        \n",
        "    def forward(self, x):\n",
        "        x = self.conv1(x)\n",
        "        x = self.conv2(x)\n",
        "        x = x.view(x.size(0), 32 * 7 * 7)\n",
        "        output = self.out(x)\n",
        "        return output"
      ]
    },
    {
      "cell_type": "code",
      "execution_count": null,
      "id": "wanted-scientist",
      "metadata": {
        "colab": {
          "base_uri": "https://localhost:8080/"
        },
        "id": "wanted-scientist",
        "outputId": "e8b2be04-d851-4dcd-eda1-81d54634ce79"
      },
      "outputs": [
        {
          "name": "stdout",
          "output_type": "stream",
          "text": [
            "Number of parameters of classifier: 28938\n"
          ]
        }
      ],
      "source": [
        "cnn = CNN(n_classes).to(device=device)\n",
        "cnn_params = numberParameters(cnn, model_name = \"classifier\")"
      ]
    },
    {
      "cell_type": "markdown",
      "id": "every-occurrence",
      "metadata": {
        "id": "every-occurrence"
      },
      "source": [
        "### 2.c Loss function\n",
        "For classification tasks, the main loss function used is Cross Entropy. As entries, it takes the activations of last layer nodes  and the true labels of data (between 0 and n_classes-1). \n",
        "\n",
        "This loss function should not be changed."
      ]
    },
    {
      "cell_type": "code",
      "execution_count": null,
      "id": "korean-cleveland",
      "metadata": {
        "id": "korean-cleveland"
      },
      "outputs": [],
      "source": [
        "# Loss function for the CNN\n",
        "\n",
        "loss_function_cnn = nn.CrossEntropyLoss()"
      ]
    },
    {
      "cell_type": "markdown",
      "id": "controversial-palace",
      "metadata": {
        "id": "controversial-palace"
      },
      "source": [
        "### 2.d Optimizer\n",
        "Again, we will use Adam as an optimizer.\n",
        "\n",
        "You can play around with the Adam parameters if you want."
      ]
    },
    {
      "cell_type": "code",
      "execution_count": null,
      "id": "national-asset",
      "metadata": {
        "id": "national-asset"
      },
      "outputs": [],
      "source": [
        "# Adam optimization parameters\n",
        "# Predefined values: lr_cnn = 0.01, betas_cnn = (0.9, 0.999)\n",
        "lr_cnn = 0.01\n",
        "betas_cnn = (0.9, 0.999)\n",
        "\n",
        "optimizer_cnn = torch.optim.Adam(cnn.parameters(), lr=lr_cnn, betas = betas_cnn)"
      ]
    },
    {
      "cell_type": "markdown",
      "id": "literary-border",
      "metadata": {
        "id": "literary-border"
      },
      "source": [
        "### 2.e Accuracy\n",
        "We define one error measure as the accuracy reached by the CNN for its classifying predictions. In particular, we call accuracy the ratio between the number of correct classifications and the number of samples. We assume that the most activated output corresponds to the class prediction.\n",
        "\n",
        "During the training, data are loaded batch by batch. It could thus be a good idea to consider that the inputs of the following function are the true and predicted labels from one batch of data.\n",
        "\n",
        "Task: complete the computeCNNAccuracy function."
      ]
    },
    {
      "cell_type": "code",
      "execution_count": null,
      "id": "ambient-miracle",
      "metadata": {
        "id": "ambient-miracle"
      },
      "outputs": [],
      "source": [
        "def computeCNNAccuracy(y_predicted,y_true):\n",
        "\n",
        "    accuracy = 0.0\n",
        "    accuracy = torch.sum(y_predicted == y_true).item()/y_true.shape[0]\n",
        "\n",
        "    # TO COMPLETE\n",
        "\n",
        "    return accuracy"
      ]
    },
    {
      "cell_type": "markdown",
      "id": "cleared-turtle",
      "metadata": {
        "id": "cleared-turtle"
      },
      "source": [
        "### 2.f Preparing the training process\n",
        "In this part, you are asked to initialize the training process (not the model which is initialized automatically). \n",
        "\n",
        "Let's just first define the number of iterations (epochs) that the training will last. Satisfactory results can be obtained with 15 epochs, but you can of course increase this value for a better training."
      ]
    },
    {
      "cell_type": "code",
      "execution_count": null,
      "id": "official-prince",
      "metadata": {
        "id": "official-prince"
      },
      "outputs": [],
      "source": [
        "# Number of epochs for the training\n",
        "# Predefined value: num_epochs_cnn = 15\n",
        "\n",
        "num_epochs_cnn = 15"
      ]
    },
    {
      "cell_type": "markdown",
      "id": "medium-scotland",
      "metadata": {
        "id": "medium-scotland"
      },
      "source": [
        "It is important to keep track of the evolution of the error metrics during the training process. A simple idea is to store the values of the metrics in arrays, at least after every epoch.\n",
        "\n",
        "Task: Create arrays that will contain the accuracy for train and test sets, as well as the values of the CNN loss during the training. Compute the errors before training the model and store them in your arrays."
      ]
    },
    {
      "cell_type": "code",
      "execution_count": null,
      "id": "impressed-handbook",
      "metadata": {
        "id": "impressed-handbook"
      },
      "outputs": [],
      "source": [
        "# Error metrics at initialisation\n",
        "error_train_loss = np.zeros(num_epochs_cnn)\n",
        "error_train_accuracy = np.zeros(num_epochs_cnn)\n",
        "error_test_accuracy = np.zeros(num_epochs_cnn)\n",
        "# TO COMPLETE"
      ]
    },
    {
      "cell_type": "markdown",
      "id": "multiple-diesel",
      "metadata": {
        "id": "multiple-diesel"
      },
      "source": [
        "### 2.g Training and testing the CNN\n",
        "This is finally the core part of this section: training your CNN.\n",
        "\n",
        "The training will follow an easy structure. Here is the pseudo-code of the training process:\n",
        "\n",
        "    for each epoch:\n",
        "\n",
        "        for each batch:\n",
        "\n",
        "            train the classifier on the batch:\n",
        "\n",
        "                predict the labels\n",
        "\n",
        "                compute the classifier loss function\n",
        "\n",
        "                backpropagate the error in the cnn\n",
        "                \n",
        "        end\n",
        "\n",
        "    end\n",
        "\n",
        "Task: Code the CNN training from the pseudo-code given above. Don't forget to switch between training and evaluation modes for the model, by using train() and eval() Pytorch functions. You may also use the time package in order to get information about the duration of the training. Finally, at every epoch, compute and store the accuracy and the loss of the model and generate images from your reference sample."
      ]
    },
    {
      "cell_type": "code",
      "execution_count": 42,
      "id": "acute-indianapolis",
      "metadata": {
        "colab": {
          "base_uri": "https://localhost:8080/"
        },
        "id": "acute-indianapolis",
        "outputId": "15d46e85-3c5b-4713-8cb5-75eb07b54d65"
      },
      "outputs": [
        {
          "ename": "NameError",
          "evalue": "name 'num_epochs_cnn' is not defined",
          "output_type": "error",
          "traceback": [
            "\u001b[0;31m---------------------------------------------------------------------------\u001b[0m",
            "\u001b[0;31mNameError\u001b[0m                                 Traceback (most recent call last)",
            "Cell \u001b[0;32mIn [42], line 5\u001b[0m\n\u001b[1;32m      2\u001b[0m testing_batch_images, testing_batch_labels \u001b[39m=\u001b[39m \u001b[39mnext\u001b[39m(\u001b[39miter\u001b[39m(test_loader))\n\u001b[1;32m      4\u001b[0m \u001b[39m# Training of the CNN\u001b[39;00m\n\u001b[0;32m----> 5\u001b[0m \u001b[39mfor\u001b[39;00m i \u001b[39min\u001b[39;00m \u001b[39mrange\u001b[39m(num_epochs_cnn):\n\u001b[1;32m      8\u001b[0m     cnn\u001b[39m.\u001b[39mtrain()\n\u001b[1;32m      9\u001b[0m     \u001b[39mfor\u001b[39;00m j, (images, labels) \u001b[39min\u001b[39;00m \u001b[39menumerate\u001b[39m(train_loader):\n\u001b[1;32m     10\u001b[0m         \u001b[39m# TO COMPLETE\u001b[39;00m\n\u001b[1;32m     11\u001b[0m         \u001b[39m# Forward pass\u001b[39;00m\n",
            "\u001b[0;31mNameError\u001b[0m: name 'num_epochs_cnn' is not defined"
          ]
        }
      ],
      "source": [
        "# Training of the CNN\n",
        "testing_batch_images, testing_batch_labels = next(iter(test_loader))\n",
        "\n",
        "# Training of the CNN\n",
        "for i in range(num_epochs_cnn):\n",
        "    \n",
        "\n",
        "    cnn.train()\n",
        "    for j, (images, labels) in enumerate(train_loader):\n",
        "        # TO COMPLETE\n",
        "        # Forward pass\n",
        "        forward = cnn(images.cuda())\n",
        "        predicted_labels, probabilities, certainty = cnn.predictLabels(forward)\n",
        "\n",
        "\n",
        "        # Compute loss\n",
        "        loss = loss_function_cnn(probabilities.cuda(), labels.cuda())\n",
        "        # Backward pass\n",
        "        optimizer_cnn.zero_grad()\n",
        "        loss.backward()\n",
        "        optimizer_cnn.step()\n",
        "        # Accuracy\n",
        "        accuracy = computeCNNAccuracy(predicted_labels.cuda(), labels.cuda())\n",
        "\n",
        "        error_train_loss[i] += loss.item()\n",
        "        error_train_accuracy[i] += accuracy\n",
        "\n",
        "        print(\"\\r\"+str(i) +\"  \" + str(j) , end= \"\")\n",
        "    print(\"\\r            \", end= \"\")\n",
        "\n",
        "    error_train_loss[i] /= n_batches_total\n",
        "    error_train_accuracy[i] /= n_batches_total\n",
        "\n",
        "    cnn.eval()\n",
        "    testResult = cnn(testing_batch_images.cuda())\n",
        "    test_labels, _ , _ = cnn.predictLabels(testResult.cuda())\n",
        "    error_test_accuracy[i] = computeCNNAccuracy(test_labels.cuda(), testing_batch_labels.cuda())\n",
        "# TO COMPLETE"
      ]
    },
    {
      "cell_type": "code",
      "execution_count": null,
      "id": "LwL6EMshoopd",
      "metadata": {
        "colab": {
          "base_uri": "https://localhost:8080/"
        },
        "id": "LwL6EMshoopd",
        "outputId": "90c57a2a-61c2-44d4-d1bd-06165aee0c4b"
      },
      "outputs": [
        {
          "name": "stdout",
          "output_type": "stream",
          "text": [
            "Training loss:  [1.51793215 1.48090704 1.47735017 1.47461949 1.47257756 1.47171923\n",
            " 1.4704522  1.46949698 1.46884134 1.46808282 1.46747067 1.46705321\n",
            " 1.46679445 1.46639368 1.46612262]\n",
            "Training accuracy:  [0.9561     0.98813333 0.99063333 0.9931     0.99433333 0.9948\n",
            " 0.99593333 0.9964     0.9967     0.99753333 0.9977     0.99788333\n",
            " 0.99805    0.99821667 0.99851667]\n",
            "Test accuracy:  [1. 1. 1. 1. 1. 1. 1. 1. 1. 1. 1. 1. 1. 1. 1.]\n"
          ]
        }
      ],
      "source": [
        "print(\"Training loss: \", error_train_loss)\n",
        "print(\"Training accuracy: \", error_train_accuracy)\n",
        "print(\"Test accuracy: \", error_test_accuracy)"
      ]
    },
    {
      "cell_type": "markdown",
      "id": "brutal-marriage",
      "metadata": {
        "id": "brutal-marriage"
      },
      "source": [
        "### 2.h Plot the results\n",
        "Again, you should plot the evolution of your error metrics (accuracy and loss function) in function of the number of epochs, to see how efficient the training is. Show the evolution of the images generated from your reference sample as well.\n",
        "\n",
        "Task: Make those plots, as clean and readable as possible."
      ]
    },
    {
      "cell_type": "code",
      "execution_count": null,
      "id": "checked-proceeding",
      "metadata": {
        "id": "checked-proceeding"
      },
      "outputs": [],
      "source": [
        "# Plots of accuracy and of loss function, images generated from your reference sample.\n",
        "\n",
        "# TO COMPLETE"
      ]
    },
    {
      "cell_type": "markdown",
      "id": "consolidated-intent",
      "metadata": {
        "id": "consolidated-intent"
      },
      "source": [
        "## Part 2 coming soon\n",
        "You now have operational GANs and CNNs for handwritten digits (and/or letters). In the second part of the homework, you will combine both networks in order to create what you want and learn more about those neural architectures."
      ]
    },
    {
      "cell_type": "code",
      "execution_count": null,
      "id": "4dd52530",
      "metadata": {},
      "outputs": [],
      "source": [
        "quad = []\n",
        "\n",
        "for i in range (10):\n",
        "    latent_vectors = np.random.uniform(-1, 1, size=(batch_size, dim_latent_space))\n",
        "    batch = G(latent_vectors)\n",
        "    inter = cnn(batch)\n",
        "    labels, _ , certainty = cnn.predictLabels(inter)\n",
        "    \n",
        "    for i in range (batch_size):\n",
        "        if (certainty[i] > 0.5):\n",
        "            quad.append([latent_vectors[i] , batch[i] , labels[i] , certainty])\n",
        "            \n",
        "            \n",
        "            \n",
        "print( np.sort(quad , axis=3  ))"
      ]
    },
    {
      "cell_type": "code",
      "execution_count": null,
      "id": "8c3310d6",
      "metadata": {},
      "outputs": [],
      "source": [
        "table = np.zeros(10)\n",
        "for _,_,label,_ in quad:\n",
        "    table[label]+=1\n",
        "    \n",
        "print(table)"
      ]
    },
    {
      "cell_type": "code",
      "execution_count": 51,
      "id": "135a8c59",
      "metadata": {},
      "outputs": [
        {
          "data": {
            "text/plain": [
              "<BarContainer object of 10 artists>"
            ]
          },
          "execution_count": 51,
          "metadata": {},
          "output_type": "execute_result"
        },
        {
          "data": {
            "image/png": "[encoded data removed]",
            "text/plain": [
              "<Figure size 640x480 with 1 Axes>"
            ]
          },
          "metadata": {},
          "output_type": "display_data"
        }
      ],
      "source": [
        "plt.bar( [\"0\",\"1\",\"2\",\"3\",\"4\",\"5\",\"6\",\"7\",\"8\",\"9\"] , table )"
      ]
    },
    {
      "cell_type": "code",
      "execution_count": null,
      "id": "3547453b",
      "metadata": {},
      "outputs": [],
      "source": [
        "bigdata = np.zeros((10,100))\n",
        "for vector,_,label,_ in quad:\n",
        "    bigdata[label]=+(vector/table[label])\n",
        "\n"
      ]
    },
    {
      "cell_type": "code",
      "execution_count": null,
      "id": "e68031f9",
      "metadata": {},
      "outputs": [],
      "source": [
        "norm_table_random = np.zeros(10)\n",
        "norm_table_labaled = []\n",
        "norm_table_average_labeled = np.zeros(10)\n",
        "distance_list = []\n",
        "for i in range (10):\n",
        "    norm_table_random[i]          = np.linalg.norm(np.random.uniform(-1, 1, size=(batch_size, dim_latent_space)))\n",
        "    \n",
        "    norm_table_average_labeled[i] = np.linalg.norm(bigdata[i])\n",
        "    \n",
        "for i in range (len (quad)):\n",
        "    norm = np.linalg.norm(quad[i][0])\n",
        "    label = quad[i][2]\n",
        "    norm_table_labaled.append(norm ,label)\n",
        "    distance = norm_table_average_labeled[label] -norm \n",
        "    distance_list.append([distance , label])\n",
        "\n",
        "    "
      ]
    }
  ],
  "metadata": {
    "accelerator": "GPU",
    "colab": {
      "provenance": []
    },
    "gpuClass": "standard",
    "kernelspec": {
      "display_name": "Python 3.10.0 64-bit ('3.10.0')",
      "language": "python",
      "name": "python3"
    },
    "language_info": {
      "codemirror_mode": {
        "name": "ipython",
        "version": 3
      },
      "file_extension": ".py",
      "mimetype": "text/x-python",
      "name": "python",
      "nbconvert_exporter": "python",
      "pygments_lexer": "ipython3",
      "version": "3.10.0"
    },
    "vscode": {
      "interpreter": {
        "hash": "79723628322897b9239260c86940c93094c84297f20f0a5bf49d580823e5a9d1"
      }
    }
  },
  "nbformat": 4,
  "nbformat_minor": 5
}
